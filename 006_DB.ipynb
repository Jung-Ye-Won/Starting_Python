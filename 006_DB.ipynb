{
 "cells": [
  {
   "cell_type": "code",
   "execution_count": null,
   "metadata": {},
   "outputs": [],
   "source": [
    "#pymysql : mariadb 접속 프로그램(패키지)\n",
    "#loopback ip 로컬에서쓰는 ip = host='127.0.0.1'\n",
    "#autocommit=True -> insert into, update set, delete from한뒤 commit수작업을 안해줘도 된다."
   ]
  },
  {
   "cell_type": "code",
   "execution_count": null,
   "metadata": {},
   "outputs": [],
   "source": [
    "import pymysql\n",
    "conn = pymysql.connect(host='127.0.0.1', port=3306, user='root', \n",
    "                       password='10042356', use_unicode=True, db=\"sungjuk_test\", charset='utf8', autocommit=True)\n",
    "cursor = conn.cursor()\n",
    "cursor.execute(\"\"\"\n",
    "Create table persons(\n",
    "id INT NOT NULL,\n",
    "name VARCHAR(100),\n",
    "salesrep VARCHAR(100),\n",
    "PRIMARY KEY(id)\n",
    ")\n",
    "\"\"\")"
   ]
  },
  {
   "cell_type": "code",
   "execution_count": null,
   "metadata": {},
   "outputs": [],
   "source": [
    "cur.executemany( #여러개일때는 many 하나일때는.execute\n",
    "    \"INSERT into persons values( %s, %s, %s)\",\n",
    "    [(1,\"부산만\",\"매니저\"),\n",
    "    (2, \"트럼프\",\"문재인\"),\n",
    "    (3, \"아베\", \"문재인\")])\n",
    "conn.commit()"
   ]
  },
  {
   "cell_type": "code",
   "execution_count": 12,
   "metadata": {},
   "outputs": [
    {
     "name": "stdout",
     "output_type": "stream",
     "text": [
      "ID=3, Name=아베\n",
      "(3, '아베', '문재인')\n"
     ]
    }
   ],
   "source": [
    "cursor.execute('select * from persons where name = %s', '아베') #포맷(쿼리문)을 유지하면서 찾고자하는 값만 바꾸고 싶은 경우를 위해\n",
    "#cursor를 실행하면 recordset이 넘어오고\n",
    "row = cursor.fetchone() #한개의 데이터를 가져온다.\n",
    "print(\"ID=%d, Name=%s\"% (row[0],row[1])) #인덱스로 데이터를 접근하고 있다.\n",
    "print(row)"
   ]
  },
  {
   "cell_type": "code",
   "execution_count": null,
   "metadata": {},
   "outputs": [],
   "source": [
    "cursor.execute(\"\"\"\n",
    "Create table pet(\n",
    "id INT NOT NULL AUTO_INCREMENT,\n",
    "name VARCHAR(50) NOT NULL,\n",
    "owner VARCHAR(50),\n",
    "species VARCHAR(50),\n",
    "sex CHAR(2),\n",
    "birth DATE,\n",
    "death DATE,\n",
    "PRIMARY KEY(id)\n",
    ")\n",
    "\"\"\")"
   ]
  },
  {
   "cell_type": "code",
   "execution_count": null,
   "metadata": {},
   "outputs": [],
   "source": [
    "cursor.executemany( \n",
    "    \"INSERT into pet(name, owner, species, sex, birth, death) values( %s, %s, %s, %s, %s, %s)\",\n",
    "    [(\"인천시\",\"민주\", \"cat\", \"f\", '2001-02-04', None),\n",
    "    (\"대구시\", \"자유\", \"cat\", \"f\", '2010-03-17', None),\n",
    "    (\"대전시\", \"민주\", \"dog\", \"f\", '2010-05-13', None),\n",
    "    (\"광주시\", \"민주\", \"dog\", \"m\", '2015-08-27', None),\n",
    "    (\"부산시\", \"자유\", \"dog\", \"m\", '2017-08-31', '2018-04-29')])\n",
    "conn.commit()"
   ]
  },
  {
   "cell_type": "code",
   "execution_count": null,
   "metadata": {},
   "outputs": [],
   "source": [
    "#birth 가 2015.1.1 일 이후인 데이터를 출력하시오\n",
    "#dog이면서 'f'인 데이터를 출력하시오\n",
    "#name과 birth만 birth순으로 내림차순 정렬하여 출력하시오\n",
    "#death가 null인 데이터만 출력하시오\n",
    "cursor.execute(\"\"\"\n",
    "select * from pet where birth>='2015-01-01';\n",
    "\"\"\")\n",
    "row = cursor.fetchall()\n",
    "pet_select = list(row) #받아온 데이터를 list에 저장해서 출력해야 보기가 편하다.\n",
    "for per in pet_select:\n",
    "    print(per)"
   ]
  },
  {
   "cell_type": "code",
   "execution_count": null,
   "metadata": {},
   "outputs": [],
   "source": [
    "cursor.execute(\"\"\"\n",
    "select * from pet where species='dog' and sex='f';\n",
    "\"\"\")\n",
    "row2 = cursor.fetchall()\n",
    "pet_select = list(row)\n",
    "for per in pet_select:\n",
    "    print(per)"
   ]
  },
  {
   "cell_type": "code",
   "execution_count": null,
   "metadata": {},
   "outputs": [],
   "source": [
    "cursor.execute(\"\"\"\n",
    "select name,birth from pet order by birth desc;\n",
    "\"\"\")\n",
    "row2 = cursor.fetchall()\n",
    "pet_select = list(row)\n",
    "for per in pet_select:\n",
    "    print(per)"
   ]
  },
  {
   "cell_type": "code",
   "execution_count": null,
   "metadata": {},
   "outputs": [],
   "source": [
    "cursor.execute(\"\"\"\n",
    "select * from pet where death is null;\n",
    "\"\"\")\n",
    "row2 = cursor.fetchall()\n",
    "pet_select = list(row)\n",
    "for per in pet_select:\n",
    "    print(per)\n",
    "conn.commit()"
   ]
  },
  {
   "cell_type": "code",
   "execution_count": null,
   "metadata": {},
   "outputs": [],
   "source": [
    "conn = pymysql.connect(host='127.0.0.1', user='root', port=3306, password='10042356', db='sungjuk_test', charset='utf8', \n",
    "                      cursorclass=pymysql.cursors.DictCursor, autocommit=True)\n",
    "cur = conn.cursor()"
   ]
  },
  {
   "cell_type": "code",
   "execution_count": null,
   "metadata": {},
   "outputs": [],
   "source": [
    "cur.execute('select * from pet')\n",
    "print(cur.rowcount) #쿼리의 상태를 알수있다.(rowcount) 성공여부를 알수있다.\n",
    "cur.description"
   ]
  },
  {
   "cell_type": "code",
   "execution_count": null,
   "metadata": {},
   "outputs": [],
   "source": [
    "cur.fetchone() #하나씩 갖고옴\n",
    "cur.fetchone()\n",
    "cur.fetchone()\n",
    "recs=cur.fetchmany(2) #다지나가면 안갖고옴 다시갖고 와야한다. 한번 넘어가면 없어진다.(순환하지 않는다.)\n",
    "for rec in recs:\n",
    "    print(rec)"
   ]
  },
  {
   "cell_type": "code",
   "execution_count": null,
   "metadata": {},
   "outputs": [],
   "source": [
    "resc = cur.fetchall()\n",
    "for rec in recs:\n",
    "    print(rec)\n",
    "cur.close() #반드시 커서와 connection 객체는 close해야한다. : os자원을 낭비하기 때문에\n",
    "conn.close() #close한 다음에는 다시 생성해야한다."
   ]
  },
  {
   "cell_type": "code",
   "execution_count": 1,
   "metadata": {},
   "outputs": [],
   "source": [
    "import pymysql\n",
    "conn = pymysql.connect(host='127.0.0.1', user='root', port=3306, password='10042356', db='sungjuk_test', charset='utf8', \n",
    "                      cursorclass=pymysql.cursors.DictCursor, autocommit=True)\n",
    "cur = conn.cursor()"
   ]
  },
  {
   "cell_type": "code",
   "execution_count": 2,
   "metadata": {},
   "outputs": [
    {
     "name": "stdout",
     "output_type": "stream",
     "text": [
      "ID=1, name=인천시\n",
      "ID=2, name=대구시\n",
      "ID=3, name=대전시\n",
      "ID=4, name=광주시\n",
      "ID=5, name=부산시\n",
      "ID=6, name=인천시\n",
      "ID=7, name=부산시\n",
      "ID=8, name=부산시\n"
     ]
    }
   ],
   "source": [
    "cur.callproc('pet_all') #디폴트가 리스트 DictCursor 딕트형식으로 뽑혀져 온다.\n",
    "for row in cur:\n",
    "    print(\"ID=%s, name=%s\" %(row[\"id\"], row[\"name\"]))"
   ]
  },
  {
   "cell_type": "code",
   "execution_count": 3,
   "metadata": {},
   "outputs": [
    {
     "name": "stdout",
     "output_type": "stream",
     "text": [
      "ID=1, name=인천시\n",
      "ID=2, name=대구시\n",
      "ID=3, name=대전시\n",
      "ID=4, name=광주시\n",
      "ID=5, name=부산시\n",
      "ID=6, name=인천시\n",
      "ID=7, name=부산시\n",
      "ID=8, name=부산시\n",
      "ID=9, name=부산시\n"
     ]
    }
   ],
   "source": [
    "#문제 insert procedue을 만들고 다음data를 입력하시오.\n",
    "data = (\"인천시\", \"자유\", \"dog\", \"m\", \"2017-08-31\", \"2018-04-29\", 0) #result의 공간을 채워서 보내야 한다.\n",
    "data2 = (\"부산시\", \"민주\", \"cat\", \"m\", \"2001-02-04\", \"2019-12-31\", 0)\n",
    "cur.callproc('pet_insert', data2)\n",
    "cur.callproc('pet_all')\n",
    "for row in cur:\n",
    "    print(\"ID=%s, name=%s\" %(row[\"id\"], row[\"name\"]))"
   ]
  },
  {
   "cell_type": "code",
   "execution_count": 22,
   "metadata": {},
   "outputs": [
    {
     "name": "stdout",
     "output_type": "stream",
     "text": [
      "실패했습니다.\n"
     ]
    }
   ],
   "source": [
    "#문제\n",
    "#update 프로시져를 만들고 부산시의 이름을 부산항으로 바꾸시오.\n",
    "#만약 입력이 성공하면 성공했습니다. 라는 메세지를 출력하시오.\n",
    "data = (\"인천시\",\"부산항\",1)\n",
    "cur.callproc('pet_updatename', data)\n",
    "cur.execute('select @_pet_updatename_2')\n",
    "result = cur.fetchone()\n",
    "if result['@_pet_updatename_2']==-1:\n",
    "    print(\"실행중 에러가 발생했습니다.\")\n",
    "elif result['@_pet_updatename_2']==0:\n",
    "    print(\"성공하였습니다.\")\n",
    "else: print(\"실패했습니다.\")\n",
    "for row in cur:\n",
    "    print(row)"
   ]
  },
  {
   "cell_type": "code",
   "execution_count": null,
   "metadata": {},
   "outputs": [],
   "source": []
  },
  {
   "cell_type": "code",
   "execution_count": null,
   "metadata": {},
   "outputs": [],
   "source": []
  },
  {
   "cell_type": "code",
   "execution_count": null,
   "metadata": {},
   "outputs": [],
   "source": []
  },
  {
   "cell_type": "code",
   "execution_count": null,
   "metadata": {},
   "outputs": [],
   "source": []
  }
 ],
 "metadata": {
  "kernelspec": {
   "display_name": "Python 3",
   "language": "python",
   "name": "python3"
  },
  "language_info": {
   "codemirror_mode": {
    "name": "ipython",
    "version": 3
   },
   "file_extension": ".py",
   "mimetype": "text/x-python",
   "name": "python",
   "nbconvert_exporter": "python",
   "pygments_lexer": "ipython3",
   "version": "3.7.6"
  }
 },
 "nbformat": 4,
 "nbformat_minor": 4
}
