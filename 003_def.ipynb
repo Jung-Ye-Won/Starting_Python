{
 "cells": [
  {
   "cell_type": "code",
   "execution_count": null,
   "metadata": {},
   "outputs": [],
   "source": [
    "#문제 : 3인분의 성적프로그램을 만들기\n",
    "#3명의 데이터를 입력한다.\n",
    "#합계, 평균(소수점2째자리까지), 석차, 학점을 출력합니다.\n",
    "#입력데이터는 번호, 이름, 국어, 영어, 수학\n",
    "#처리순서는 입력, 처리, 출력으로 구분해서 처리합니다.\n",
    "final = []\n",
    "for i in range(3):\n",
    "    sungjuk = []\n",
    "    num=input(\"번호를 입력하시오\")\n",
    "    name=input(\"이름을 입력하시오\")\n",
    "    kor=input(\"국어점수를 입력하시오\")\n",
    "    mat=input(\"수학점수를 입력하시오\")\n",
    "    eng=input(\"영어점수를 입력하시오\")\n",
    "    sungjuk.append(num)\n",
    "    sungjuk.append(name)\n",
    "    sungjuk.append(kor)\n",
    "    sungjuk.append(mat)\n",
    "    sungjuk.append(eng)\n",
    "\n",
    "    tot = int(kor)+int(mat)+int(eng)\n",
    "    avg = round(tot/3,2)\n",
    "    if avg>=90: grade='A'\n",
    "    elif avg>=80: grade='B'\n",
    "    elif avg>=70: grade='C'\n",
    "    elif avg>=60: grade='D'\n",
    "    else: grade='F'\n",
    "    sungjuk.append(tot)\n",
    "    sungjuk.append(avg)\n",
    "    sungjuk.append(grade)\n",
    "    final.append(sungjuk)\n",
    "    print(sungjuk)\n",
    "\n",
    "print(final)\n",
    "\n",
    "tot_list=[\"번호\",\"이름\",\"국어\",\"수학\",\"영어\",\"총점\",\"평균\",\"등급\",\"석차\"]\n",
    "\n",
    "#비용이 비싸므로 평균대신 합계로 정렬한다.\n",
    "final.sort(key=lambda row:row[5],reverse=True)\n",
    "rank=0\n",
    "for i in range(len(final)): #정렬된대로 등수를 넣었다. 0,1,2\n",
    "    rank+=1 #1,2,3\n",
    "    final[i].append(rank) #아예 요소를 추가하였다.\n",
    "final.sort(key=lambda row:row[0]) #다시 번호순으로 재정렬\n",
    "\n",
    "for j in range(len(tot_list)): #요소의 갯수만큼 돌아감\n",
    "    print(tot_list[j], end=\"\")\n",
    "for i in range(len(final)): #행수를셈\n",
    "    print(\"\\n\") #1명끝나고 엔터\n",
    "    for j in range(len(final[0])): #요소수를셈\n",
    "        print(final[i][j], end=\" \")"
   ]
  },
  {
   "cell_type": "code",
   "execution_count": null,
   "metadata": {},
   "outputs": [],
   "source": [
    "#문제 : 숫자 맞추기 게임\n",
    "#컴퓨터는 랜덤으로 숫자를 발생시킵니다.(1~100)\n",
    "#사용자가 숫자를 입력합니다.\n",
    "#컴퓨터가 낸 숫자와 사용자가 입력한 숫자가 일치하는지 확인하고 일치하면 종료, 아니면 게임을 진행\n",
    "#맞추지 못하면 사용자가 입력한 숫자가 컴퓨터가 낸 수보다 작은지 큰지를 알려줍니다.\n",
    "#무한루프로 진행하고 Q를 누르면 종료되도록 하시오\n",
    "\n",
    "import sys\n",
    "from random import randint\n",
    "\n",
    "while True:\n",
    "    print(\"컴퓨터가 다음 게임을 위해 수를 선택하였습니다.\")\n",
    "    n = random.randint(1,100)\n",
    "    count=0\n",
    "    while True:\n",
    "        ans = input(\"상상의수를 입력(Q는 종료)\")\n",
    "        if ans.upper()==\"Q\":\n",
    "            sys.exit()\n",
    "        count+=1\n",
    "        ians = int(ans)\n",
    "        if(n==ians):\n",
    "            print(\"정답\")\n",
    "            break\n",
    "        elif(n>ians):\n",
    "            print(\"보다 높은수를 입력하시오\")\n",
    "        else:\n",
    "            print(\"보다 낮은수를 입력하시오\")\n",
    "        if count>=10:\n",
    "            print(\"횟수가 초과되었습니다.\")\n",
    "            break"
   ]
  },
  {
   "cell_type": "code",
   "execution_count": null,
   "metadata": {},
   "outputs": [],
   "source": [
    "#위에다 전체게임의 수를 적용하고 전체 게임횟수와 이긴횟수를 게임종료시 출력하시오\n",
    "\n",
    "import sys\n",
    "from random import randint\n",
    "\n",
    "score=0\n",
    "total=0\n",
    "\n",
    "while True:\n",
    "    print(\"게임을 진행합니다.\")\n",
    "    rannum = random.randint(1,100)\n",
    "    count=0\n",
    "    total+=1\n",
    "\n",
    "    while True:\n",
    "        ans = input(\"상상의수를 입력(Q는 종료)\")\n",
    "        if ans.upper()==\"Q\":\n",
    "            print(\"총 게임횟수는 \",total,\"번, 이긴 횟수는 \",score,\"입니다.\")\n",
    "            sys.exit()\n",
    "        count+=1\n",
    "        ians = int(ans)\n",
    "        if(rannum==ians):\n",
    "            print(\"정답\")\n",
    "            score+=1\n",
    "            break\n",
    "        elif(rannum>ians):\n",
    "            print(\"보다 높은수를 입력하시오\")\n",
    "        else:\n",
    "            print(\"보다 낮은수를 입력하시오\")\n",
    "        if count>=10:\n",
    "            print(\"횟수가 초과되었습니다.\")\n",
    "            break"
   ]
  },
  {
   "cell_type": "code",
   "execution_count": 43,
   "metadata": {},
   "outputs": [
    {
     "name": "stdout",
     "output_type": "stream",
     "text": [
      "게임을 진행합니다.\n",
      "상상의수를 입력(Q는 종료)50\n",
      "보다 낮은수를 입력하시오\n",
      "상상의수를 입력(Q는 종료)25\n",
      "보다 높은수를 입력하시오\n",
      "상상의수를 입력(Q는 종료)37\n",
      "보다 낮은수를 입력하시오\n",
      "상상의수를 입력(Q는 종료)32\n",
      "보다 낮은수를 입력하시오\n",
      "상상의수를 입력(Q는 종료)48\n",
      "보다 낮은수를 입력하시오\n",
      "상상의수를 입력(Q는 종료)28\n",
      "보다 낮은수를 입력하시오\n",
      "상상의수를 입력(Q는 종료)26\n",
      "보다 높은수를 입력하시오\n",
      "상상의수를 입력(Q는 종료)27\n",
      "정답\n",
      "게임을 진행합니다.\n",
      "상상의수를 입력(Q는 종료)50\n",
      "보다 높은수를 입력하시오\n",
      "상상의수를 입력(Q는 종료)75\n",
      "보다 낮은수를 입력하시오\n",
      "상상의수를 입력(Q는 종료)62\n",
      "보다 높은수를 입력하시오\n",
      "상상의수를 입력(Q는 종료)68\n",
      "보다 낮은수를 입력하시오\n",
      "상상의수를 입력(Q는 종료)65\n",
      "보다 높은수를 입력하시오\n",
      "상상의수를 입력(Q는 종료)66\n",
      "정답\n",
      "게임을 진행합니다.\n",
      "상상의수를 입력(Q는 종료)Q\n",
      "총 게임횟수는  3 번, 이긴 횟수는  2 번, 평균 시도횟수는  5 입니다.\n"
     ]
    },
    {
     "ename": "SystemExit",
     "evalue": "",
     "output_type": "error",
     "traceback": [
      "An exception has occurred, use %tb to see the full traceback.\n",
      "\u001b[1;31mSystemExit\u001b[0m\n"
     ]
    }
   ],
   "source": [
    "#위에다 전체게임의 수를 적용하고 전체 게임횟수와 이긴횟수를 게임종료시 출력하시오\n",
    "#한게임당 평균 시도횟수는 얼마냐?\n",
    "\n",
    "import sys\n",
    "from random import randint\n",
    "\n",
    "score=0\n",
    "total=0\n",
    "trygame=1\n",
    "\n",
    "while True:\n",
    "    print(\"게임을 진행합니다.\")\n",
    "    rannum = random.randint(1,100)\n",
    "    count=0\n",
    "    total+=1\n",
    "\n",
    "    while True:\n",
    "        ans = input(\"상상의수를 입력(Q는 종료)\")\n",
    "        trygame+=1\n",
    "        if ans.upper()==\"Q\":\n",
    "            print(\"총 게임횟수는 \",total,\"번, 이긴 횟수는 \",score,\"번, 평균 시도횟수는 \",round(trygame/total),\"입니다.\")\n",
    "            sys.exit()\n",
    "        count+=1\n",
    "        ians = int(ans)\n",
    "        if(rannum==ians):\n",
    "            print(\"정답\")\n",
    "            score+=1\n",
    "            break\n",
    "        elif(rannum>ians):\n",
    "            print(\"보다 높은수를 입력하시오\")\n",
    "        else:\n",
    "            print(\"보다 낮은수를 입력하시오\")\n",
    "        if count>=10:\n",
    "            print(\"횟수가 초과되었습니다.\")\n",
    "            break\n",
    "            \n",
    "print(final)"
   ]
  },
  {
   "cell_type": "code",
   "execution_count": null,
   "metadata": {},
   "outputs": [],
   "source": [
    "#문제 놀이공원 매표소 단체 입장료 계산하기\n",
    "#조건 : 팀별 인원 구성입력(초등, 청소년, 일반인, 경로대상)\n",
    "#정산요금 : 초등(5000), 청소년(10000), 일반인(15000), 경로대상(3000)\n",
    "#팀별 할인 카드 : 카드없음(할인x), 일반카드(10%), VIP(20%)\n",
    "#총요금을 출력하시오\n",
    "\n",
    "ele = int(input(\"초등학생의 수를 입력하시오\"))\n",
    "stu = int(input(\"청소년의 수를 입력하시오\"))\n",
    "adl = int(input(\"성인의 수를 입력하시오\"))\n",
    "old = int(input(\"경로대상의 수를 입력하시오\"))\n",
    "\n",
    "money = (ele*5000) + (stu*10000) + (adl*15000) + (old*3000)\n",
    "\n",
    "discount = int(input(\"카드없음(0), 일반카드(1), VIP(2)를 선택해주세요.\"))\n",
    "select=[money, money*0.9, money*0.8]\n",
    "print(\"총 \",select[discount],\"원 입니다.\") #if 문보다 속도가 빠르다. 인덱스의 위치를 찾아가는 방식"
   ]
  },
  {
   "cell_type": "code",
   "execution_count": null,
   "metadata": {},
   "outputs": [],
   "source": [
    "#소득세계산(누진세율)\n",
    "#다음 소득 세율표를 보고 소득이 입력되면 세금이 얼마인지 계산해 보시오\n",
    "#(연봉:단순히세금만 계산합니다.)\n",
    "#연봉 1천만원 미만시 9.5%\n",
    "#연봉 1~4천만원 19%\n",
    "#연봉 4~8천만원 28%\n",
    "#연봉 8천만원이상 38%\n",
    "\n",
    "income = int(input(\"소득을 입력해 주세요.(단위 만원)\"))\n",
    "if income>=8000:\n",
    "    tax=(income-8000)*0.37 + 4000*0.28 + 3000*0.19 + 1000*0.095\n",
    "elif income>=4000:\n",
    "    tax=(income-4000)*0.28 + 3000*0.19 + 1000*0.095\n",
    "elif income>=4000:\n",
    "    tax=(income-1000)*0.19 + 1000*0.095\n",
    "else:\n",
    "    tax=income*0.095\n",
    "    \n",
    "print(\"귀하의 소득(연봉)은 \",income,\"만원, 세금은 \",tax*10000,\"원 입니다.\")"
   ]
  },
  {
   "cell_type": "code",
   "execution_count": null,
   "metadata": {},
   "outputs": [],
   "source": [
    "numberRows = int(input(\"숫자를 입력하시오\"))\n",
    "for i in range(numberRows):\n",
    "    for j in range(numberRows):\n",
    "        print(\"*\", end=\"\")\n",
    "    print()    "
   ]
  },
  {
   "cell_type": "code",
   "execution_count": null,
   "metadata": {},
   "outputs": [],
   "source": [
    "numberRows = int(input(\"숫자를 입력하시오\"))\n",
    "\n",
    "for j in range(numberRows):\n",
    "    print(\"*\"*(j+1))\n",
    "\n",
    "    \n",
    "numberRows = int(input(\"숫자를 입력하시오\"))\n",
    "for i in range(numberRows):\n",
    "    for j in range(i+1):\n",
    "        print(\"*\", end=\"\")\n",
    "    print() "
   ]
  },
  {
   "cell_type": "code",
   "execution_count": null,
   "metadata": {},
   "outputs": [],
   "source": [
    "numberRows = int(input(\"숫자를 입력하시오\"))\n",
    "\n",
    "for j in range(numberRows):\n",
    "    print(\" \"*(numberRows-j-1),\"*\"*(j+1))\n",
    "    \n",
    "numberRows = int(input(\"숫자를 입력하시오\"))\n",
    "for i in range(numberRows):\n",
    "    for k in range(numberRows-1):\n",
    "        print(\"*\", end=\"\")\n",
    "    for j in range(i+1):\n",
    "        print(\"*\", end=\"\")\n",
    "    print() "
   ]
  },
  {
   "cell_type": "code",
   "execution_count": null,
   "metadata": {},
   "outputs": [],
   "source": [
    "for i in range(1,11):\n",
    "    print(\"\"*(10-i), \"*\"*i)\n",
    "#문자열을 반복을 이용해서 해주었다."
   ]
  },
  {
   "cell_type": "code",
   "execution_count": null,
   "metadata": {},
   "outputs": [],
   "source": [
    "a=10\n",
    "b=20\n",
    "def swap(x,y):\n",
    "    return y,x #함수의 다중리턴을 이용해서 값을 바꾸었다. 파이썬에서만 사용할 수 있는 편리한 기능\n",
    "a,b = swap(b,a)\n",
    "x=swap(a,b)\n",
    "print(x)"
   ]
  },
  {
   "cell_type": "code",
   "execution_count": null,
   "metadata": {},
   "outputs": [],
   "source": [
    "a = 1 #전역변수\n",
    "def local():\n",
    "    global a #전역변수처럼 값을 바꾸겠다. 적어주면 값이 3으로 바뀐다.\n",
    "    a=3 #지역변수\n",
    "    print(\"global a \"+str(a))\n",
    "a=10\n",
    "print(a) #10\n",
    "local() #global a 3\n",
    "print(a) #3"
   ]
  },
  {
   "cell_type": "code",
   "execution_count": null,
   "metadata": {},
   "outputs": [],
   "source": [
    "#파이썬의 함수는 1급함수\n",
    "#1급함수 = 매개변수로 전달될 수 있고, return값으로 사용할 수 있고, 변수에 대입도 가능한 함수\n",
    "\n",
    "def add(a,b):\n",
    "    return a+b\n",
    "def sub(a,b):\n",
    "    return a-b\n",
    "def mul(a,b):\n",
    "    return a*b\n",
    "def f(g,a,b):\n",
    "    return g(a,b) #g가 함수라는 소리다.\n",
    "print('add의 결과',add(10,20))\n",
    "addition=add\n",
    "print(\"addition의 결과\",addition(10,20)) #함수에 대입하고 호출해도 똑같이 작동한다.\n",
    "#pointer에 의해 주소값이 전달되기 때문에 모든게 객체라 무관하다.\n",
    "print(\"결과:\",f(add, 10, 20))\n",
    "f(sub,20,10) #함수의 매개변수로 함수를 호출할 수 있다.\n",
    "f(mul,10,20)"
   ]
  },
  {
   "cell_type": "code",
   "execution_count": 2,
   "metadata": {},
   "outputs": [
    {
     "name": "stdout",
     "output_type": "stream",
     "text": [
      "함수내부에서의 출력 : [10, 20, 30, [1, 2, 3, 4]]\n",
      "함수외부에서 출력 : [10, 20, 30, [1, 2, 3, 4]]\n",
      "함수내부에서의 출력 : [1, 2, 3, 4]\n",
      "함수외부에서 출력 : [10, 20, 30]\n"
     ]
    }
   ],
   "source": [
    "#call by reference and call by value(자바)\n",
    "#파이썬에서는 모두 레퍼런스로 넘긴다. but 대입이 벌어지면 value를 넘긴다.\n",
    "\n",
    "def changeme(mylist): #스텍의 체인지미 안에 있는 mylist\n",
    "    mylist.append([1,2,3,4])\n",
    "    print(\"함수내부에서의 출력 :\",mylist)\n",
    "    return\n",
    "mylist = [10,20,30]\n",
    "changeme(mylist)\n",
    "print(\"함수외부에서 출력 :\",mylist)\n",
    "\n",
    "def changeme(mylist):\n",
    "    mylist=[1,2,3,4] #지역변수로 밖을 빠져나오지 못한다. (주소가 바뀌었다.)\n",
    "    print(\"함수내부에서의 출력 :\",mylist)\n",
    "    return\n",
    "mylist = [10,20,30]\n",
    "changeme(mylist)\n",
    "print(\"함수외부에서 출력 :\",mylist)"
   ]
  },
  {
   "cell_type": "code",
   "execution_count": 3,
   "metadata": {},
   "outputs": [
    {
     "name": "stdout",
     "output_type": "stream",
     "text": [
      "시작\n",
      "1,2,3,\n",
      "1,2,3,4,5,\n"
     ]
    }
   ],
   "source": [
    "#변동 매개변수\n",
    "def func1(*args): #*=리스트로 들어온다.\n",
    "    for i in args:\n",
    "        print(i, end=\",\")\n",
    "    print()\n",
    "print(\"시작\")\n",
    "func1(1,2,3) #매개변수 하나로 취급하고있다.\n",
    "func1(1,2,3,4,5)\n",
    "#파이썬은 정해진 매개변수 숫자와 입력되는 숫자가 같아야한다.\n",
    "#default, 변동매개변수"
   ]
  },
  {
   "cell_type": "code",
   "execution_count": null,
   "metadata": {},
   "outputs": [],
   "source": [
    "def func_test2(a,b=0): #디폴트(defalut) 매개변수화 시켜놓으면 하나가 들어오는경우 b값을 지정된 것으로 쓰고 a값에 대입시킨다.\n",
    "    #디폴트 매개변수는 무조건 뒤에 와야한다. b=0,a는 불가능\n",
    "    print(a,b)\n",
    "func_test2(1)\n",
    "func_test2(1,2)\n",
    "func_test2(b=2, a=1) #key parameter 순서를 바꿔서 넣을 수 있다.(매개변수의 변수를 명시해주는경우)"
   ]
  },
  {
   "cell_type": "code",
   "execution_count": 4,
   "metadata": {},
   "outputs": [
    {
     "name": "stdout",
     "output_type": "stream",
     "text": [
      "args :  (1, 2)\n",
      "kwargs :  {'z': 5}\n",
      "1\n",
      "2\n",
      "5\n"
     ]
    },
    {
     "data": {
      "text/plain": [
       "0.4"
      ]
     },
     "execution_count": 4,
     "metadata": {},
     "output_type": "execute_result"
    }
   ],
   "source": [
    "def say_hello_then_call(f, *args, **kwargs): #리스트 변동매개변수, 딕셔너리 변동매개변수\n",
    "    print('args : ', args) #매개변수로 들어온놈 출력\n",
    "    print('kwargs : ',kwargs)\n",
    "    return f(*args, **kwargs) #매개변수로 들어온놈의 함수를 호출\n",
    "def g(x,y,z=1): #return값에 *를 붙여주었기 때문에 찢어져서 들어간다.\n",
    "    print(x)\n",
    "    print(y)\n",
    "    print(z)\n",
    "    return (x*y)/z\n",
    "say_hello_then_call(g,1,2,z=5) #z는 키 데이터인 dict형태\n",
    "#1,2는 리스트 형태로 args에 들어간다.\n",
    "#**는 딕셔너리 변동매개변수로 딕셔너리 자료형인 z만 들어간다."
   ]
  },
  {
   "cell_type": "code",
   "execution_count": 5,
   "metadata": {},
   "outputs": [],
   "source": [
    "#함수도 다른 함수의 매개변수로 전달이 가능하다.\n",
    "#리스트 형태로 입력되는것은 리스트 변동매개변수로, 키=데이터 형식입력되는 것은 dict변동매개변수로 전달이 된다."
   ]
  },
  {
   "cell_type": "code",
   "execution_count": 10,
   "metadata": {},
   "outputs": [
    {
     "name": "stdout",
     "output_type": "stream",
     "text": [
      "1.4142135623730951\n"
     ]
    }
   ],
   "source": [
    "#문제 : 두점 사이의 거리를 구하는 함수를 작성하시오\n",
    "import math #기본적인 함수를 제외하고 수학 함수들이 들어있다.\n",
    "\n",
    "def distance(x1,y1,x2,y2):\n",
    "    \"\"\"형식을 유지한 문자열\"\"\"\n",
    "    dis = math.sqrt((x1-y1)**2 + (x2-y2)**2)\n",
    "    return dis\n",
    "\n",
    "point1 = (1,2)\n",
    "point2 = (2,3)\n",
    "dis = distance(*point1,*point2)\n",
    "print(dis)\n",
    "\n",
    "print(distance) #함수의 주소값을 표기한다.\n",
    "?distance"
   ]
  },
  {
   "cell_type": "code",
   "execution_count": 11,
   "metadata": {},
   "outputs": [
    {
     "name": "stdout",
     "output_type": "stream",
     "text": [
      "0.6423729457526111\n",
      "0.09894503971233237\n",
      "0.07283181059452293\n",
      "0.8769787963404114\n",
      "0.9558294957153218\n"
     ]
    }
   ],
   "source": [
    "#generator\n",
    "import random\n",
    "def gaus_dist(n):\n",
    "    while n>0:\n",
    "        yield random.random() #yield에서 실행을 멈추고 대기한다.\n",
    "        n-=1\n",
    "gd=gaus_dist(5) #클래스 인스턴스 하듯이 실행을 시켜 변수에 대입을 하면 함수의 객체가 메모리에서 실행대기상태(yield)에 빠진다.\n",
    "for i in gd: #값을 요구하는 in 객체 뒤에 들어가서 for문을 쓰게되면 값을 넣어주고 -1이된다.\n",
    "    print(i) #return값이 없었는데 \n",
    "#이터레이터 - 반복자 (range도 포함) #자바에서 자료구조 반복문에 사용했었음\n",
    "#제너레이터해서 그때그때 싱행/발생을 시킨다. 메모리를 낭비하지 않고 for문을 사용할때사용\n",
    "#generator, iterator(range), collections, enumerate()\n",
    "#메모리를 차지하지 않고 수를 발생시킨다."
   ]
  },
  {
   "cell_type": "code",
   "execution_count": 15,
   "metadata": {},
   "outputs": [
    {
     "name": "stdout",
     "output_type": "stream",
     "text": [
      "python's recipe no.1\n",
      "perl's recipe no.2\n"
     ]
    },
    {
     "data": {
      "text/plain": [
       "(2935011483224, 2935011483512)"
      ]
     },
     "execution_count": 15,
     "metadata": {},
     "output_type": "execute_result"
    }
   ],
   "source": [
    "#함수가 정의되면 위치가 단일하다\n",
    "#한군데밖에 없어야한다 함수가\n",
    "#clouser : 함수가 함수를 리턴한다. 데코레이터(장식자) 를 만들때 사용한다.\n",
    "#파이썬에서는 장식자가 발달되어있다.\n",
    "def cookbook(name): #저장된 값을 유지하고있다.(ex)'python','perl')\n",
    "    def recipe(no):\n",
    "        print(\"%s's recipe no.%d\"% (name, no))\n",
    "    return recipe\n",
    "python_recipe = cookbook('python')\n",
    "perl_recipe = cookbook('perl')\n",
    "python_recipe(1)\n",
    "perl_recipe(2)\n",
    "id(python_recipe), id(perl_recipe)\n",
    "#함수가 함수를 리턴하는 경우는 끝이안난다.(값을 저장하고 있는다.)\n",
    "#자바스크립트에서 class대신 사용하였다."
   ]
  },
  {
   "cell_type": "code",
   "execution_count": 18,
   "metadata": {},
   "outputs": [
    {
     "name": "stdout",
     "output_type": "stream",
     "text": [
      "이번주 작업시간을 입력하시오46\n",
      "시간당 급여를 입력하시오 단위(원)9000\n",
      "당신의 이번주 근무시간은  46 시간, 이번주 주급은  621000 원 입니다.\n"
     ]
    }
   ],
   "source": [
    "#문제 : 총근무시간과 시간당 급여를 입력받아 주급을 계산하는 프로그램을 작성하시오\n",
    "#조건 : 40시간이 넘으면 1.5배하여 지급\n",
    "#함수의 매개변수는 시간당 급여와 주작업시간이다.\n",
    "#주의할점 상수가 있으면 변수화하라, 함수를 만들때는 전역변수사용을 삼가하라.\n",
    "\n",
    "def sal(pay, time):\n",
    "    basictime = 40 #의미를 알게하기위해, 데이터를 변화시키지 편하기위해 변수를 사용하여 상수를 변수화하여 사용하는 것이 좋다.\n",
    "    if time>=basictime: wage = pay*(time-basictime)*1.5 + pay*basictime\n",
    "    else: wage = pay*time\n",
    "    return wage\n",
    "\n",
    "time = input(\"이번주 작업시간을 입력하시오\")\n",
    "pay = input(\"시간당 급여를 입력하시오 단위(원)\")\n",
    "wage = sal(int(pay),int(time))\n",
    "print(\"당신의 이번주 근무시간은 \", time, \"시간, 이번주 주급은 \", round(wage),\"원 입니다.\")"
   ]
  },
  {
   "cell_type": "code",
   "execution_count": 28,
   "metadata": {},
   "outputs": [
    {
     "name": "stdout",
     "output_type": "stream",
     "text": [
      "원금을 얼마 넣으시겠습니까?90000000\n",
      "기간을 입력해주세요 단위(년)5\n",
      "총금액 = 109,498,761.22원 이자액 = 19498761.216000\n"
     ]
    }
   ],
   "source": [
    "# 이자율이 주어졌을때 거치기간후의 총액과 이자수익을 출력하시오(복리)\n",
    "#복리계산 : 원가 * ((1+0.04) ** 거치기간)\n",
    "#매개변수 : 원금, 거치기간\n",
    "#단서조건 : 계산함수, 출력함수로 분리해서 작성하시오\n",
    "    \n",
    "def interest(principal, year):\n",
    "    interest_rate = 0.04\n",
    "    balance = principal * (1.04**year)\n",
    "    interest = balance-principal\n",
    "    return (balance, interest)\n",
    "def main():\n",
    "    prin = input(\"원금을 얼마 넣으시겠습니까?\")\n",
    "    year = input(\"기간을 입력해주세요 단위(년)\")\n",
    "    balance,inter = interest(int(prin),int(year))\n",
    "    print(\"총금액 = {0:,.2f}원 이자액 = {1:2f}\".format(balance,inter))\n",
    "\n",
    "main()"
   ]
  },
  {
   "cell_type": "code",
   "execution_count": 35,
   "metadata": {},
   "outputs": [
    {
     "name": "stdout",
     "output_type": "stream",
     "text": [
      "원금을 얼마 넣으시겠습니까?90000000\n",
      "기간을 입력해주세요 단위(년)5\n",
      "총금액 = 109,498,761.22원 이자액 = 19498761.216000\n"
     ]
    }
   ],
   "source": [
    "#입력함수, 처리함수, 출력함수, 메인함수를 별도로 만들어 출력해보시오\n",
    "\n",
    "def inputinfo(): #입력매개변수가 없다.\n",
    "    prin = int(input(\"원금을 얼마 넣으시겠습니까?\"))\n",
    "    year = int(input(\"기간을 입력해주세요 단위(년)\"))\n",
    "    return (prin,year)\n",
    "def interest(principal, year):\n",
    "    interest_rate = 0.04\n",
    "    balance = principal * (1.04**year)\n",
    "    interest = balance-principal\n",
    "    return (balance, interest)\n",
    "def printer(balance, interest):\n",
    "    print(\"총금액 = {0:,.2f}원 이자액 = {1:2f}\".format(balance,interest)) #리턴값이 없다.\n",
    "def main():\n",
    "    prin,year = inputinfo()\n",
    "    balance,inter = interest(prin,year)\n",
    "    printer(balance,inter)\n",
    "\n",
    "main()\n",
    "def main2():\n",
    "    printer(*interest(*inputinfo))"
   ]
  },
  {
   "cell_type": "code",
   "execution_count": null,
   "metadata": {},
   "outputs": [],
   "source": [
    "#다른사람이 만들어놓은 함수를 사용할 때 어떤 매개변수를 주고 어떤 리턴값을 받는지를 이해하면 된다."
   ]
  },
  {
   "cell_type": "code",
   "execution_count": 38,
   "metadata": {},
   "outputs": [
    {
     "name": "stdout",
     "output_type": "stream",
     "text": [
      "성적프로그램으로 처리되어야하는 학생의 수를 입력하시오.3\n",
      "학생의 번호, 이름, 국어, 영어, 수학 점수를 입력하시오75,정예원,95,95,100\n",
      "학생의 번호, 이름, 국어, 영어, 수학 점수를 입력하시오76,이준협,95,85,100\n",
      "학생의 번호, 이름, 국어, 영어, 수학 점수를 입력하시오77,전고은,85,95,90\n",
      "정예원  학생의 총 점수는  290 점, 평균은  96.67 점, 학점은  A 석차는  1 입니다.\n",
      "이준협  학생의 총 점수는  280 점, 평균은  93.33 점, 학점은  A 석차는  2 입니다.\n",
      "전고은  학생의 총 점수는  270 점, 평균은  90.0 점, 학점은  A 석차는  3 입니다.\n"
     ]
    }
   ],
   "source": [
    "#문제 : 3인분의 성적프로그램을 만들기\n",
    "#3명의 데이터를 입력한다.\n",
    "#합계, 평균(소수점2째자리까지), 석차, 학점을 출력합니다.\n",
    "#입력데이터는 번호, 이름, 국어, 영어, 수학\n",
    "#처리순서는 입력, 처리, 출력으로 구분해서 처리합니다.\n",
    "\n",
    "#성적 프로그램을 함수베이스로 전환하시오\n",
    "#입력함수, 합계함수, 평균함수, 학점을보는함수, 석차를보는함수, 출력함수, main() 함수만호출하는 함수\n",
    "\n",
    "def makestu(n): #입력함수\n",
    "    students = []\n",
    "    for i in range(n):\n",
    "        student = input(\"학생의 번호, 이름, 국어, 영어, 수학 점수를 입력하시오\") \n",
    "        students.append(student.split(\",\"))\n",
    "    return students\n",
    "\n",
    "def total(name,kor,eng,mat): #합계함수\n",
    "    tot = int(kor)+int(eng)+int(mat)\n",
    "    return tot\n",
    "\n",
    "def average(tot): #평균함수\n",
    "    ave = round(tot/3, 2)\n",
    "    return ave\n",
    "    \n",
    "def grade(ave): #학점함수\n",
    "    if ave>=90 : hak='A'\n",
    "    elif ave>=80 : hak='B'\n",
    "    elif ave>=70 : hak='C'\n",
    "    elif ave>=60 : hak='D'\n",
    "    else: hak='F'\n",
    "    return hak\n",
    "    \n",
    "def insertinfo(students): #합계, 평균, 학점을 insert하는 함수\n",
    "    for i in range(len(students)):\n",
    "        students[i].append(total(students[i][1],students[i][2],students[i][3],students[i][4]))\n",
    "        students[i].append(average(students[i][5]))\n",
    "        students[i].append(grade(students[i][6]))\n",
    "    return students\n",
    "\n",
    "def rank(students): #순위를 insert한후 복구한데이터를 return하는 함수\n",
    "    rank =0\n",
    "    students.sort(key=lambda row:row[5], reverse = True)\n",
    "    for i in range(len(students)):\n",
    "        rank+=1\n",
    "        students[i].append(rank)\n",
    "    students.sort(key=lambda row:row[0])\n",
    "    return students\n",
    "    \n",
    "def showinfo(students):\n",
    "    for i in range(len(students)):\n",
    "        print(students[i][1],\" 학생의 총 점수는 \",students[i][5],\"점, 평균은 \",students[i][6],\"점, 학점은 \"\n",
    "              , students[i][7],\"석차는 \",students[i][8],\"입니다.\")\n",
    "        \n",
    "def main():\n",
    "    n = int(input(\"성적프로그램으로 처리되어야하는 학생의 수를 입력하시오.\"))\n",
    "    students = makestu(n)\n",
    "    students_with_score = insertinfo(students)\n",
    "    students_with_rank = rank(students_with_score)\n",
    "    showinfo(students_with_rank)\n",
    "    \n",
    "main() #75,정예원,95,95,100, 76,이준협,95,85,100, 77,전고은,85,95,90"
   ]
  },
  {
   "cell_type": "code",
   "execution_count": null,
   "metadata": {},
   "outputs": [],
   "source": [
    "#위에다 전체게임의 수를 적용하고 전체 게임횟수와 이긴횟수를 게임종료시 출력하시오\n",
    "#한게임당 평균 시도횟수는 얼마냐?\n",
    "\n",
    "1. 멘토 소개및 진행방향 소개, 조별프로젝트 계획방향에 대한 설명\n",
    "2. Brain Storming(멘토의 전문분야 및 학생들의 프로젝트를 주제)\n",
    "3. 프로젝트 정의서 작성 및 프로젝트 time table 작성\n",
    "4. 데이터 수집 및 EDA(데이터 제공정보 제공, web crawing에 대한 지도)\n",
    "5. ??"
   ]
  }
 ],
 "metadata": {
  "kernelspec": {
   "display_name": "Python 3",
   "language": "python",
   "name": "python3"
  },
  "language_info": {
   "codemirror_mode": {
    "name": "ipython",
    "version": 3
   },
   "file_extension": ".py",
   "mimetype": "text/x-python",
   "name": "python",
   "nbconvert_exporter": "python",
   "pygments_lexer": "ipython3",
   "version": "3.7.6"
  }
 },
 "nbformat": 4,
 "nbformat_minor": 4
}
