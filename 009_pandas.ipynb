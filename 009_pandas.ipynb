{
 "cells": [
  {
   "cell_type": "code",
   "execution_count": null,
   "metadata": {},
   "outputs": [],
   "source": [
    "import pandas as pd\n",
    "ps = pd.Series(100, index=[10,11,12]) #넘파이와 다르게 시리즈에 인덱스를 지정하여 줄수있다(디폴트는 정수형 인덱스)\n",
    "#인덱스 = 행이름\n",
    "print(ps)\n",
    "type(ps) #데이터타입은 자동으로 인식한다."
   ]
  },
  {
   "cell_type": "code",
   "execution_count": null,
   "metadata": {},
   "outputs": [],
   "source": [
    "data = {'a':0., 'b':1., 'c':2.} #key(행이름)인덱스로 dict자료형 생성\n",
    "s = pd.Series(data)\n",
    "print(s['a'])\n",
    "s = pd.Series(data, index=['b', 'c', 'd', 'a'])\n",
    "print(s['a'])\n",
    "print(s['d']) #데이터가 없으면 na값으로 들어간다. -> 데이터는 인덱스 중심이다.(인덱스를 생성하면 데이터가 없어도 공간을 할당한다.)\n",
    "list(s)"
   ]
  },
  {
   "cell_type": "code",
   "execution_count": null,
   "metadata": {},
   "outputs": [],
   "source": [
    "data.keys()\n",
    "s.keys()\n",
    "#key값을 호출"
   ]
  },
  {
   "cell_type": "code",
   "execution_count": null,
   "metadata": {},
   "outputs": [],
   "source": [
    "list(s.items()) #리스트에 담아야 출력된다.\n",
    "#인덱스와 값의 조합"
   ]
  },
  {
   "cell_type": "code",
   "execution_count": null,
   "metadata": {},
   "outputs": [],
   "source": [
    "data.values() #리스트의 값은 안되고 dict자료형의 값만 사용이 가능한 함수이다.\n",
    "#key를 제외하고 값만 호출"
   ]
  },
  {
   "cell_type": "code",
   "execution_count": null,
   "metadata": {},
   "outputs": [],
   "source": [
    "s = pd.Series([1,2,3,4,5],index = ['a','b','c','d','e'])\n",
    "print(\"인덱스에 의한 출력\",s[0]) #정수형 인덱스는 자동으로 만들어진다.(numpy를 상속받았기 때문에)\n",
    "print(\"키에 의한 출력\",s['a'])\n",
    "print(s['a':'c']) #key값 범주형으로도 범위를 줄 수 있다.\n",
    "print(s[:3])\n",
    "print(\"음수\",s[-3:]) #뒤에서 3번째부터 끝까지\n",
    "s['a']=100\n",
    "print(s['a'])\n",
    "s['f']=200 #없는 값도 추가가능 - 클래스에서 실시간으로 멤버변수 추가가능\n",
    "print(s['f'])\n",
    "print(\"필터링에 의한 출력\", s[s>4])\n",
    "print(s)\n",
    "print(s*2) #broadcasting지원된다. for문 없이 돌려서 연산\n",
    "print(s)"
   ]
  },
  {
   "cell_type": "code",
   "execution_count": null,
   "metadata": {
    "scrolled": true
   },
   "outputs": [],
   "source": [
    "import numpy as np\n",
    "data = np.array(['a','b','c','d','d']) #values값만 입력 RangeIndex(start=0, stop=5, step=1) 로 자동으로 인덱스를 생성하였다.\n",
    "s = pd.Series(data)\n",
    "print(\"시리즈 데이터 \", s.values)\n",
    "print(s.values)\n",
    "print(s.index)\n",
    "print(s.index.values)\n",
    "print(s[0])\n",
    "print(s.head())\n",
    "print(s.value_counts()) #도수분포표 - 2개로 출력된다.\n",
    "#r에서의 도수분포표 -> table\n",
    "#value_count가 그 역할을 한다.\n",
    "print(s.value_counts(normalize = True)) #합이 1인 분포값으로 정규화된다.\n",
    "print(s.describe()) #dtype, count, unique, top, freq\n",
    "#시리즈도 numpy를 상속받았기 때문에 넘파이함수를 사용가능하다.\n",
    "print(\"데이터 타입은 \", s.dtype)\n",
    "print(\"차원\",s.ndim)\n",
    "print(\"차수\", s.shape)"
   ]
  },
  {
   "cell_type": "code",
   "execution_count": null,
   "metadata": {},
   "outputs": [],
   "source": [
    "sdata={'Ohio':35000, \"Texas\":71000, 'Oregon':16000, 'Utah':5000}\n",
    "obj3 = pd.Series(sdata)\n",
    "print(obj3.shape)\n",
    "states=['California','Ohio','Oregon','Texas']\n",
    "obj4 = pd.Series(sdata, index=states) #키는 있고 데이터가 없으면 null이 되고 데이터가 있는데 키가 없으면 삭제된다.\n",
    "#키중심니다.\n",
    "print(obj4)\n",
    "print(obj3.index) #['Ohio', 'Texas', 'Oregon', 'Utah']\n",
    "print(obj4.index) #['California', 'Ohio', 'Oregon', 'Texas']\n",
    "print(pd.isnull(obj4)) #null이냐\n",
    "print(pd.notnull(obj4))\n",
    "print(obj3)\n",
    "print(obj4)\n",
    "print(obj3+obj4) #키는 다 존재 : numpy는 행열이 일치하거나 brodacasting 조건을 만족해야한다.(열이 일치해야한다.)\n",
    "#pandas 조건이 없이 키를 중심으로한 연산이다.\n",
    "#numpy는 차원이 일치하거나 브로드캐스팅의 조건을 만족해야하고\n",
    "#pandas는 키를 중심으로 연산한다."
   ]
  },
  {
   "cell_type": "code",
   "execution_count": null,
   "metadata": {},
   "outputs": [],
   "source": [
    "import matplotlib.pyplot as plt\n",
    "data = np.random.randn(25,4) #랜덤으로 행25개 열4개 데이터 생성 , randn-n=normalize(정규분포)\n",
    "df = pd.DataFrame(data, columns=list('ABCD'))\n",
    "ax = df.plot.box() #매개변수로 줄수도 있고 함수 호출할수도 있다.\n",
    "plt.show()"
   ]
  },
  {
   "cell_type": "code",
   "execution_count": null,
   "metadata": {},
   "outputs": [],
   "source": [
    "s = pd.Series([1,2,2.5,3,3.5,4.5])\n",
    "s.plot.kde(bw_method=1) #kernel density estimate(밀도 구할때 데이터가 없으면 보간법으로 만들어진다.)\n",
    "#중간에 없는값은 보간법을 이용해서 그렸다.\n",
    "#bw_method=0.3 를 작게주니까 과대적합된다. 크게주면 평평해진다. (데이터 추정간격)\n",
    "plt.show()"
   ]
  },
  {
   "cell_type": "code",
   "execution_count": null,
   "metadata": {},
   "outputs": [],
   "source": [
    "import pandas as pd\n",
    "#dataframe은 series의 집합이다. = 열중심\n",
    "#시리즈는 하나의 열을 형성한다.\n",
    "#numpy = 행중심\n",
    "area = pd.Series({'서울':423967, '부산':695662, '대전':141297, '청주':170312, '수원':149995})\n",
    "pop = pd.Series({'서울':38332521, '부산':26448193, '대전':19651127, '청주':1955860, \"수원\":12882135})\n",
    "data = pd.DataFrame({'area':area, 'pop':pop})\n",
    "data"
   ]
  },
  {
   "cell_type": "code",
   "execution_count": null,
   "metadata": {},
   "outputs": [],
   "source": [
    "data.index #행이름"
   ]
  },
  {
   "cell_type": "markdown",
   "metadata": {},
   "source": [
    "data.columns #열이름"
   ]
  },
  {
   "cell_type": "code",
   "execution_count": null,
   "metadata": {},
   "outputs": [],
   "source": [
    "data['area'] #열이름(큰범주)"
   ]
  },
  {
   "cell_type": "code",
   "execution_count": null,
   "metadata": {},
   "outputs": [],
   "source": [
    "data.loc['대전'] #행이름의 키를 줄때 사용 = loc"
   ]
  },
  {
   "cell_type": "code",
   "execution_count": null,
   "metadata": {},
   "outputs": [],
   "source": [
    "data.area #점으로도 접근이 가능하다."
   ]
  },
  {
   "cell_type": "code",
   "execution_count": null,
   "metadata": {},
   "outputs": [],
   "source": [
    "data.area is data['area']"
   ]
  },
  {
   "cell_type": "code",
   "execution_count": null,
   "metadata": {},
   "outputs": [],
   "source": [
    "data['density']=data['pop']/data['area'] #실시간으로 변수를 추가\n",
    "data"
   ]
  },
  {
   "cell_type": "code",
   "execution_count": null,
   "metadata": {},
   "outputs": [],
   "source": [
    "data.T # matrix처럼 전치가 가능"
   ]
  },
  {
   "cell_type": "code",
   "execution_count": null,
   "metadata": {},
   "outputs": [],
   "source": [
    "data.values #ndarray로 출력"
   ]
  },
  {
   "cell_type": "code",
   "execution_count": null,
   "metadata": {},
   "outputs": [],
   "source": [
    "data.values[0] #데이터의 행이 나타남"
   ]
  },
  {
   "cell_type": "code",
   "execution_count": null,
   "metadata": {},
   "outputs": [],
   "source": [
    "data.values[0,1] #0행 1열의 데이터가 나타난다."
   ]
  },
  {
   "cell_type": "code",
   "execution_count": null,
   "metadata": {},
   "outputs": [],
   "source": [
    "data"
   ]
  },
  {
   "cell_type": "code",
   "execution_count": null,
   "metadata": {},
   "outputs": [],
   "source": [
    "data.iloc[:3,:2] #정수형인덱스"
   ]
  },
  {
   "cell_type": "code",
   "execution_count": null,
   "metadata": {},
   "outputs": [],
   "source": [
    "data.loc[:'대전',:'pop'] #인덱스도 순서가 보장된다."
   ]
  },
  {
   "cell_type": "code",
   "execution_count": null,
   "metadata": {},
   "outputs": [],
   "source": [
    "data.loc[data.density>100, ['pop','density']] #데이터 벨류값에 조건을 주어 원하는 부분만 추출"
   ]
  },
  {
   "cell_type": "code",
   "execution_count": null,
   "metadata": {},
   "outputs": [],
   "source": [
    "ind = pd.Index([1,2,3,4,5]) #인덱스도 배열처럼 작동한다.\n",
    "print(ind)\n",
    "print(ind[1])\n",
    "print(ind[::2]) #2씩증가하면서\n",
    "print(ind.size, ind.shape, ind.ndim, ind.dtype) #인덱스가 numpy처럼 작동한다."
   ]
  },
  {
   "cell_type": "code",
   "execution_count": null,
   "metadata": {},
   "outputs": [],
   "source": [
    "indA = pd.Index([1,2,3,4,5])\n",
    "indB = pd.Index([2,3,5,7,11])\n",
    "print(indA & indB) #교집합\n",
    "print(indA | indB) #합집합\n",
    "print(indA ^ indB) #합집합-교집합 = sysmetric diffrence"
   ]
  },
  {
   "cell_type": "code",
   "execution_count": null,
   "metadata": {},
   "outputs": [],
   "source": [
    "#문제 \n",
    "name = pd.Series(['김하나','이하나','삼하나','사하나','오하나','육하나','칠하나','팔하나'])\n",
    "age = pd.Series([25,26,25,23,30,29,23])\n",
    "rating =  pd.Series([4.23,3.24,3.98,2.56,3.20,4.60,3.80])\n",
    "#위의 3가지 시리즈로 데이터 프레임을 생성\n",
    "#데이터 타입을 확인\n",
    "#차원을 확인, 차수를 확인\n",
    "#전체 데이터 사이즈는\n",
    "#값들만 출력\n",
    "\n",
    "data = pd.DataFrame({'Name':name, 'Age':age, 'Rating':rating})\n",
    "print(data)\n",
    "print(type(data))\n",
    "print(\"사이즈\", data.size, \"shape\", data.shape, \"dim\", data.ndim)\n",
    "print(data.values)"
   ]
  },
  {
   "cell_type": "code",
   "execution_count": null,
   "metadata": {},
   "outputs": [],
   "source": [
    "dt = {'name' : pd.Series(['김하나','이하나','삼하나','사하나','오하나','육하나','칠하나','팔하나']),\n",
    "'age' : pd.Series([25,26,25,23,30,29,23]),\n",
    "'rating' :  pd.Series([4.23,3.24,3.98,2.56,3.20,4.60,3.80])}\n",
    "df = pd.DataFrame(dt)\n",
    "print(df.dtypes)\n",
    "print(df.ndim) #차원\n",
    "print(df.shape) #차수\n",
    "print(df.size) #데이터 사이즈\n",
    "print(df.values)"
   ]
  },
  {
   "cell_type": "code",
   "execution_count": null,
   "metadata": {},
   "outputs": [],
   "source": [
    "df.axes #행은 rangeindex(정수형인덱스)로 되어있고 열은 문자열 인덱스\n",
    "#인덱스 = 행이름\n",
    "#인덱스를 만드는,생성하는 클래스 객체가 인덱스다."
   ]
  },
  {
   "cell_type": "code",
   "execution_count": null,
   "metadata": {},
   "outputs": [],
   "source": [
    "df.columns #컬럼에 들어가있는 객체가 인덱스이다."
   ]
  },
  {
   "cell_type": "code",
   "execution_count": null,
   "metadata": {},
   "outputs": [],
   "source": [
    "df.head(2) #앞에꺼 n개"
   ]
  },
  {
   "cell_type": "code",
   "execution_count": null,
   "metadata": {},
   "outputs": [],
   "source": [
    "df.tail(2) #뒤에써 n개"
   ]
  },
  {
   "cell_type": "code",
   "execution_count": null,
   "metadata": {},
   "outputs": [],
   "source": [
    "df.sum() #열별 합계를 출력, dtype: object->데이터 프레임은 object다."
   ]
  },
  {
   "cell_type": "code",
   "execution_count": null,
   "metadata": {},
   "outputs": [],
   "source": [
    "df.mean() #문자열은 계산하지 않는다.(문자열 +,*는 가능)"
   ]
  },
  {
   "cell_type": "code",
   "execution_count": null,
   "metadata": {},
   "outputs": [],
   "source": [
    "df.std()"
   ]
  },
  {
   "cell_type": "code",
   "execution_count": null,
   "metadata": {},
   "outputs": [],
   "source": [
    "df.describe()\n",
    "#시리즈와 출력되는 값이 다른데\n",
    "#df에서는 숫자형 데이터에 대하여 사분위수를 출력한다."
   ]
  },
  {
   "cell_type": "code",
   "execution_count": null,
   "metadata": {},
   "outputs": [],
   "source": [
    "df.describe(include='all') #문자열도 리턴된다.\n",
    "#모든값들을 리턴하라."
   ]
  },
  {
   "cell_type": "code",
   "execution_count": null,
   "metadata": {},
   "outputs": [],
   "source": [
    "df"
   ]
  },
  {
   "cell_type": "code",
   "execution_count": null,
   "metadata": {},
   "outputs": [],
   "source": [
    "df['name'] #key로 주면 열이 우선하고"
   ]
  },
  {
   "cell_type": "code",
   "execution_count": null,
   "metadata": {},
   "outputs": [],
   "source": [
    "df[:2] #숫자로 주면 행이 우선한다."
   ]
  },
  {
   "cell_type": "code",
   "execution_count": null,
   "metadata": {},
   "outputs": [],
   "source": [
    "df[-1:]"
   ]
  },
  {
   "cell_type": "code",
   "execution_count": null,
   "metadata": {},
   "outputs": [],
   "source": [
    "df[7:]"
   ]
  },
  {
   "cell_type": "code",
   "execution_count": null,
   "metadata": {},
   "outputs": [],
   "source": [
    "df.tail(1)"
   ]
  },
  {
   "cell_type": "code",
   "execution_count": null,
   "metadata": {},
   "outputs": [],
   "source": [
    "df.iloc[-1]"
   ]
  },
  {
   "cell_type": "code",
   "execution_count": null,
   "metadata": {},
   "outputs": [],
   "source": [
    "#문제\n",
    "data = {'state':['경기','강원','서울','충북','인천'],\n",
    "        'year':[2000,2001,2002,2001,2002],\n",
    "        'pop':[1.5,1.7,3.6,2.4,2.9]}\n",
    "data1 = pd.DataFrame(data, index=['one','two','three','four','five'])\n",
    "\n",
    "print(data1['state'])\n",
    "data1['debt'] = 16.5\n",
    "print(data1)\n",
    "data1['estern'] = False;\n",
    "for i in range(len(data1['state'])):\n",
    "    if data1.iloc[i,0]=='서울':\n",
    "        data1.iloc[i,4] = True\n",
    "print(data1)\n",
    "\n",
    "#df['estern'] = np.where(df['state']=='서울','True','False')\n",
    "#df['estern'] = data['state']=='서울'\n",
    "\n",
    "debt = pd.Series([-1.2,-1.5,-1.7], index=['two','three','five'])\n",
    "data1['debt'] = debt\n",
    "print(data1)"
   ]
  },
  {
   "cell_type": "code",
   "execution_count": null,
   "metadata": {},
   "outputs": [],
   "source": [
    "data1.state.sort_index()"
   ]
  },
  {
   "cell_type": "code",
   "execution_count": null,
   "metadata": {},
   "outputs": [],
   "source": [
    "data1.state.sort_values() #열, 시리즈 결과가 시리즈로 나온다.\n",
    "#결과가 하나의 열로 출력된다."
   ]
  },
  {
   "cell_type": "code",
   "execution_count": null,
   "metadata": {
    "scrolled": true
   },
   "outputs": [],
   "source": [
    "data1.sort_values('state') #데이터 전체를 정렬한 값을 리턴한다"
   ]
  },
  {
   "cell_type": "code",
   "execution_count": null,
   "metadata": {},
   "outputs": [],
   "source": [
    "data1.sort_values('year') "
   ]
  },
  {
   "cell_type": "code",
   "execution_count": null,
   "metadata": {},
   "outputs": [],
   "source": [
    "rng = np.random.RandomState(42)\n",
    "ser = pd.Series(rng.randint(0,10,4)) #0에서 10사이에 4개\n",
    "ser"
   ]
  },
  {
   "cell_type": "code",
   "execution_count": null,
   "metadata": {},
   "outputs": [],
   "source": [
    "df = pd.DataFrame(rng.randint(0,10,(3,4)), columns=['A','B','C','D'])\n",
    "df"
   ]
  },
  {
   "cell_type": "code",
   "execution_count": null,
   "metadata": {},
   "outputs": [],
   "source": [
    "np.exp(ser) #시리즈 데이터를 np에 있는 단항연산함수에 넣으면 for 문없이 한꺼번에 처리된다"
   ]
  },
  {
   "cell_type": "code",
   "execution_count": null,
   "metadata": {},
   "outputs": [],
   "source": [
    "np.sin(df*np.pi/4) #numpy에 매개변수에서 numpy를 dataframe이 대신할 수 있다."
   ]
  },
  {
   "cell_type": "code",
   "execution_count": null,
   "metadata": {},
   "outputs": [],
   "source": [
    "A = pd.DataFrame(rng.randint(0,20,(2,2)), columns=list('AB')) #2행2열로 만들어라\n",
    "B = pd.DataFrame(rng.randint(0,10,(3,3)), columns=list('BAC')) #3행3열로 만들어라\n",
    "print(A)\n",
    "print(B)"
   ]
  },
  {
   "cell_type": "code",
   "execution_count": null,
   "metadata": {},
   "outputs": [],
   "source": [
    "A+B #결과나올때는 BAC->ABC로 정렬되어 나온다."
   ]
  },
  {
   "cell_type": "code",
   "execution_count": null,
   "metadata": {},
   "outputs": [],
   "source": [
    "fill = A.stack().mean()\n",
    "A.add(B, fill_value=fill) #위의 식에서 구해진 값으로 채워진다."
   ]
  },
  {
   "cell_type": "code",
   "execution_count": null,
   "metadata": {},
   "outputs": [],
   "source": [
    "A.stack() #다중인덱스가 생성된다.\n",
    "#데이터를 재편하기 위해서 다른모습으로 변환하기 위해서 쌓는다."
   ]
  },
  {
   "cell_type": "code",
   "execution_count": null,
   "metadata": {},
   "outputs": [],
   "source": [
    "a = np.logspace(0.1,1,20, endpoint=True) #logspace() - 비선형으로 데이터 생성할때 사용(1~10의 값이된다.)\n",
    "#endpoint=True -> 1도 가능하다.\n",
    "#linspace - 선형으로 만들었었다.\n",
    "print(a)\n",
    "plt.plot(a,'o')\n",
    "plt.show()"
   ]
  },
  {
   "cell_type": "code",
   "execution_count": null,
   "metadata": {},
   "outputs": [],
   "source": [
    "data = {'name' : ['하늘이','박찬호','우리야','함께가','성공해'],\n",
    "       'age' : [40,50,30,20,70],\n",
    "       'preScore' : [14,28,39,25,30],\n",
    "       'postScore' : [20,90,55,65,79]}\n",
    "df = pd.DataFrame(data,columns=['name','age','preScore','postScore'])\n",
    "print(df.dtypes)\n",
    "print(df['age'].sum())\n",
    "print(df['preScore'].cumsum()) #누적합\n",
    "print(df['preScore'].describe()) #분위수\n",
    "print(df['preScore'].var()) #분산\n",
    "print(df['preScore'].std()) #표준편차\n",
    "print(df['preScore'].skew()) #왜도 : 기준값=0(0이 정규분포 좌우대칭이다.)\n",
    "print(df['preScore'].kurt()) #첨도 : 기준값=3(3이 정규분포)"
   ]
  },
  {
   "cell_type": "code",
   "execution_count": null,
   "metadata": {},
   "outputs": [],
   "source": [
    "print(df.corr()) #상관계수 -> 정방행렬, 대칭행렬\n",
    "#숫자인 열을 대상으로 한다\n",
    "#열간의 상관계수를 계산"
   ]
  },
  {
   "cell_type": "code",
   "execution_count": null,
   "metadata": {},
   "outputs": [],
   "source": [
    "print(df.var()) #하나의 시리즈 계산도 가능하지만 데이터 프레임 계산도 가능하다.\n",
    "print(df.std())"
   ]
  },
  {
   "cell_type": "code",
   "execution_count": null,
   "metadata": {},
   "outputs": [],
   "source": [
    "df.gt(df) #얘가 얘보다 크냐"
   ]
  },
  {
   "cell_type": "code",
   "execution_count": null,
   "metadata": {},
   "outputs": [],
   "source": [
    "df.eq(df) #얘가 얘랑 같으냐"
   ]
  },
  {
   "cell_type": "code",
   "execution_count": null,
   "metadata": {},
   "outputs": [],
   "source": [
    "(df['age']>0).all() #모두가 만족하느냐"
   ]
  },
  {
   "cell_type": "code",
   "execution_count": null,
   "metadata": {},
   "outputs": [],
   "source": [
    "(df['age']>0).any() #하나라도 만족하느냐"
   ]
  },
  {
   "cell_type": "code",
   "execution_count": null,
   "metadata": {},
   "outputs": [],
   "source": [
    "df1 = pd.DataFrame({'col':['foo',0,np.nan]})\n",
    "df2 = pd.DataFrame({'col':[np.nan,0,'foo']}, index=[2,1,0])\n",
    "df3 = pd.DataFrame({'col':[1,2,3]}, index=[2,1,0])\n",
    "print(df3.sort_values(by=['col'])) #값을 기준으로 정렬이 되고\n",
    "#print(df2.sort_values(by=['col'])) #값을 기준으로 정렬이 안된다.(다양한 자료형의 값이 섞여있기 때문에)\n",
    "print(df1.equals(df2)) #False 데이터는 같지만 순서가 다르기 때문이다.(요소단위로 비교하기 때문 인덱스까지 고려하지 않는다.)\n",
    "print(df1.equals(df2.sort_index())) #인덱스로 정렬하고 봐서는 순서가 같다.\n",
    "print(df3.sort_values(by=['col']))"
   ]
  },
  {
   "cell_type": "code",
   "execution_count": null,
   "metadata": {},
   "outputs": [],
   "source": [
    "#              2018    2017   2016   2015   2015-2018 증가율\n",
    "#서울 수도권 9904312 9631482 9762546 9853972 0.0283\n",
    "#부산 경상권 3448737 3393191 3512547 3655437 0.0163\n",
    "#인천 수도권 2890451 2632035 2517680 2466338 0.0982\n",
    "#대구 경상권 2466052 2431774 2456016 2473990 0.0141\n",
    "\n",
    "#문제\n",
    "#'2015-2018 증가율'을 %로 변경하시오\n",
    "#2015-2017의 증가율을 구해서 변수에 추가하시오\n",
    "#열이름 : '2015-2017 증가율'\n",
    "\n",
    "data = {'2018' : [9904312,3448737,2890451,2466052],\n",
    "       '2017' : [9631482,3393191,2632035,2431774],\n",
    "       '2016' : [9762546,3512547,2517680,2456016],\n",
    "       '2015' : [9853972,3655437,2466338,2473990],\n",
    "       '2015-2018 증가율' : [0.0283,0.0163,0.0982,0.0141]}\n",
    "df = pd.DataFrame(data,index=['서울 수도권','부산 경상권','인천 수도권','대구 경상권'])\n",
    "df['2015-2018 증가율'] = df['2015-2018 증가율']*100\n",
    "df['2015-2017 증가율'] = round((df['2017']-df['2015'])/df['2015'] *100,2)\n",
    "df"
   ]
  },
  {
   "cell_type": "code",
   "execution_count": null,
   "metadata": {},
   "outputs": [],
   "source": [
    "data = {\"서울\": ['수도권', 9904312, 9631482, 9762546, 9853972, 0.0283],\n",
    "       \"부산\": ['경상권', 3448737, 3393191, 3512547, 3655437, 0.0163],\n",
    "       \"인천\": ['수도권', 2890451, 2632035, 2517680, 2466338, 0.0982],\n",
    "       \"대구\": ['경상권', 2466052, 2431774, 2456016, 2473990, 0.0141]}\n",
    "columns=['지역','2018','2017','2016','2015','2015-2018증가율']\n",
    "index = ['서울','부산','인천','대구']\n",
    "df = pd.DataFrame(data)\n",
    "df = df.T #전치시킨후에 대입해주었다.\n",
    "#데이터 프레임은 전치가 가능하다.\n",
    "df.columns = columns\n",
    "df['2015-2018증가율']=df['2015-2018증가율']*100\n",
    "df['2015-2017증가율']=(df['2017']-df['2015'])/df['2015']*100\n",
    "df"
   ]
  },
  {
   "cell_type": "code",
   "execution_count": null,
   "metadata": {},
   "outputs": [],
   "source": [
    "frame = pd.DataFrame((np.random.randn(4,3)),columns=list(['rain','income','tax']), index=['seoul','incheon','daegu', 'busan'])\n",
    "#4,3으로 4개의 인덱스 3개의 컬럼이 들어가야 한다.\n",
    "print(frame)\n",
    "print(\"absolute함수적용\", np.abs(frame))\n",
    "f = lambda x : x.max()-x.min() #무명함수\n",
    "print(frame.apply(f,axis=0)) #열(행방향)으로 적용하였고, 요소별로 적용하는 것이 아니고 한행에 대해서 최고값-최소값 계산 결과가 나온다.\n",
    "print(frame.apply(f,axis=1)) #행(열방향)으로 적용하였다."
   ]
  },
  {
   "cell_type": "code",
   "execution_count": null,
   "metadata": {},
   "outputs": [],
   "source": [
    "def f(x):\n",
    "    return pd.Series([x.min(),x.max()], index=['min','max'])\n",
    "print(frame.apply(f)) #apply다음에 함수를 호출할때는 f뒤의 괄호를 생략한다.(함수 호출이 아니라 전달이기 때문에)\n",
    "#함수의 주소값만 전달하기떄문이다. (결과값이 아니라.)\n",
    "print(type(frame.apply(f))) #데이터 타입이 변하지 않는다.\n",
    "format = lambda x: '%.2f' %x\n",
    "print(frame.applymap(format)) #applymap = 모든 요소에 각각 적용이 된다.\n",
    "print(frame['rain'].map(format)) #map = 시리즈(열)에 적용이 된다."
   ]
  },
  {
   "cell_type": "code",
   "execution_count": null,
   "metadata": {},
   "outputs": [],
   "source": [
    "data = np.random.rand(2,4,5)\n",
    "p = pd.Panel(data)"
   ]
  },
  {
   "cell_type": "code",
   "execution_count": null,
   "metadata": {},
   "outputs": [],
   "source": [
    "from pandas import DataFrame\n",
    "Data = {\"실업율\":[6.1,5.8,5.7,5.7,5.8,5.6,5.5,5.3,5.2,5.2],\n",
    "       \"주가지수\":[1500,1520,1525,1523,1515,1540,1545,1560,1555,1565]}"
   ]
  },
  {
   "cell_type": "code",
   "execution_count": null,
   "metadata": {},
   "outputs": [],
   "source": [
    "df = DataFrame(Data,columns=[\"실업율\",\"주가지수\"])\n",
    "df.plot(x=\"실업율\", y=\"주가지수\", kind=\"scatter\")"
   ]
  },
  {
   "cell_type": "code",
   "execution_count": null,
   "metadata": {},
   "outputs": [],
   "source": [
    "df = DataFrame(Data,columns=[\"실업율\",\"주가지수\"])\n",
    "df.plot(x=\"실업율\", y=\"주가지수\", kind=\"line\")"
   ]
  },
  {
   "cell_type": "code",
   "execution_count": null,
   "metadata": {},
   "outputs": [],
   "source": [
    "data = {'국가':['미국','캐나다','한국','일본','중국'],\n",
    "       '2030GDP':[5000,6000,20000,1000,500]}\n",
    "df = DataFrame(data,columns=['국가','2030GDP'])\n",
    "print(df)"
   ]
  },
  {
   "cell_type": "code",
   "execution_count": null,
   "metadata": {},
   "outputs": [],
   "source": [
    "df.plot(x='국가', y='2030GDP', kind='bar')"
   ]
  },
  {
   "cell_type": "code",
   "execution_count": null,
   "metadata": {},
   "outputs": [],
   "source": [
    "df.plot.pie(y='2030GDP', figsize=(5,5), autopct='%1.1f%%', startangle=90)"
   ]
  },
  {
   "cell_type": "code",
   "execution_count": null,
   "metadata": {},
   "outputs": [],
   "source": [
    "df2 = pd.DataFrame(np.random.rand(10,4), columns=['a','b','c','d'])\n",
    "df2.plot.bar()\n",
    "df2.plot.barh()\n",
    "df2.plot.barh(stacked=True)\n",
    "df2.plot.hist(alpha=0.5)\n",
    "df2.plot.hist(stacked=True, bins=20)"
   ]
  },
  {
   "cell_type": "code",
   "execution_count": null,
   "metadata": {},
   "outputs": [],
   "source": [
    "# df2.plot.box(vert=False, positions=[1,4,5,6])\n",
    "df2.plot.box(vert=True, positions=[1,4,5,6])\n",
    "df2.plot.area()"
   ]
  },
  {
   "cell_type": "code",
   "execution_count": null,
   "metadata": {},
   "outputs": [],
   "source": [
    "#pandas에서 문자열을 지원하는데 벡터화 문자열이다.\n",
    "#벡터화 문자열은 파이썬코어의 문자열함수, 정규표현식의 함수들을 모두 구현해 놓았다.\n",
    "#multi core병렬연산을 지원한다.(벡터화 -> 속도가 빠르다.)\n",
    "monte = pd.Series(['sky rounge','blue taxi','earth owner','happy new year'])\n",
    "monte.str.upper() #시리즈 객체밑에 str객체가 있어서 monte데이터에 각요소에 upper함수가 적용된다."
   ]
  },
  {
   "cell_type": "code",
   "execution_count": null,
   "metadata": {},
   "outputs": [],
   "source": [
    "monte.str.len()"
   ]
  },
  {
   "cell_type": "code",
   "execution_count": null,
   "metadata": {},
   "outputs": [],
   "source": [
    "monte.str.startswith('h') #첫글자를 확인할 때 쓴다."
   ]
  },
  {
   "cell_type": "code",
   "execution_count": null,
   "metadata": {},
   "outputs": [],
   "source": [
    "print(monte.str.split()) #공백을 기준으로 나눈다.(나누어서 list에 각 요소로 담는다.)\n",
    "type(monte.str.split())"
   ]
  },
  {
   "cell_type": "code",
   "execution_count": null,
   "metadata": {},
   "outputs": [],
   "source": [
    "monte.str.extract('([A-Ta-t]+)', expand=True) #([A-Za-z]+)까지로 이루어진놈이 여러개 있다.\n",
    "#추출한 것이다.\n",
    "#expand=True 데이터 프레임으로 추출\n",
    "#expand=false 별도의 데이터로 갖고옴"
   ]
  },
  {
   "cell_type": "code",
   "execution_count": null,
   "metadata": {},
   "outputs": [],
   "source": [
    "monte.str.findall(r'^[^AEIOU].*[^aeiou]$')\n",
    "#문자열앞에 r이있으면 정규표현식으로 해석하라는 것이다.\n",
    "# ^는 처음에\n",
    "#[]는 선택\n",
    "#[^]대괄호 안에서 꺽쇠는 부정의 의미\n",
    "#$는 끝에\n",
    "# -> 모음으로 시작하지 않고 모음으로 끝나지 않는 단어의 색출"
   ]
  },
  {
   "cell_type": "code",
   "execution_count": null,
   "metadata": {},
   "outputs": [],
   "source": [
    "monte.str[0:3]\n",
    "#처음 3글자만 가져온다."
   ]
  },
  {
   "cell_type": "code",
   "execution_count": null,
   "metadata": {},
   "outputs": [],
   "source": [
    "monte.str.split().str.get(-1) #나누고 뒤에있는 놈들을 가져온다.\n",
    "#나눈후의 데이터는 시리즈로 리턴된다."
   ]
  },
  {
   "cell_type": "code",
   "execution_count": 1,
   "metadata": {},
   "outputs": [
    {
     "name": "stdout",
     "output_type": "stream",
     "text": [
      "['입력(1), 종료(2)']1\n",
      "이름을 입력하시오정예원\n",
      "국어점수를 입력하시오80\n",
      "수학점수를 입력하시오90\n",
      "영어점수를 입력하시오100\n",
      "이름을 입력하시오이준협\n",
      "국어점수를 입력하시오80\n",
      "수학점수를 입력하시오60\n",
      "영어점수를 입력하시오70\n",
      "이름을 입력하시오정예원\n",
      "국어점수를 입력하시오90\n",
      "수학점수를 입력하시오50\n",
      "영어점수를 입력하시오60\n",
      "이름을 입력하시오이준협\n",
      "국어점수를 입력하시오50\n",
      "수학점수를 입력하시오10\n",
      "영어점수를 입력하시오80\n",
      "이름을 입력하시오정예원\n",
      "국어점수를 입력하시오60\n",
      "수학점수를 입력하시오40\n",
      "영어점수를 입력하시오80\n",
      "                                                 0\n",
      "0  <__main__.Student object at 0x0000021D1EAC7AC8>\n",
      "1  <__main__.Student object at 0x0000021D1EAAA388>\n",
      "2  <__main__.Student object at 0x0000021D1EAAA3C8>\n",
      "3  <__main__.Student object at 0x0000021D1CA24488>\n",
      "4  <__main__.Student object at 0x0000021D1C8F9108>\n",
      "['입력(1), 종료(2)']2\n"
     ]
    },
    {
     "ename": "SystemExit",
     "evalue": "",
     "output_type": "error",
     "traceback": [
      "An exception has occurred, use %tb to see the full traceback.\n",
      "\u001b[1;31mSystemExit\u001b[0m\n"
     ]
    },
    {
     "name": "stderr",
     "output_type": "stream",
     "text": [
      "C:\\Users\\gram\\anaconda3\\lib\\site-packages\\IPython\\core\\interactiveshell.py:3339: UserWarning: To exit: use 'exit', 'quit', or Ctrl-D.\n",
      "  warn(\"To exit: use 'exit', 'quit', or Ctrl-D.\", stacklevel=1)\n"
     ]
    }
   ],
   "source": [
    "#문제\n",
    "#성적을 5개를 입력한 다음 ->list\n",
    "#데이터 프레임으로 생성하고 -> dataframe으로 생성\n",
    "#과목별 sum, average, var, std, skew, kurt, var, corr을 구하시오.\n",
    "import pandas as pd\n",
    "import sys\n",
    "\n",
    "class Student:\n",
    "    def __init__(self):\n",
    "        self.bunho=0\n",
    "        self.name=''\n",
    "        self.kor=0\n",
    "        self.mat=0\n",
    "        self.eng=0\n",
    "    def inputData(self):\n",
    "        self.name=input(\"이름을 입력하시오\")\n",
    "        self.kor=eval(input(\"국어점수를 입력하시오\"))\n",
    "        self.mat=eval(input(\"수학점수를 입력하시오\"))\n",
    "        self.eng=eval(input(\"영어점수를 입력하시오\"))\n",
    "        \n",
    "class Management:\n",
    "    schoolname='부산아카데미'\n",
    "    bunho=0\n",
    "    def __init__(self):\n",
    "        self.sungjuk=[]\n",
    "    def inputinfo(self):\n",
    "        for i in range(5):\n",
    "            stu = Student() #1인분 데이터 생성\n",
    "            stu.inputData()\n",
    "            Management.bunho+=1#전역변수+1\n",
    "            stu.bunho=Management.bunho #번호생성해서 대입\n",
    "            self.sungjuk.append(stu) #변수에 append해서 학생대입(2차원배열)\n",
    "        self.data = pd.DataFrame(self.sungjuk)\n",
    "        return self.data\n",
    "        \n",
    "menu=[\"입력(1), 종료(2)\"]\n",
    "class menuclass: #management 호출 클래스\n",
    "    def __init__(self):\n",
    "        self.man_sung=Management()\n",
    "    def play(self):\n",
    "        while 1:\n",
    "            sel=input(menu)\n",
    "            if sel==\"1\":\n",
    "                self.data = self.man_sung.inputinfo()\n",
    "                print(self.data)\n",
    "                continue\n",
    "            elif sel==\"2\":\n",
    "                sys.exit()\n",
    "            else:\n",
    "                print(\"잘못된 선택입니다. 다시 입력해 주세요.\")\n",
    "                continue\n",
    "                \n",
    "sung_play = menuclass()\n",
    "sung_play.play()"
   ]
  },
  {
   "cell_type": "code",
   "execution_count": 26,
   "metadata": {},
   "outputs": [
    {
     "name": "stdout",
     "output_type": "stream",
     "text": [
      "학생의 이름, 국어, 영어, 수학 점수를 입력하시오이준협,100,95,80\n",
      "학생의 이름, 국어, 영어, 수학 점수를 입력하시오정예원,100,100,100\n",
      "학생의 이름, 국어, 영어, 수학 점수를 입력하시오전고은,80,70,60\n",
      "학생의 이름, 국어, 영어, 수학 점수를 입력하시오이준땡,80,67,50\n",
      "학생의 이름, 국어, 영어, 수학 점수를 입력하시오정똥고,80,90,70\n"
     ]
    },
    {
     "data": {
      "text/html": [
       "<div>\n",
       "<style scoped>\n",
       "    .dataframe tbody tr th:only-of-type {\n",
       "        vertical-align: middle;\n",
       "    }\n",
       "\n",
       "    .dataframe tbody tr th {\n",
       "        vertical-align: top;\n",
       "    }\n",
       "\n",
       "    .dataframe thead th {\n",
       "        text-align: right;\n",
       "    }\n",
       "</style>\n",
       "<table border=\"1\" class=\"dataframe\">\n",
       "  <thead>\n",
       "    <tr style=\"text-align: right;\">\n",
       "      <th></th>\n",
       "      <th>국어</th>\n",
       "      <th>영어</th>\n",
       "      <th>수학</th>\n",
       "      <th>합계</th>\n",
       "      <th>평균</th>\n",
       "      <th>분산</th>\n",
       "      <th>표준편차</th>\n",
       "      <th>왜도</th>\n",
       "      <th>첨도</th>\n",
       "    </tr>\n",
       "  </thead>\n",
       "  <tbody>\n",
       "    <tr>\n",
       "      <th>이준협</th>\n",
       "      <td>100</td>\n",
       "      <td>95</td>\n",
       "      <td>80</td>\n",
       "      <td>275</td>\n",
       "      <td>137.5</td>\n",
       "      <td>6356.25</td>\n",
       "      <td>2539.795319</td>\n",
       "      <td>2.023419</td>\n",
       "      <td>5.069578e+06</td>\n",
       "    </tr>\n",
       "    <tr>\n",
       "      <th>정예원</th>\n",
       "      <td>100</td>\n",
       "      <td>100</td>\n",
       "      <td>100</td>\n",
       "      <td>300</td>\n",
       "      <td>150.0</td>\n",
       "      <td>7500.00</td>\n",
       "      <td>3001.624560</td>\n",
       "      <td>2.019941</td>\n",
       "      <td>7.081670e+06</td>\n",
       "    </tr>\n",
       "    <tr>\n",
       "      <th>전고은</th>\n",
       "      <td>80</td>\n",
       "      <td>70</td>\n",
       "      <td>60</td>\n",
       "      <td>210</td>\n",
       "      <td>105.0</td>\n",
       "      <td>3725.00</td>\n",
       "      <td>1478.866683</td>\n",
       "      <td>2.037079</td>\n",
       "      <td>1.718185e+06</td>\n",
       "    </tr>\n",
       "    <tr>\n",
       "      <th>이준땡</th>\n",
       "      <td>80</td>\n",
       "      <td>67</td>\n",
       "      <td>50</td>\n",
       "      <td>197</td>\n",
       "      <td>98.5</td>\n",
       "      <td>3347.25</td>\n",
       "      <td>1327.305752</td>\n",
       "      <td>2.039415</td>\n",
       "      <td>1.383969e+06</td>\n",
       "    </tr>\n",
       "    <tr>\n",
       "      <th>정똥고</th>\n",
       "      <td>80</td>\n",
       "      <td>90</td>\n",
       "      <td>70</td>\n",
       "      <td>240</td>\n",
       "      <td>120.0</td>\n",
       "      <td>4850.00</td>\n",
       "      <td>1932.018806</td>\n",
       "      <td>2.029988</td>\n",
       "      <td>2.933011e+06</td>\n",
       "    </tr>\n",
       "  </tbody>\n",
       "</table>\n",
       "</div>"
      ],
      "text/plain": [
       "      국어   영어   수학   합계     평균       분산         표준편차        왜도            첨도\n",
       "이준협  100   95   80  275  137.5  6356.25  2539.795319  2.023419  5.069578e+06\n",
       "정예원  100  100  100  300  150.0  7500.00  3001.624560  2.019941  7.081670e+06\n",
       "전고은   80   70   60  210  105.0  3725.00  1478.866683  2.037079  1.718185e+06\n",
       "이준땡   80   67   50  197   98.5  3347.25  1327.305752  2.039415  1.383969e+06\n",
       "정똥고   80   90   70  240  120.0  4850.00  1932.018806  2.029988  2.933011e+06"
      ]
     },
     "execution_count": 26,
     "metadata": {},
     "output_type": "execute_result"
    }
   ],
   "source": [
    "#문제\n",
    "#성적을 5개를 입력한 다음 ->list\n",
    "#데이터 프레임으로 생성하고 -> dataframe으로 생성\n",
    "#과목별 sum, average, var, std, skew, kurt, var, corr을 구하시오.\n",
    "\n",
    "students = []\n",
    "name=[]\n",
    "for i in range(5):\n",
    "    student = input(\"학생의 이름, 국어, 영어, 수학 점수를 입력하시오\") \n",
    "    students.append(student.split(\",\")[1:])\n",
    "    name.append(student.split(\",\")[0])\n",
    "    \n",
    "data = pd.DataFrame(students, columns=['국어','영어','수학'], index=name)\n",
    "# 이준협,100,95,80\n",
    "# 정예원,100,100,100\n",
    "# 전고은,80,70,60\n",
    "# 이준땡,80,67,50\n",
    "# 정똥고,80,90,70\n",
    "\n",
    "def total(data):\n",
    "    data['국어'] = pd.to_numeric(data['국어'])\n",
    "    data['영어'] = pd.to_numeric(data['영어'])\n",
    "    data['수학'] = pd.to_numeric(data['수학'])\n",
    "    data['합계'] = data.apply(lambda x : x.sum(),axis=1)\n",
    "    data['평균'] = data.apply(lambda x : x.mean(),axis=1)\n",
    "    data['분산'] = data.apply(lambda x : x.var(),axis=1)\n",
    "    data['표준편차'] = data.apply(lambda x : x.std(),axis=1)\n",
    "    data['왜도'] = data.apply(lambda x : x.skew(),axis=1)\n",
    "    data['첨도'] = data.apply(lambda x : x.var(),axis=1)\n",
    "\n",
    "total(data)\n",
    "data"
   ]
  },
  {
   "cell_type": "code",
   "execution_count": null,
   "metadata": {},
   "outputs": [],
   "source": []
  }
 ],
 "metadata": {
  "kernelspec": {
   "display_name": "Python 3",
   "language": "python",
   "name": "python3"
  },
  "language_info": {
   "codemirror_mode": {
    "name": "ipython",
    "version": 3
   },
   "file_extension": ".py",
   "mimetype": "text/x-python",
   "name": "python",
   "nbconvert_exporter": "python",
   "pygments_lexer": "ipython3",
   "version": "3.7.6"
  }
 },
 "nbformat": 4,
 "nbformat_minor": 4
}
