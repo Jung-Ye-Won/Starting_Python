{
 "cells": [
  {
   "cell_type": "code",
   "execution_count": null,
   "metadata": {},
   "outputs": [],
   "source": [
    "# 파이썬 코어\n",
    "-high-level 고급언어 \n",
    "-interpreter 언어\n",
    "-interactive 대화형언어\n",
    "-Object-Oriented 언어\n",
    "-Scripting 언어\n",
    "\n",
    "#명령행 모드(커서가없음)와 편집행(커서가 있음) 모드\n",
    "-esc + dd\n",
    "-esc + m 에러가 주석으로 바뀐다. -> esc + y\n",
    "-esc + b 밑에줄 생김\n",
    "-esc + a 위에줄 생김\n",
    "-h 단축키\n",
    "\n",
    "####\n",
    "-control + enter 밑에 생기지 않고 실행\n",
    "-shift + enter(맨마지막인 경우만 추가시킨다.), alt + enter"
   ]
  },
  {
   "cell_type": "code",
   "execution_count": null,
   "metadata": {},
   "outputs": [],
   "source": [
    "#명령행모드와 편집행 모드"
   ]
  },
  {
   "cell_type": "code",
   "execution_count": 2,
   "metadata": {},
   "outputs": [
    {
     "name": "stdout",
     "output_type": "stream",
     "text": [
      "10\n",
      "10\n",
      "주소값= 140713820988080\n",
      "주소값= 140713820988080\n",
      "20\n",
      "10\n",
      "주소값= 140713820988400\n",
      "주소값= 140713820988080\n"
     ]
    },
    {
     "ename": "NameError",
     "evalue": "name 'c' is not defined",
     "output_type": "error",
     "traceback": [
      "\u001b[1;31m---------------------------------------------------------------------------\u001b[0m",
      "\u001b[1;31mNameError\u001b[0m                                 Traceback (most recent call last)",
      "\u001b[1;32m<ipython-input-2-0e0948b10f8c>\u001b[0m in \u001b[0;36m<module>\u001b[1;34m\u001b[0m\n\u001b[0;32m     10\u001b[0m \u001b[0mprint\u001b[0m\u001b[1;33m(\u001b[0m\u001b[1;34m\"주소값=\"\u001b[0m\u001b[1;33m,\u001b[0m \u001b[0mid\u001b[0m\u001b[1;33m(\u001b[0m\u001b[0ma\u001b[0m\u001b[1;33m)\u001b[0m\u001b[1;33m)\u001b[0m\u001b[1;33m\u001b[0m\u001b[1;33m\u001b[0m\u001b[0m\n\u001b[0;32m     11\u001b[0m \u001b[0mprint\u001b[0m\u001b[1;33m(\u001b[0m\u001b[1;34m\"주소값=\"\u001b[0m\u001b[1;33m,\u001b[0m \u001b[0mid\u001b[0m\u001b[1;33m(\u001b[0m\u001b[0mb\u001b[0m\u001b[1;33m)\u001b[0m\u001b[1;33m)\u001b[0m\u001b[1;33m\u001b[0m\u001b[1;33m\u001b[0m\u001b[0m\n\u001b[1;32m---> 12\u001b[1;33m \u001b[0mc\u001b[0m\u001b[1;33m\u001b[0m\u001b[1;33m\u001b[0m\u001b[0m\n\u001b[0m\u001b[0;32m     13\u001b[0m \u001b[0mprint\u001b[0m\u001b[1;33m(\u001b[0m\u001b[0mc\u001b[0m\u001b[1;33m)\u001b[0m \u001b[1;31m#변수 초기화가 되어있지 않아 에러가난다.\u001b[0m\u001b[1;33m\u001b[0m\u001b[1;33m\u001b[0m\u001b[0m\n\u001b[0;32m     14\u001b[0m \u001b[1;31m#변수 초기화는 필수이다.(포인터 변수이기 떄문에 초기화하지 않으면 에러가 난다.)\u001b[0m\u001b[1;33m\u001b[0m\u001b[1;33m\u001b[0m\u001b[1;33m\u001b[0m\u001b[0m\n",
      "\u001b[1;31mNameError\u001b[0m: name 'c' is not defined"
     ]
    }
   ],
   "source": [
    "a=10\n",
    "b=a #a가 가르키는 주소를 넘겨준 것임, 주소전달(reference, pointer, 파이썬에서는 일반변수에서 사용하고있다.)\n",
    "print(a) #일반함수에 넣어주면 값이나오고\n",
    "print(b)\n",
    "print(\"주소값=\", id(a)) #id란 함수에 넣어주면 주소값이 나온다.\n",
    "print(\"주소값=\", id(a))\n",
    "a=20 #주소변경\n",
    "print(a)\n",
    "print(b)\n",
    "print(\"주소값=\", id(a))\n",
    "print(\"주소값=\", id(b))\n",
    "c\n",
    "print(c) #변수 초기화가 되어있지 않아 에러가난다.\n",
    "#변수 초기화는 필수이다.(포인터 변수이기 떄문에 초기화하지 않으면 에러가 난다.)\n",
    "\n",
    "#shift+enter - 결과값\n",
    "#대입은 주소를 바꾸고 변수에 변수를 대입하면 주소가 전달된다.(값이 전달되지 않는다.)"
   ]
  },
  {
   "cell_type": "code",
   "execution_count": 6,
   "metadata": {},
   "outputs": [
    {
     "data": {
      "text/plain": [
       "int"
      ]
     },
     "execution_count": 6,
     "metadata": {},
     "output_type": "execute_result"
    }
   ],
   "source": [
    "type(a) #데이터타입을 지정하지 않는 대신에\n",
    "#데이터타입을 확인하는것은 개발자 책임이다."
   ]
  },
  {
   "cell_type": "code",
   "execution_count": 7,
   "metadata": {},
   "outputs": [
    {
     "name": "stdout",
     "output_type": "stream",
     "text": [
      "10\n",
      "20\n"
     ]
    }
   ],
   "source": [
    "a=10\n",
    "A=20\n",
    "print(a)\n",
    "print(A) #대소문자를 구분한다."
   ]
  },
  {
   "cell_type": "code",
   "execution_count": 8,
   "metadata": {},
   "outputs": [
    {
     "name": "stdout",
     "output_type": "stream",
     "text": [
      "수식을 입력하시오3-3\n",
      "3-3\n",
      "0\n"
     ]
    }
   ],
   "source": [
    "problem = input(\"수식을 입력하시오\") #입출력할때의 데이터타입(문자열로 입출력 String)\n",
    "print(problem)\n",
    "print(eval(problem)) #합계 출력 eval수식을 평가해서 수식을 연산식으로 변경한다."
   ]
  },
  {
   "cell_type": "code",
   "execution_count": 13,
   "metadata": {},
   "outputs": [
    {
     "name": "stdout",
     "output_type": "stream",
     "text": [
      "32\n",
      "23.0\n",
      "23\n",
      "23.5\n",
      "33\n",
      "33.0\n"
     ]
    }
   ],
   "source": [
    "#Casting 형변환\n",
    "print(int(\"32\")) #문자를 int형으로 캐스팅\n",
    "print(float(\"23\"))\n",
    "print(eval(\"23\")) # eval은 정수형은 정수형으로 실수형은 실수형으로 변환한다.\n",
    "print(eval(\"23.5\"))\n",
    "x=5\n",
    "print(eval(\"23+(2*x)\")) #캐스팅이 가능한거는 타입이 일치해야 한다.\n",
    "x=5.0\n",
    "print(eval(\"23+(2*x)\"))"
   ]
  },
  {
   "cell_type": "code",
   "execution_count": 16,
   "metadata": {},
   "outputs": [
    {
     "name": "stdout",
     "output_type": "stream",
     "text": [
      "123\n",
      "1.2\n",
      "0.00424\n",
      "127\n",
      "143\n",
      "<class 'int'>\n",
      "<class 'float'>\n",
      "<class 'float'>\n",
      "<class 'int'>\n",
      "<class 'int'>\n"
     ]
    }
   ],
   "source": [
    "#int, float\n",
    "a1 = 123\n",
    "a2 = 1.2 #부동소수점 float \n",
    "a3 = 4.24e-3 #지수형\n",
    "a4 = 0o177 #octal 8진수\n",
    "a5 = 0X8f #hexa 16진수\n",
    "print(a1)\n",
    "print(a2)\n",
    "print(a3)\n",
    "print(a4) #127 = 1*8^2 + 2*8 + 7*8^0\n",
    "print(a5)\n",
    "print(type(a1))\n",
    "print(type(a2))\n",
    "print(type(a3))\n",
    "print(type(a4))\n",
    "print(type(a5))"
   ]
  },
  {
   "cell_type": "code",
   "execution_count": 17,
   "metadata": {},
   "outputs": [
    {
     "data": {
      "text/plain": [
       "127"
      ]
     },
     "execution_count": 17,
     "metadata": {},
     "output_type": "execute_result"
    }
   ],
   "source": [
    "(1*64) + (7*8) + 7"
   ]
  },
  {
   "cell_type": "code",
   "execution_count": 18,
   "metadata": {},
   "outputs": [
    {
     "name": "stdout",
     "output_type": "stream",
     "text": [
      "MY name is 김종호 and I am from AI , 10\n",
      "My name is cats and I am from 김종호 and I like 3\n"
     ]
    }
   ],
   "source": [
    "#format 문자열\n",
    "#변동하는 문자열\n",
    "print(\"MY name is %s and I am from %s , %i\" %('김종호','AI',10)) #C방식\n",
    "#%s - 문자열 들어오겠다. %i 숫자형들어오겠다.\n",
    "print(\"My name is {thing} and I am from {0} and I like {1}\".format('김종호',3,thing='cats')) #C#방식\n",
    "#tuple은 ()를 사용"
   ]
  },
  {
   "cell_type": "code",
   "execution_count": 24,
   "metadata": {},
   "outputs": [
    {
     "name": "stdout",
     "output_type": "stream",
     "text": [
      "이름을 입력하시오 : 정 예 원\n",
      "정\n",
      " \n",
      "예\n",
      "3\n",
      "이름 :  원\n",
      "성 :  정 예\n"
     ]
    }
   ],
   "source": [
    "#문자열 등 모든것이 객체가\n",
    "#클래스에서 참조하는 연산자 '.' 연산자로 문자열 객체의 함수를 호출하였다.\n",
    "#문자열은 기본적으로 일차원 배열이다.\n",
    "#인덱스는 0부터 시작\n",
    "#범위연산자 : (colon)\n",
    "#뒤에 없으면 마지막, 처음에 없으면 처음부터, 인덱스가 0부터 시작하기 때문에 범위값의 뒤의 수는 제외한다.\n",
    "\n",
    "fullName = input(\"이름을 입력하시오 : \")\n",
    "n = fullName.rfind(\" \") #reverse 뒤에서부터 찾아와라, 클래스의 메소드를 호출하는것처럼 사용이 가능한 이유는 객체이기 때문이다.\n",
    "n = fullName.find(\" \") #앞에서부터 찾은 첫번째 공백\n",
    "print(fullName[0]) #스페이스도 인덱스의 값으로 인식된다.\n",
    "print(fullName[1]) \n",
    "print(fullName[2])\n",
    "print(n) #뒤에서 부터 찾은 첫번째공백의 인덱스 번호\n",
    "print(\"이름 : \", fullName[n+1:]) #공백뒤의 문자\n",
    "print(\"성 : \", fullName[:n]) #n자체는 제외한다.(0번인덱스부터 n-1(공백앞)까지)"
   ]
  },
  {
   "cell_type": "code",
   "execution_count": 29,
   "metadata": {},
   "outputs": [
    {
     "name": "stdout",
     "output_type": "stream",
     "text": [
      "koreakorea\n",
      "koreakoreakorea\n",
      "korea\n",
      "a\n",
      "a\n",
      "or\n",
      "ea\n",
      "ea\n",
      "e\n",
      "5\n"
     ]
    },
    {
     "data": {
      "text/plain": [
       "['ko', 'ea']"
      ]
     },
     "execution_count": 29,
     "metadata": {},
     "output_type": "execute_result"
    }
   ],
   "source": [
    "#순차형 자료구조 (str, list, tuple에 공통적으로 사용되는 자료구조)\n",
    "#자료구조에 +, *, len 연산사용가능\n",
    "\n",
    "s = 'korea'\n",
    "print(s+s) #문자열 덧셈\n",
    "print(s*3) #문자열 곱셈가능(반복횟수)\n",
    "print(s[0:]) #0번부터 끝까지\n",
    "print(s[4])\n",
    "print(s[-1]) #마지막으로 부터(마지막을 기준으로 한칸) n-1하지 않는다.\n",
    "print(s[1:3]) #인덱스 1~2\n",
    "print(s[-2:]) #마지막에서 두칸전까지\n",
    "\n",
    "print(s[-2:5]) #마지막에서 2번전부터 5인덱스까지\n",
    "print(s[3:-1]) #R에서는 인덱스에 +,-를 섞어 쓸 수 없었는데 여기선 가능\n",
    "print(len(s)) #몇글자냐\n",
    "s.split('r') #나눠라 r을 기준으로"
   ]
  },
  {
   "cell_type": "code",
   "execution_count": 11,
   "metadata": {},
   "outputs": [
    {
     "name": "stdout",
     "output_type": "stream",
     "text": [
      "['Seoul', ' Incheon', ' won']\n"
     ]
    },
    {
     "data": {
      "text/plain": [
       "'Seoul, Incheon, won'"
      ]
     },
     "execution_count": 11,
     "metadata": {},
     "output_type": "execute_result"
    }
   ],
   "source": [
    "t=\"Seoul, Incheon, won\".split(\",\")\n",
    "print(t) #list 타입으로 return 되었다.\n",
    "','.join(t) #문자열로 join 하라 가진 배열의 문자열을 ','로 한줄(하나로)로 묶어라"
   ]
  },
  {
   "cell_type": "code",
   "execution_count": 30,
   "metadata": {},
   "outputs": [
    {
     "name": "stdout",
     "output_type": "stream",
     "text": [
      "<class 'str'>\n",
      "Korea\n",
      "2\n",
      "1\n",
      "True\n",
      "False\n",
      "True\n",
      "koRea\n",
      "False\n",
      "True\n"
     ]
    }
   ],
   "source": [
    "s='korea'\n",
    "print(type(s)) #str\n",
    "print(s.capitalize()) #첫문자 대문자\n",
    "print(s.find('r')) #위치(인덱스)\n",
    "print(s.count('re')) #등장횟수\n",
    "print(s.isalpha()) #알파벳이냐(T/F)\n",
    "print(s.isdigit()) #숫자냐(T/F)\n",
    "print('0123'.isdigit())\n",
    "print(s.replace('r','R')) #대체\n",
    "print(s.startswith('K')) #처음시작하는 놈이 k이냐\n",
    "print(s.endswith('a')) #마지막문자 확인"
   ]
  },
  {
   "cell_type": "code",
   "execution_count": 36,
   "metadata": {},
   "outputs": [
    {
     "name": "stdout",
     "output_type": "stream",
     "text": [
      "1.23    1.23\n"
     ]
    },
    {
     "data": {
      "text/plain": [
       "str"
      ]
     },
     "execution_count": 36,
     "metadata": {},
     "output_type": "execute_result"
    }
   ],
   "source": [
    "#숫자를 문자열로 캐스팅한다.(데이터타입과 이름이 같은 함수를 사용한다.)\n",
    "f=1.23\n",
    "g=str(f)\n",
    "h=repr(f) #문자열 생성, 위의 함수보다 권장되는 함수이다.\n",
    "print(g, \"  \", h)\n",
    "type(h)"
   ]
  },
  {
   "cell_type": "code",
   "execution_count": 26,
   "metadata": {},
   "outputs": [
    {
     "name": "stdout",
     "output_type": "stream",
     "text": [
      "7 -1 12 0.75\n",
      "3\n",
      "1.75\n",
      "1\n"
     ]
    }
   ],
   "source": [
    "a=3\n",
    "b=4\n",
    "print(a+b, a-b, a*b, a/b)\n",
    "print(a%b) #나머지 연산자\n",
    "print(7/4) \n",
    "print(7//7) #몫 연산자"
   ]
  },
  {
   "cell_type": "code",
   "execution_count": 27,
   "metadata": {},
   "outputs": [],
   "source": [
    "#데이터 타입의 종류가\n",
    "#int, floar, list[], tuple(), dict{}, set{}"
   ]
  },
  {
   "cell_type": "code",
   "execution_count": 39,
   "metadata": {},
   "outputs": [
    {
     "name": "stdout",
     "output_type": "stream",
     "text": [
      "6\n",
      "1\n",
      "11\n",
      "1024\n",
      "3\n",
      "3.14\n"
     ]
    }
   ],
   "source": [
    "print(sum([1,2,3]))\n",
    "print(min([1,2,3]))\n",
    "print(abs(-11)) #절대값\n",
    "print(pow(2,10)) #power는 승수(n,몇승)\n",
    "print(round(3.141592)) #소수점 제거\n",
    "print(round(3.141592,2))"
   ]
  },
  {
   "cell_type": "code",
   "execution_count": 40,
   "metadata": {},
   "outputs": [
    {
     "name": "stdout",
     "output_type": "stream",
     "text": [
      "정수를 입력하시오24\n",
      "정수를 입력하시오15\n",
      "홀수입니다.\n"
     ]
    }
   ],
   "source": [
    "num1 = input(\"정수를 입력하시오\")\n",
    "num2 = input(\"정수를 입력하시오\")\n",
    "hab=int(num1) + int(num2)\n",
    "quotient=hab//2\n",
    "remainder=hab%2\n",
    "if remainder ==0: #중괄호가 없이 들여쓰기로 실행된다. 들여쓰기 안하면 에러난다.\n",
    "    #: = 함수의 시작이다.\n",
    "    print(\"짝수입니다.\")\n",
    "else:\n",
    "    print(\"홀수입니다.\")\n",
    "    #for, def(함수), class 는 모두 들여쓰기를 해주어야 한다."
   ]
  },
  {
   "cell_type": "code",
   "execution_count": 37,
   "metadata": {},
   "outputs": [],
   "source": [
    "#소통이 잘되는 사람(computer programming)"
   ]
  },
  {
   "cell_type": "code",
   "execution_count": 41,
   "metadata": {},
   "outputs": [
    {
     "name": "stdout",
     "output_type": "stream",
     "text": [
      "정수를 입력하시오45\n",
      "가위\n",
      "가위이다.\n"
     ]
    }
   ],
   "source": [
    "select = int(input(\"정수를 입력하시오\"))%3\n",
    "if select ==0: #colon : 이 block의 시작이다.\n",
    "    print(\"가위\")\n",
    "    print(\"가위이다.\") #열이 맞아야 실행된다.\n",
    "elif select ==1: #else if 를 줄여서 elif\n",
    "    print(\"바위\")\n",
    "else:\n",
    "    print(\"보\")"
   ]
  },
  {
   "cell_type": "code",
   "execution_count": 42,
   "metadata": {},
   "outputs": [
    {
     "name": "stdout",
     "output_type": "stream",
     "text": [
      "a\tb\tc\n",
      "a                   b                   c\n",
      "a                   b\n",
      "c                   d\n"
     ]
    }
   ],
   "source": [
    "print(\"a\\tb\\tc\") #일정한 간격을 갖고 싶을때 사용하는 \\t \n",
    "print(\"a\\tb\\tc\".expandtabs(20)) #\\t 띄어쓰기 20개\n",
    "print(\"a\\tb\\nc\\td\".expandtabs(20)) #\\n 줄바꾸기"
   ]
  },
  {
   "cell_type": "code",
   "execution_count": 28,
   "metadata": {},
   "outputs": [
    {
     "name": "stdout",
     "output_type": "stream",
     "text": [
      "    1,player              , HR\n"
     ]
    }
   ],
   "source": [
    "print('1'.rjust(5), 'player'.ljust(20), \"HR\".rjust(3), sep=\",\")\n",
    "#다섯칸(n)을 만들고 왼쪽에 정렬하여라."
   ]
  },
  {
   "cell_type": "code",
   "execution_count": 43,
   "metadata": {},
   "outputs": [
    {
     "name": "stdout",
     "output_type": "stream",
     "text": [
      "4\n",
      "water\n",
      "['water', 'earths']\n",
      "['fire', 'water', 'earths', 1]\n"
     ]
    }
   ],
   "source": [
    "#random\n",
    "import random\n",
    "#heap에 데이터 earth를 저장하고 list에는 earth의 주소가 담겨있다.\n",
    "\n",
    "print(random.randint(1,5)) #정수발생기(마지막제외)\n",
    "elements = [\"earth\",1,\"fire\",\"water\"] #데이터가 이질적이다(다른 자료형을 지닌다. <->동질적이다.)\n",
    "#주소값이기 때문에 이질적인 데이터도 저장이 가능하다.\n",
    "#메모리 해제를 자동 : 가비지 컬렉터(GC) 참조하는 변수가 없을때\n",
    "#참조하는 변수가 없다는 말은 주소 값을 가진 변수가 존재하지 않다는 것을 의미한다.\n",
    "\n",
    "elements[0]=\"earths\" #변경,대입\n",
    "print(random.choice(elements)) #랜덤으로 하나 추출\n",
    "print(random.sample(elements,2)) #랜덤으로 두개 추출\n",
    "random.shuffle(elements) #카드 패 섞드시 순서를 섞는다.(가진 요소를 무직위로 섞는다.)\n",
    "print(elements)\n",
    "\n",
    "#순차적자료구조\n",
    "#String, list, tuple 은 다 인덱싱으로 접근할 수 있다."
   ]
  },
  {
   "cell_type": "code",
   "execution_count": 70,
   "metadata": {},
   "outputs": [
    {
     "name": "stdout",
     "output_type": "stream",
     "text": [
      "이름을 입력하시오정예원\n",
      "국어점수를 입력하시오75\n",
      "영어점수를 입력하시오80\n",
      "수학점수를 입력하시오90\n",
      "총점은  245 입니다.\n",
      "평균은  81.67 입니다.\n",
      "-------\n",
      "    이름         국어         영어         수학         총점         평균    \n",
      "   정예원         75         80         90        245       81.67   \n"
     ]
    }
   ],
   "source": [
    "#문제\n",
    "#국어, 영어, 수학점수를 입력받아서 합계와 평균을 출력하시오\n",
    "name = input(\"이름을 입력하시오\")\n",
    "korean = input(\"국어점수를 입력하시오\")\n",
    "english = input(\"영어점수를 입력하시오\")\n",
    "math = input(\"수학점수를 입력하시오\")\n",
    "total = int(korean)+int(english)+int(math)\n",
    "avg = round(total/3,2) #셋째자리에서 반올림하여 둘째자리까지 표현하는것\n",
    "\n",
    "print(\"총점은 \", total,\"입니다.\")\n",
    "print(\"평균은 \", avg,\"입니다.\")\n",
    "print(\"-------\")\n",
    "print(\"이름\".center(10), \"국어\".center(10),\"영어\".center(10),\"수학\".center(10),\"총점\".center(10),\"평균\".center(10))\n",
    "print(name.center(10), korean.center(10), english.center(10), math.center(10), str(total).center(10), str(avg).center(10))"
   ]
  },
  {
   "cell_type": "code",
   "execution_count": 71,
   "metadata": {},
   "outputs": [
    {
     "name": "stdout",
     "output_type": "stream",
     "text": [
      "113.06\n"
     ]
    }
   ],
   "source": [
    "#세금이 12.5%인 과일을 100.50원을 붙여 팔았다. 매출액은 얼마인가\n",
    "#소수점 2째자리까지 표현하시오\n",
    "\n",
    "print(round(100.50*(1.125),2))"
   ]
  },
  {
   "cell_type": "code",
   "execution_count": 74,
   "metadata": {},
   "outputs": [
    {
     "name": "stdout",
     "output_type": "stream",
     "text": [
      "판매한 과일개수를 입력하시오50\n",
      "5653.12\n"
     ]
    }
   ],
   "source": [
    "#50개를 팔았을때를 계산해 보시오\n",
    "n = input(\"판매한 과일개수를 입력하시오\")\n",
    "print(round(100.50*(1.125)*int(n),2))"
   ]
  },
  {
   "cell_type": "code",
   "execution_count": 78,
   "metadata": {},
   "outputs": [
    {
     "name": "stdout",
     "output_type": "stream",
     "text": [
      "Seoul, Incheon, won\n"
     ]
    }
   ],
   "source": [
    "print(_) #'_'에 맨 마지막의 계산결과를 넣어놓는다."
   ]
  },
  {
   "cell_type": "code",
   "execution_count": 81,
   "metadata": {},
   "outputs": [
    {
     "name": "stdout",
     "output_type": "stream",
     "text": [
      "[5, 7, 6, 2]\n",
      "4 7 2 20\n",
      "5 2 [5, 7] [7, 6]\n"
     ]
    }
   ],
   "source": [
    "t = [5,7,6,2] #t=list([5,7,6,2]) 와 동일하다.(단일 매개변수가 들어간 것이다.)\n",
    "print(t)\n",
    "\n",
    "#java에서 max하게 되어지면 요소가 들어가줘야 했는데\n",
    "#여기선 collections : list,tuple,dict,set 같은 것들이 들어간다.\n",
    "print(len(t), max(t), min(t), sum(t))\n",
    "print(t[0], t[-1], t[:2], t[1:3]) #앞에서부터 2개, 1번~3번 인덱스"
   ]
  },
  {
   "cell_type": "code",
   "execution_count": 84,
   "metadata": {},
   "outputs": [],
   "source": [
    "a = 20\n",
    "b = 10\n",
    "c = a>10 and b<20 #앞에께 거짓이면 뒤에꺼까지 안함 기존의 언어들 (둘다 참이어야 하니까.)\n",
    "print(c)\n",
    "c=10<a<50 #파이썬에서는 비교연산자를 연달아 사용이 가능하다.(사람처럼 사용한다.)\n",
    "#연산자 오버라이딩 시켜놓았다.\n",
    "print(c)\n",
    "#비교연산자\n",
    "#>,<,>=,<=,==,!="
   ]
  },
  {
   "cell_type": "code",
   "execution_count": 88,
   "metadata": {},
   "outputs": [
    {
     "name": "stdout",
     "output_type": "stream",
     "text": [
      "6 5\n",
      "(5, 6)\n"
     ]
    }
   ],
   "source": [
    "x = 5\n",
    "y = 6\n",
    "#temp = x #x값 백업, 기존의 프로그램\n",
    "#x = y\n",
    "#y = temp\n",
    "\n",
    "x,y = y,x #대입연산자가 동시에 가능\n",
    "#멀티 리턴이 가능하기 때문, 다중값 리턴이 가능하다. 여러개의 값을 리턴한다.\n",
    "print(x,y)\n",
    "t = y,x #tuple로 리턴된다.\n",
    "print(t)"
   ]
  },
  {
   "cell_type": "code",
   "execution_count": 90,
   "metadata": {},
   "outputs": [
    {
     "data": {
      "text/plain": [
       "(5, 6)"
      ]
     },
     "execution_count": 90,
     "metadata": {},
     "output_type": "execute_result"
    }
   ],
   "source": [
    "5,6 #데이터 타입(자료구조)을 지정하지 않으면 디폴트값은 튜플로 생성된다.\n",
    "#튜플값은 수정할 수 없다."
   ]
  },
  {
   "cell_type": "code",
   "execution_count": 95,
   "metadata": {},
   "outputs": [
    {
     "name": "stdout",
     "output_type": "stream",
     "text": [
      "숫자를 입력하시오.1\n",
      "Good\n"
     ]
    }
   ],
   "source": [
    "#문제 \n",
    "#입력한 숫자가 0.5보다 크거나 같거나 또한 1보다 작거나 같거나 하면\n",
    "#\"Good\" 이라 출력하고, 아니면 \"Bad\"라 출력하는 프로그램을 작성하시오\n",
    "num = input(\"숫자를 입력하시오.\")\n",
    "if 0.5<=float(num)<=1:\n",
    "    print(\"Good\")\n",
    "else:\n",
    "    print(\"Bad\")"
   ]
  },
  {
   "cell_type": "code",
   "execution_count": 97,
   "metadata": {},
   "outputs": [
    {
     "name": "stdout",
     "output_type": "stream",
     "text": [
      "첫번째 수를 입력하시오1\n",
      "두번째 수를 입력하시오2\n",
      "세번째 수를 입력하시오3\n",
      "가장 큰 수는 3 입니다.\n"
     ]
    }
   ],
   "source": [
    "#if문을 이용해서 3개의 수를 입력받아 가장 큰 수만 출력하시오\n",
    "num1 = input(\"첫번째 수를 입력하시오\")\n",
    "num2 = input(\"두번째 수를 입력하시오\")\n",
    "num3 = input(\"세번째 수를 입력하시오\")\n",
    "if num1<=num2<=num3:\n",
    "    print(\"가장 큰 수는\", num3,\"입니다.\")\n",
    "elif num1<=num3<=num2:\n",
    "    print(\"가장 큰 수는\", num2,\"입니다.\")\n",
    "else:\n",
    "    print(\"가장 큰 수는\", num1,\"입니다.\")\n",
    "#경우의 수를 많게 하면 불리하다.\n",
    "#많이 비교하게하는 프로그램은 좋은 프로그램이 아니다."
   ]
  },
  {
   "cell_type": "code",
   "execution_count": 99,
   "metadata": {},
   "outputs": [
    {
     "name": "stdout",
     "output_type": "stream",
     "text": [
      "첫번째 수를 입력하시오2\n",
      "두번째 수를 입력하시오1\n",
      "세번째 수를 입력하시오3\n",
      "가장 큰 수는 3 입니다.\n"
     ]
    }
   ],
   "source": [
    "num1 = input(\"첫번째 수를 입력하시오\")\n",
    "num2 = input(\"두번째 수를 입력하시오\")\n",
    "num3 = input(\"세번째 수를 입력하시오\")\n",
    "max = num1\n",
    "if num2 > max:\n",
    "    max = num2\n",
    "if num3 > max:\n",
    "    max = num3\n",
    "print(\"가장 큰 수는\", max,\"입니다.\")\n",
    "#가급적 판단횟수 비교횟수를 줄여야 한다. ( 최적화 한다고 한다. )"
   ]
  },
  {
   "cell_type": "code",
   "execution_count": 101,
   "metadata": {},
   "outputs": [
    {
     "name": "stdout",
     "output_type": "stream",
     "text": [
      "3hi\n",
      "[3, ['a', 'b', 'c'], 4]\n",
      "['a', 'b']\n",
      "1\n",
      "Life\n"
     ]
    }
   ],
   "source": [
    "#실제 리스트에는 주소가 저장된다.\n",
    "a = [1,2,3]\n",
    "b = str(a[2])+'hi'\n",
    "print(b)\n",
    "a=[1,2,3,['a','b','c'],4,5] #배열속의 배열 2차원 배열이다.\n",
    "print(a[2:5]) #2~4번 인덱스 출력\n",
    "print(a[3][:2]) #3번인덱스안에서 2번까지\n",
    "a = [1,2,['a','b',['Life','is']]] #3차원 배열이다.\n",
    "print(a[0])\n",
    "print(a[2][2][0]) #3차원배열을 []대괄호 3개로 접근하였다.\n",
    "#리스트에서 다차원을 표현하는 방법이다."
   ]
  },
  {
   "cell_type": "code",
   "execution_count": 104,
   "metadata": {},
   "outputs": [
    {
     "name": "stdout",
     "output_type": "stream",
     "text": [
      "[1, 2, 4]\n",
      "[1, 'a', 'b', 'c', 4]\n"
     ]
    },
    {
     "data": {
      "text/plain": [
       "[1, 'a', ['하나', '둘', '셋'], 'c', 4]"
      ]
     },
     "execution_count": 104,
     "metadata": {},
     "output_type": "execute_result"
    }
   ],
   "source": [
    "a = [1,2,3]\n",
    "a[2] = 4\n",
    "print(a)\n",
    "a[1:2] = ['a','b','c'] #1~2-1 사실 1번 인덱스\n",
    "print(a) #값은 대체해 주었다.\n",
    "a[2] = ['하나','둘','셋'] #하나를 대체한 경우 통째로 들어간다.\n",
    "a"
   ]
  },
  {
   "cell_type": "code",
   "execution_count": 105,
   "metadata": {},
   "outputs": [
    {
     "data": {
      "text/plain": [
       "range(1, 6)"
      ]
     },
     "execution_count": 105,
     "metadata": {},
     "output_type": "execute_result"
    }
   ],
   "source": [
    "a=range(1,6,1) #generator 생성 (초기값, 라스트값, 중간값)\n",
    "print(a)"
   ]
  },
  {
   "cell_type": "code",
   "execution_count": 108,
   "metadata": {},
   "outputs": [
    {
     "name": "stdout",
     "output_type": "stream",
     "text": [
      "[[1, 2, 3], [4, 5, 6], [7, 8, 9]]\n",
      "[[100, 0, 0, 0], [100, 0, 0, 0], [100, 0, 0, 0]]\n"
     ]
    }
   ],
   "source": [
    "mat = [[1,2,3],[4,5,6],[7,8,9]] #3*3행렬\n",
    "print(mat)\n",
    "mat = [[0]*4]*3 # 3*4행렬\n",
    "#str, list, tuple은 곱하기(반복) 더하기(결합) 연산이 가능하다.\n",
    "mat[0][0] = 100\n",
    "print(mat) #같은 주소가 반복되어 첫번째 인덱스 하나만 바꾸고 싶었지만 그 주소를 가진 모든 인덱스가 값이 변경되었다.\n",
    "#주의하여야 한다."
   ]
  },
  {
   "cell_type": "code",
   "execution_count": 110,
   "metadata": {},
   "outputs": [
    {
     "name": "stdout",
     "output_type": "stream",
     "text": [
      "60\n",
      "80\n"
     ]
    }
   ],
   "source": [
    "#스택 자료형 구현(list를 이용해서 stack을 구현하였다.)\n",
    "#last in first out LIFO 후입선출 구조\n",
    "a = [10,20,30,40,50]\n",
    "a.append(60) #뒤에 입력\n",
    "print(a.pop()) #뒤에서 꺼냄\n",
    "a.append(70)\n",
    "a.append(80)\n",
    "print(a.pop())"
   ]
  },
  {
   "cell_type": "code",
   "execution_count": 127,
   "metadata": {},
   "outputs": [
    {
     "name": "stdout",
     "output_type": "stream",
     "text": [
      "10\n",
      "***\n"
     ]
    }
   ],
   "source": [
    "#큐 자료형 구현\n",
    "#first in first out 선입선출 구조\n",
    "a=[10,20,30,40,50]\n",
    "a.append(60)\n",
    "print(a.pop(0)) "
   ]
  },
  {
   "cell_type": "code",
   "execution_count": null,
   "metadata": {},
   "outputs": [],
   "source": [
    "#stack과 queue는 개념적인것\n",
    "#어떤 명령어를 쓰느냐에 따른것이지 메모리를 묶어놓은 것이 아니다.\n",
    "printer=[] #리스트가 거짓(F)인 경우 = 데이터가 없는 경우 , 선언만하고 초기화가 안된 경우\n",
    "#[],{},\"\",0 - False\n",
    "#데이터가 존재하면 - True\n",
    "if not printer: #!= if not 데이터가 없는것이 true\n",
    "    print(\"리스트가 비어있습니다.\")\n",
    "printer.append(60)\n",
    "printer.append(50)\n",
    "if not printer:\n",
    "    print.pop() #뒤에서 빼고\n",
    "print.append(40)\n",
    "printer.pop #앞에서 빼고있다."
   ]
  },
  {
   "cell_type": "code",
   "execution_count": 3,
   "metadata": {},
   "outputs": [
    {
     "name": "stdout",
     "output_type": "stream",
     "text": [
      "7 12\n",
      "7\n"
     ]
    },
    {
     "ename": "TypeError",
     "evalue": "can't multiply sequence by non-int of type 'str'",
     "output_type": "error",
     "traceback": [
      "\u001b[1;31m---------------------------------------------------------------------------\u001b[0m",
      "\u001b[1;31mTypeError\u001b[0m                                 Traceback (most recent call last)",
      "\u001b[1;32m<ipython-input-3-bf60ec0b1ba6>\u001b[0m in \u001b[0;36m<module>\u001b[1;34m\u001b[0m\n\u001b[0;32m     21\u001b[0m     \u001b[0md\u001b[0m \u001b[1;33m=\u001b[0m \u001b[0ma\u001b[0m\u001b[1;33m*\u001b[0m\u001b[0mb\u001b[0m \u001b[1;31m#숫자형 아니여서 곱하기 불가능\u001b[0m\u001b[1;33m\u001b[0m\u001b[1;33m\u001b[0m\u001b[0m\n\u001b[0;32m     22\u001b[0m     \u001b[1;32mreturn\u001b[0m \u001b[0mc\u001b[0m\u001b[1;33m,\u001b[0m \u001b[0md\u001b[0m\u001b[1;33m\u001b[0m\u001b[1;33m\u001b[0m\u001b[0m\n\u001b[1;32m---> 23\u001b[1;33m \u001b[0mx\u001b[0m\u001b[1;33m,\u001b[0m\u001b[0my\u001b[0m \u001b[1;33m=\u001b[0m \u001b[0mcalc2\u001b[0m\u001b[1;33m(\u001b[0m\u001b[1;34m\"abc\"\u001b[0m\u001b[1;33m,\u001b[0m\u001b[1;34m\"def\"\u001b[0m\u001b[1;33m)\u001b[0m\u001b[1;33m\u001b[0m\u001b[1;33m\u001b[0m\u001b[0m\n\u001b[0m\u001b[0;32m     24\u001b[0m \u001b[0mprint\u001b[0m\u001b[1;33m(\u001b[0m\u001b[0mx\u001b[0m\u001b[1;33m,\u001b[0m\u001b[0my\u001b[0m\u001b[1;33m)\u001b[0m\u001b[1;33m\u001b[0m\u001b[1;33m\u001b[0m\u001b[0m\n",
      "\u001b[1;32m<ipython-input-3-bf60ec0b1ba6>\u001b[0m in \u001b[0;36mcalc2\u001b[1;34m(a, b)\u001b[0m\n\u001b[0;32m     19\u001b[0m \u001b[1;32mdef\u001b[0m \u001b[0mcalc2\u001b[0m\u001b[1;33m(\u001b[0m\u001b[0ma\u001b[0m\u001b[1;33m,\u001b[0m\u001b[0mb\u001b[0m\u001b[1;33m)\u001b[0m\u001b[1;33m:\u001b[0m\u001b[1;33m\u001b[0m\u001b[1;33m\u001b[0m\u001b[0m\n\u001b[0;32m     20\u001b[0m     \u001b[0mc\u001b[0m \u001b[1;33m=\u001b[0m \u001b[0ma\u001b[0m\u001b[1;33m+\u001b[0m\u001b[0mb\u001b[0m\u001b[1;33m\u001b[0m\u001b[1;33m\u001b[0m\u001b[0m\n\u001b[1;32m---> 21\u001b[1;33m     \u001b[0md\u001b[0m \u001b[1;33m=\u001b[0m \u001b[0ma\u001b[0m\u001b[1;33m*\u001b[0m\u001b[0mb\u001b[0m \u001b[1;31m#숫자형 아니여서 곱하기 불가능\u001b[0m\u001b[1;33m\u001b[0m\u001b[1;33m\u001b[0m\u001b[0m\n\u001b[0m\u001b[0;32m     22\u001b[0m     \u001b[1;32mreturn\u001b[0m \u001b[0mc\u001b[0m\u001b[1;33m,\u001b[0m \u001b[0md\u001b[0m\u001b[1;33m\u001b[0m\u001b[1;33m\u001b[0m\u001b[0m\n\u001b[0;32m     23\u001b[0m \u001b[0mx\u001b[0m\u001b[1;33m,\u001b[0m\u001b[0my\u001b[0m \u001b[1;33m=\u001b[0m \u001b[0mcalc2\u001b[0m\u001b[1;33m(\u001b[0m\u001b[1;34m\"abc\"\u001b[0m\u001b[1;33m,\u001b[0m\u001b[1;34m\"def\"\u001b[0m\u001b[1;33m)\u001b[0m\u001b[1;33m\u001b[0m\u001b[1;33m\u001b[0m\u001b[0m\n",
      "\u001b[1;31mTypeError\u001b[0m: can't multiply sequence by non-int of type 'str'"
     ]
    }
   ],
   "source": [
    "def calc(a,b): #함수구현 def 함수이름(매개변수)\n",
    "    #데이터타입 선언이 없다. 오버로딩이 해결이 되어있기 때문에 오버로딩시 에러가 난다.(매개변수에도)\n",
    "    return a+b, a*b\n",
    "#함수의 이름이 같고 매개변수의 타입이나 갯수가 다르면 다른함수로 인식하는 것이 오버로딩이다.\n",
    "x,y = calc(3,4)\n",
    "print(x,y)\n",
    "print(x)\n",
    "x,y\n",
    "argc=(4,5) #tuple 생성\n",
    "calc(*argc) #*를 붙여주어 하나의 튜플을 찢어주어 각각 들어가게끔 해준다.\n",
    "#변동매개변수(*, list변동매개변수)\n",
    "#하나의 덩어리가 매개변수 갯수만큼 찢어져서 들어간다.\n",
    "# ** = dict형 변동 매개변수이다.\n",
    "\n",
    "#함수는 프로그램과 동일하다.\n",
    "#입력(매개변수) -> 처리(함수구현부) -> 출력(return값)\n",
    "\n",
    "\n",
    "def calc2(a,b):\n",
    "    c = a+b\n",
    "    d = a*b #숫자형 아니여서 곱하기 불가능\n",
    "    return c, d\n",
    "x,y = calc2(\"abc\",\"def\")\n",
    "print(x,y)"
   ]
  },
  {
   "cell_type": "code",
   "execution_count": 118,
   "metadata": {},
   "outputs": [
    {
     "data": {
      "text/plain": [
       "dict_items([('one', 1), ('two', 2)])"
      ]
     },
     "execution_count": 118,
     "metadata": {},
     "output_type": "execute_result"
    }
   ],
   "source": [
    "#dict\n",
    "#키:벨류\n",
    "d = {'one':1, 'two':2} #javascript의 JSON과 형태가 같다.\n",
    "d.items()"
   ]
  },
  {
   "cell_type": "code",
   "execution_count": 124,
   "metadata": {},
   "outputs": [
    {
     "name": "stdout",
     "output_type": "stream",
     "text": [
      "['seoul', 'incheon', 'busan']\n",
      "['deagu', 'seoul', 'incheon', 'busan', 'suwon']\n",
      "결합 ['deagu', 'seoul', 'incheon', 'busan', 'suwon', 'jeju', 'kwangju']\n",
      "['deagu', 'seoul', 'incheon', 'busan', 'suwon', ['daejun', 'ulsan'], 'jeju', 'kwangju']\n",
      "1\n",
      "False\n",
      "['deagu', 'incheon', 'busan', 'suwon', ['daejun', 'ulsan'], 'jeju', 'kwangju']\n"
     ]
    }
   ],
   "source": [
    "#자료구조나 데이터베이스의 CRUD : create(생성,입력, 초기화), read(읽기), update(수정-대입에의해 한다.), delect(삭제 remove)\n",
    "cities = ['seoul','incheon','busan']\n",
    "print(cities)\n",
    "cities.append('suwon') #추가\n",
    "print(cities)\n",
    "cities.insert(0,'deagu') #삽입\n",
    "print(cities)\n",
    "other_cities = [\"jeju\",\"kwangju\"]\n",
    "print(\"결합\", cities+other_cities)\n",
    "cities.append(['daejun','ulsan']) #모양을 유지하면서 들어간다. 2차원 배열이 된다.\n",
    "cities.extend(['jeju','kwangju']) #모양을 해채하고 들어간다. 1차원배열 그대로\n",
    "print(cities)\n",
    "print(cities.index('seoul')) #데이터의 인덱스 위치를 확인할 수 있다.\n",
    "print('daegu' in cities) #포함여부를 T/F로 리턴한다.\n",
    "cities.remove(cities[1]) #삭제\n",
    "print(cities)"
   ]
  }
 ],
 "metadata": {
  "kernelspec": {
   "display_name": "Python 3",
   "language": "python",
   "name": "python3"
  },
  "language_info": {
   "codemirror_mode": {
    "name": "ipython",
    "version": 3
   },
   "file_extension": ".py",
   "mimetype": "text/x-python",
   "name": "python",
   "nbconvert_exporter": "python",
   "pygments_lexer": "ipython3",
   "version": "3.7.6"
  }
 },
 "nbformat": 4,
 "nbformat_minor": 4
}
