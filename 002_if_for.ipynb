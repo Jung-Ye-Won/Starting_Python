{
 "cells": [
  {
   "cell_type": "code",
   "execution_count": 3,
   "metadata": {},
   "outputs": [
    {
     "name": "stdout",
     "output_type": "stream",
     "text": [
      "0b11\n",
      "0xff\n"
     ]
    }
   ],
   "source": [
    "print(bin(3)) #이진수\n",
    "print(hex(255)) #16진수 0~a,b,c,d,e,f"
   ]
  },
  {
   "cell_type": "code",
   "execution_count": 7,
   "metadata": {},
   "outputs": [
    {
     "name": "stdout",
     "output_type": "stream",
     "text": [
      "65\n",
      "97\n",
      "a\n"
     ]
    }
   ],
   "source": [
    "print(ord('A')) #아스키코드 65\n",
    "print(ord('a')) #97\n",
    "#오름차순 정렬시에 대문자가 먼저 정렬된다.\n",
    "print(chr(97))"
   ]
  },
  {
   "cell_type": "code",
   "execution_count": 12,
   "metadata": {},
   "outputs": [
    {
     "name": "stdout",
     "output_type": "stream",
     "text": [
      "<enumerate object at 0x0000017C41DE5638>\n",
      "[(0, 'Spring'), (1, 'Summer'), (2, 'Fall'), (3, 'Winter')]\n",
      "[(1, 'Spring'), (2, 'Summer'), (3, 'Fall'), (4, 'Winter')]\n"
     ]
    }
   ],
   "source": [
    "seasons = ['Spring','Summer','Fall','Winter']\n",
    "se = enumerate(seasons) #열거형변수를 생성한다.\n",
    "print(se) #리스트로 캐스팅 하여야 출력이 가능하다. 출력안됨\n",
    "print(list(se))\n",
    "se = enumerate(seasons, start=1) #1에서부터 시작\n",
    "print(list(se))"
   ]
  },
  {
   "cell_type": "code",
   "execution_count": 21,
   "metadata": {},
   "outputs": [
    {
     "name": "stdout",
     "output_type": "stream",
     "text": [
      "[('대전', 1), ('대한민국', 1), ('부산', 2), ('서울', 6)]\n",
      "[('대전', 1), ('대한민국', 1), ('부산', 2), ('서울', 6)]\n"
     ]
    },
    {
     "data": {
      "text/plain": [
       "[('서울', 6), ('부산', 2), ('대전', 1), ('대한민국', 1)]"
      ]
     },
     "execution_count": 21,
     "metadata": {},
     "output_type": "execute_result"
    }
   ],
   "source": [
    "monarchs = [(\"대한민국\",1),(\"부산\",2),(\"서울\",6),(\"대전\",1)]\n",
    "monarchs.sort() #앞의 문자로 먼저 비교하고 같을경우 2번째 인덱스를 비교한다.\n",
    "print(monarchs)\n",
    "\n",
    "#두번째 데이터를 중심으로 정렬을 원하는 경우\n",
    "#무명함수\n",
    "monarchs.sort(key=lambda row:row[1]) #lambda 간단하게 함수를 작성하고자 할때 사용, 무명함수이다.(이름이 없다. 딱한번만 사용한다.)\n",
    "print(monarchs)\n",
    "#파이썬에서는 함수도 객체이기 때문에 -> 함수가 변수에 대입이 가능하고 매개변수 전달도 가능하고 리턴값으로도 사용이 가능하다.\n",
    "#유명함수\n",
    "la = lambda row:row[1] #매개변수를 하나로 받고 1번 인덱스를 쓴다. / 데이터의 위치를 지정할 때 사용된다.\n",
    "\n",
    "monarchs.sort(key=lambda row:row[1], reverse=True) #역순으로 정렬이 되어진다.\n",
    "monarchs"
   ]
  },
  {
   "cell_type": "code",
   "execution_count": 24,
   "metadata": {},
   "outputs": [
    {
     "data": {
      "text/plain": [
       "('K', 'o', 'r', 'e', 'a')"
      ]
     },
     "execution_count": 24,
     "metadata": {},
     "output_type": "execute_result"
    }
   ],
   "source": [
    "tupl = ('K','o','r','e','a') #()소괄호로 초기화\n",
    "tupl"
   ]
  },
  {
   "cell_type": "code",
   "execution_count": 26,
   "metadata": {},
   "outputs": [
    {
     "data": {
      "text/plain": [
       "('K', 'o', 'r', 'e', 'a')"
      ]
     },
     "execution_count": 26,
     "metadata": {},
     "output_type": "execute_result"
    }
   ],
   "source": [
    "tupl2 = tuple('Korea') #각각의 문자를 5개의 배열을 갖는 튜블로 저장된다.\n",
    "tupl2"
   ]
  },
  {
   "cell_type": "code",
   "execution_count": 28,
   "metadata": {},
   "outputs": [
    {
     "name": "stdout",
     "output_type": "stream",
     "text": [
      "K o r e a\n"
     ]
    },
    {
     "data": {
      "text/plain": [
       "['K', 'o', 'r', 'e', 'a']"
      ]
     },
     "execution_count": 28,
     "metadata": {},
     "output_type": "execute_result"
    }
   ],
   "source": [
    "a = ' '.join(tupl)\n",
    "print(a) #\" \"로 각각의 요소를 묶어 하나의 문자열을 생성\n",
    "tupl = a.split(' ')\n",
    "tupl #각각을 \" \"로 나누어 각각의 요소로 저장"
   ]
  },
  {
   "cell_type": "code",
   "execution_count": 31,
   "metadata": {},
   "outputs": [
    {
     "data": {
      "text/plain": [
       "9"
      ]
     },
     "execution_count": 31,
     "metadata": {},
     "output_type": "execute_result"
    }
   ],
   "source": [
    "a[0]\n",
    "a[-1]\n",
    "len(a)"
   ]
  },
  {
   "cell_type": "code",
   "execution_count": 34,
   "metadata": {},
   "outputs": [
    {
     "data": {
      "text/plain": [
       "['suwon', 'seoul', 'incheon']"
      ]
     },
     "execution_count": 34,
     "metadata": {},
     "output_type": "execute_result"
    }
   ],
   "source": [
    "cities=('seoul','incheon','suwon')\n",
    "cities.index('suwon')\n",
    "'incheon' in cities\n",
    "cities.count('seoul')\n",
    "sorted(cities, reverse=True)\n",
    "#list와 동일하다."
   ]
  },
  {
   "cell_type": "code",
   "execution_count": 35,
   "metadata": {},
   "outputs": [],
   "source": [
    "#%(나누기), //(몫)\n",
    "num=10\n",
    "hab=num+10\n",
    "hab += 10 #더 빠르다.\n",
    "#-=, /=, %=, //=, **="
   ]
  },
  {
   "cell_type": "code",
   "execution_count": 40,
   "metadata": {},
   "outputs": [
    {
     "name": "stdout",
     "output_type": "stream",
     "text": [
      "1000.8\n"
     ]
    }
   ],
   "source": [
    "abs(1-4*3)\n",
    "print(int(10**3) + .8)"
   ]
  },
  {
   "cell_type": "code",
   "execution_count": 41,
   "metadata": {},
   "outputs": [],
   "source": [
    "#3항연산자\n",
    "x = 5\n",
    "ans = 'Non-negative' if x>=0 else 'Negative'\n",
    "#참일때의 실행문 if 조건문 else 거짓일때의 실행문"
   ]
  },
  {
   "cell_type": "code",
   "execution_count": 44,
   "metadata": {},
   "outputs": [
    {
     "name": "stdout",
     "output_type": "stream",
     "text": [
      "not num\n",
      "empty city\n"
     ]
    }
   ],
   "source": [
    "num=0\n",
    "if num: #false : 0, \"\", [], {}, (), None(주소값은 있는데 데이터가 없다.)(Null(주소값이 없다. 초기화가 되지 않았다.)과 다르다.)\n",
    "    print(num)\n",
    "else:\n",
    "    print('not num')\n",
    "city=''\n",
    "if not city: #if not -> false일 경우에 실행\n",
    "    print('empty city')\n",
    "#비교연산자의 결과는 true/false이고\n",
    "#논리연산자의 and, or, not(!=)"
   ]
  },
  {
   "cell_type": "code",
   "execution_count": 54,
   "metadata": {},
   "outputs": [
    {
     "name": "stdout",
     "output_type": "stream",
     "text": [
      "생년월일을 입력하시오 (ex)20010203)20100706\n",
      "2010\n",
      "00\n",
      "06\n",
      "미성년자 입니다.\n"
     ]
    }
   ],
   "source": [
    "#문제\n",
    "#생년월일을 20010203 형식으로 입력을 받아서 출생년도, 월, 일변수에 대입하고\n",
    "#현재의 날짜를 기준으로 나이를 계산하고 18살 미만이면 미성년자로 출력하시오.\n",
    "import datetime\n",
    "today = datetime.datetime.now()\n",
    "\n",
    "birthday = input(\"생년월일을 입력하시오 (ex)20010203)\")\n",
    "year = birthday[:4]\n",
    "month = birthday[4:6]\n",
    "day = birthday[6:]\n",
    "print(year)\n",
    "print(month)\n",
    "print(day)\n",
    "\n",
    "if (int(today.year)-int(year)) < 18:\n",
    "    print(\"미성년자입니다.\")"
   ]
  },
  {
   "cell_type": "code",
   "execution_count": 55,
   "metadata": {},
   "outputs": [
    {
     "name": "stdout",
     "output_type": "stream",
     "text": [
      "2020-07-09 15:21:03.064361\n",
      "<class 'datetime.datetime'>\n",
      "2020\n",
      "7\n",
      "9\n"
     ]
    }
   ],
   "source": [
    "import datetime\n",
    "dt = datetime.datetime.now()\n",
    "print(dt)\n",
    "print(type(dt))\n",
    "print(dt.year) #멤버변수로 출력된다.\n",
    "print(dt.month)\n",
    "print(dt.day)"
   ]
  },
  {
   "cell_type": "code",
   "execution_count": 57,
   "metadata": {},
   "outputs": [
    {
     "name": "stdout",
     "output_type": "stream",
     "text": [
      "생년월일을 20200102 형태로 입력하시오20010506\n",
      "당신의 나이는  20\n",
      "당신은 미성년자가 아닙니다.\n"
     ]
    }
   ],
   "source": [
    "age=input(\"생년월일을 20200102 형태로 입력하시오\")\n",
    "year = int(age[0:4])\n",
    "month = int(age[4:6])\n",
    "day = int(age[6:8])\n",
    "year_diff= dt.year-year\n",
    "month_diff = dt.month-month\n",
    "day_diff = dt.day-day\n",
    "\n",
    "if day_diff<0:\n",
    "    month_diff -=1\n",
    "if month_diff<0:\n",
    "    year_diff -=1\n",
    "print(\"당신의 나이는 \",year_diff+1) #만이라 +1\n",
    "if year_diff < 18:\n",
    "    print(\"당신은 미성년자 입니다.\")\n",
    "else:\n",
    "    print(\"당신은 미성년자가 아닙니다.\")"
   ]
  },
  {
   "cell_type": "code",
   "execution_count": 63,
   "metadata": {},
   "outputs": [
    {
     "name": "stdout",
     "output_type": "stream",
     "text": [
      "두수의 합은 = 30\n",
      "두수의 합은 = 70\n",
      "두수의 합은 = 110\n",
      "10 , 20 두수의 합은 = 30\n",
      "30 , 40 두수의 합은 = 70\n",
      "50 , 60 두수의 합은 = 110\n"
     ]
    }
   ],
   "source": [
    "a = 10; b=20\n",
    "c=a+b\n",
    "print(\"두수의 합은 =\", c)\n",
    "d=30; e=40\n",
    "f=d+e\n",
    "print(\"두수의 합은 =\", f)\n",
    "g=50; h=60\n",
    "i=g+h\n",
    "print(\"두수의 합은 =\", i)\n",
    "\n",
    "#함수를 작성해야 한다.\n",
    "def hab(a,b):\n",
    "    return print(str(a)+\" , \"+str(b)+\" 두수의 합은 = \"+str(a+b))\n",
    "\n",
    "hab(10,20)\n",
    "hab(30,40)\n",
    "hab(50,60)"
   ]
  },
  {
   "cell_type": "code",
   "execution_count": 66,
   "metadata": {},
   "outputs": [
    {
     "name": "stdout",
     "output_type": "stream",
     "text": [
      "점수를 입력하시오85\n",
      "B\n"
     ]
    }
   ],
   "source": [
    "#점수를 입력받아서 A,B,C,D,F 학점을 출력하시오(if)\n",
    "\n",
    "def score(num):\n",
    "    if num>=90:\n",
    "        return 'A'\n",
    "    elif num>=80:\n",
    "        return 'B'\n",
    "    elif num>=70:\n",
    "        return 'C'\n",
    "    elif num>=60:\n",
    "        return 'D'\n",
    "    else:\n",
    "        return 'F'\n",
    "\n",
    "num = input(\"점수를 입력하시오\")\n",
    "char = score(int(num))\n",
    "print(char)"
   ]
  },
  {
   "cell_type": "code",
   "execution_count": null,
   "metadata": {},
   "outputs": [],
   "source": [
    "print(\"점수를 입력하시오\", end=\" \")\n",
    "jumsu = int(input())\n",
    "if jumsu >= 90: print('A')\n",
    "elif jumsu >= 80: print('B')\n",
    "elif jumsu >= 70: print('C')\n",
    "elif jumsu >= 60: print('D')\n",
    "else: print('F')\n",
    "\n",
    "#print문은 가급적 줄이는 것이 좋다."
   ]
  },
  {
   "cell_type": "code",
   "execution_count": 74,
   "metadata": {},
   "outputs": [
    {
     "name": "stdout",
     "output_type": "stream",
     "text": [
      "사람들의 옷색깔(blue/red)을 입력하시오red\n",
      "사람들의 분위기(steady/flashing)를 입력하시오flashing\n",
      "오늘의 날씨는 눈오는날 이 예측됩니다.\n"
     ]
    }
   ],
   "source": [
    "#다음 표(color와 mode)에 따른 날씨를 if문을 이용하여 출력해 보시오\n",
    "#반응에따른 날씨 예측 프로그램\n",
    "#             blue       red      - 옷의 색깔\n",
    "#  steady     화창     비오는날\n",
    "#  flashing  구름      눈오는날\n",
    "#  걸음걸이(외관을 보고 날씨를 맞추는것)\n",
    "\n",
    "color = input(\"사람들의 옷색깔(blue/red)을 입력하시오\")\n",
    "mode = input(\"사람들의 분위기(steady/flashing)를 입력하시오\")\n",
    "weather = \"\"\n",
    "\n",
    "if color==\"blue\": \n",
    "    if mode==\"steady\": weather=\"화창\"\n",
    "    else: weather=\"구름\"\n",
    "elif color==\"red\":\n",
    "    if mode==\"steady\": weather=\"비오는날\"\n",
    "    else: weather=\"눈오는날\"\n",
    "else:\n",
    "    print(\"날씨 예측이 불가합니다.\")\n",
    "\n",
    "print(\"오늘의 날씨는\",weather,\"이 예측됩니다.\")"
   ]
  },
  {
   "cell_type": "code",
   "execution_count": 76,
   "metadata": {},
   "outputs": [
    {
     "name": "stdout",
     "output_type": "stream",
     "text": [
      "수입을 입력하시오85\n",
      "지출을 입력하시오75\n",
      "이번달 수입은  85 이고, 지출은  75 입니다.\n",
      "이번달 순수입은  10 입니다.\n"
     ]
    }
   ],
   "source": [
    "#수입과 지출을 입력받아서 순수입을 출력하는 프로그램을 작성하시오\n",
    "#제약조건 : 소수점 2자리까지 출력하시오\n",
    "#수입과 지출이 동일한 경우를 고려하시오\n",
    "#결과에따라 순수입, 순지출도 같이 출력하도록 하시오\n",
    "#변수명은 변수가 가진 값의 의미를 함축하여 표현하시오\n",
    "\n",
    "income = input(\"수입을 입력하시오\")\n",
    "spend = input(\"지출을 입력하시오\")\n",
    "print(\"이번달 수입은 \",round(int(income),2),\"이고, 지출은 \",round(int(spend),2),\"입니다.\")\n",
    "\n",
    "money = int(income)-int(spend)\n",
    "if money==0 : print(\"수입과 지출이 동일합니다. 손익분기점 입니다.\")\n",
    "elif money>0 : print(\"이번달 순수입은 \",money,\"입니다.\")\n",
    "else: print(\"이번달 순지출은 \",money,\"입니다.\")\n",
    "\n",
    "# result = \"순손실={0:,.2f}\".format(round(loss,2)) #둘째자리까지 반올림하고 둘째자리까지 표기\n",
    "#result = \"순이익 = {0:,.3f}\".format(round(cost,2)) #둘째자리까지 반올림하고 셋째자리까지 표기"
   ]
  },
  {
   "cell_type": "code",
   "execution_count": 77,
   "metadata": {},
   "outputs": [
    {
     "name": "stdout",
     "output_type": "stream",
     "text": [
      "earth air fire water "
     ]
    }
   ],
   "source": [
    "elements = [\"earth\",'air','fire','water']\n",
    "for i in elements: #for문을 이용한 list 요소출력\n",
    "    print(i, end=\" \") #출력결과는 리스트가 아니다."
   ]
  },
  {
   "cell_type": "code",
   "execution_count": 89,
   "metadata": {},
   "outputs": [
    {
     "name": "stdout",
     "output_type": "stream",
     "text": [
      "[0, 1, 2, 3, 4, 5, 6, 7, 8, 9]\n",
      "[1, 2, 3, 4, 5, 6, 7, 8, 9, 10]\n",
      "[1, 3, 5, 7, 9]\n",
      "[11, 9, 7, 5, 3]\n",
      "[9, 7, 5, 3, 1]\n"
     ]
    }
   ],
   "source": [
    "range(10)\n",
    "print(list(range(10))) #시작지점 0이고 10개 n개\n",
    "print(list(range(1,11))) #start,end(n-1)\n",
    "print(list(range(1,11,2))) #2씩증가\n",
    "print(list(range(11,1,-2))) #1은 출력이안된다.\n",
    "range(11,1) #이것은 []으로 출력된다. -n을 해주던지 reversed사용하던지 해야한다.\n",
    "print(list(reversed(range(1,10,2)))) #거꾸로 출력된다."
   ]
  },
  {
   "cell_type": "code",
   "execution_count": 92,
   "metadata": {},
   "outputs": [
    {
     "name": "stdout",
     "output_type": "stream",
     "text": [
      "0 1 2 3 4 \n",
      "2 3 4 \n",
      "earth air fire water "
     ]
    }
   ],
   "source": [
    "for i in range(5):\n",
    "    print(i, end=\" \")\n",
    "print()\n",
    "for i in range(2,5):\n",
    "    print(i, end=\" \")\n",
    "print()\n",
    "for i in range(4):\n",
    "    print(elements[i], end=\" \")"
   ]
  },
  {
   "cell_type": "code",
   "execution_count": 95,
   "metadata": {},
   "outputs": [
    {
     "name": "stdout",
     "output_type": "stream",
     "text": [
      "apple\n",
      "banana\n",
      "cherry\n"
     ]
    }
   ],
   "source": [
    "#iterator\n",
    "mytable = (\"apple\",\"banana\",\"cherry\")\n",
    "mit=iter(mytable)\n",
    "print(next(mit))\n",
    "print(next(mit))\n",
    "print(next(mit)) #없는곳까지하면 error가 난다.(요소의 개수까지 가능)\n",
    "#출력후에 다음걸로 이동한다."
   ]
  },
  {
   "cell_type": "code",
   "execution_count": 97,
   "metadata": {},
   "outputs": [
    {
     "name": "stdout",
     "output_type": "stream",
     "text": [
      "55\n"
     ]
    }
   ],
   "source": [
    "#1~100 : 5050, 500500(천까지의합), 50005000(만까지의합)\n",
    "sum=0 #초기화 시켜주어야 쓸 수 잇다.(null값 못씀)\n",
    "for x in range(1,11):\n",
    "    sum += x #누적변수\n",
    "    #i = i+1 증가변수\n",
    "print(sum)"
   ]
  },
  {
   "cell_type": "code",
   "execution_count": 99,
   "metadata": {},
   "outputs": [
    {
     "name": "stdout",
     "output_type": "stream",
     "text": [
      "\n",
      "2 * 2 = 4\n",
      "2 * 3 = 6\n",
      "2 * 4 = 8\n",
      "2 * 5 = 10\n",
      "2 * 6 = 12\n",
      "2 * 7 = 14\n",
      "2 * 8 = 16\n",
      "2 * 9 = 18\n",
      "\n",
      "3 * 2 = 6\n",
      "3 * 3 = 9\n",
      "3 * 4 = 12\n",
      "3 * 5 = 15\n",
      "3 * 6 = 18\n",
      "3 * 7 = 21\n",
      "3 * 8 = 24\n",
      "3 * 9 = 27\n"
     ]
    }
   ],
   "source": [
    "for x in range(2,4):\n",
    "    print()\n",
    "    for y in range(2, 10): #위에놈 2가돌때 이놈은 2~9까지돔\n",
    "        print(x, \"*\", y, \"=\", x*y)"
   ]
  },
  {
   "cell_type": "code",
   "execution_count": 104,
   "metadata": {},
   "outputs": [
    {
     "name": "stdout",
     "output_type": "stream",
     "text": [
      "\n",
      "2 * 2 = 4    3 * 2 = 6    4 * 2 = 8    5 * 2 = 10   6 * 2 = 12   7 * 2 = 14   8 * 2 = 16   9 * 2 = 18   \n",
      "2 * 3 = 6    3 * 3 = 9    4 * 3 = 12   5 * 3 = 15   6 * 3 = 18   7 * 3 = 21   8 * 3 = 24   9 * 3 = 27   \n",
      "2 * 4 = 8    3 * 4 = 12   4 * 4 = 16   5 * 4 = 20   6 * 4 = 24   7 * 4 = 28   8 * 4 = 32   9 * 4 = 36   \n",
      "2 * 5 = 10   3 * 5 = 15   4 * 5 = 20   5 * 5 = 25   6 * 5 = 30   7 * 5 = 35   8 * 5 = 40   9 * 5 = 45   \n",
      "2 * 6 = 12   3 * 6 = 18   4 * 6 = 24   5 * 6 = 30   6 * 6 = 36   7 * 6 = 42   8 * 6 = 48   9 * 6 = 54   \n",
      "2 * 7 = 14   3 * 7 = 21   4 * 7 = 28   5 * 7 = 35   6 * 7 = 42   7 * 7 = 49   8 * 7 = 56   9 * 7 = 63   \n",
      "2 * 8 = 16   3 * 8 = 24   4 * 8 = 32   5 * 8 = 40   6 * 8 = 48   7 * 8 = 56   8 * 8 = 64   9 * 8 = 72   \n",
      "2 * 9 = 18   3 * 9 = 27   4 * 9 = 36   5 * 9 = 45   6 * 9 = 54   7 * 9 = 63   8 * 9 = 72   9 * 9 = 81   "
     ]
    }
   ],
   "source": [
    "#문제 : 구구단을 출력하여라\n",
    "for x in range(2,10):\n",
    "    print()\n",
    "    for y in range(2, 10): #위에놈 2가돌때 이놈은 2~9까지돔\n",
    "        if x*y <10:\n",
    "            print(y, \"*\", x, \"=\", x*y, end=\"    \")\n",
    "        else:\n",
    "            print(y, \"*\", x, \"=\", x*y, end=\"   \")\n"
   ]
  },
  {
   "cell_type": "code",
   "execution_count": 108,
   "metadata": {},
   "outputs": [
    {
     "name": "stdout",
     "output_type": "stream",
     "text": [
      "[1, 3, 5, 7, 9, 11, 13, 15, 17, 19, 21, 23, 25, 27, 29, 31, 33, 35, 37, 39, 41, 43, 45, 47, 49, 51, 53, 55, 57, 59, 61, 63, 65, 67, 69, 71, 73, 75, 77, 79, 81, 83, 85, 87, 89, 91, 93, 95, 97, 99, 101, 103, 105, 107, 109, 111, 113, 115, 117, 119, 121, 123, 125, 127, 129, 131, 133, 135, 137, 139, 141, 143, 145, 147, 149, 151, 153, 155, 157, 159, 161, 163, 165, 167, 169, 171, 173, 175, 177, 179, 181, 183, 185, 187, 189, 191, 193, 195, 197, 199, 201, 203, 205, 207, 209, 211, 213, 215, 217, 219, 221, 223, 225, 227, 229, 231, 233, 235, 237, 239, 241, 243, 245, 247, 249, 251, 253, 255, 257, 259, 261, 263, 265, 267, 269, 271, 273, 275, 277, 279, 281, 283, 285, 287, 289, 291, 293, 295, 297, 299, 301, 303, 305, 307, 309, 311, 313, 315, 317, 319, 321, 323, 325, 327, 329, 331, 333, 335, 337, 339, 341, 343, 345, 347, 349, 351, 353, 355, 357, 359, 361, 363, 365, 367, 369, 371, 373, 375, 377, 379, 381, 383, 385, 387, 389, 391, 393, 395, 397, 399, 401, 403, 405, 407, 409, 411, 413, 415, 417, 419, 421, 423, 425, 427, 429, 431, 433, 435, 437, 439, 441, 443, 445, 447, 449, 451, 453, 455, 457, 459, 461, 463, 465, 467, 469, 471, 473, 475, 477, 479, 481, 483, 485, 487, 489, 491, 493, 495, 497, 499, 501, 503, 505, 507, 509, 511, 513, 515, 517, 519, 521, 523, 525, 527, 529, 531, 533, 535, 537, 539, 541, 543, 545, 547, 549, 551, 553, 555, 557, 559, 561, 563, 565, 567, 569, 571, 573, 575, 577, 579, 581, 583, 585, 587, 589, 591, 593, 595, 597, 599, 601, 603, 605, 607, 609, 611, 613, 615, 617, 619, 621, 623, 625, 627, 629, 631, 633, 635, 637, 639, 641, 643, 645, 647, 649, 651, 653, 655, 657, 659, 661, 663, 665, 667, 669, 671, 673, 675, 677, 679, 681, 683, 685, 687, 689, 691, 693, 695, 697, 699, 701, 703, 705, 707, 709, 711, 713, 715, 717, 719, 721, 723, 725, 727, 729, 731, 733, 735, 737, 739, 741, 743, 745, 747, 749, 751, 753, 755, 757, 759, 761, 763, 765, 767, 769, 771, 773, 775, 777, 779, 781, 783, 785, 787, 789, 791, 793, 795, 797, 799, 801, 803, 805, 807, 809, 811, 813, 815, 817, 819, 821, 823, 825, 827, 829, 831, 833, 835, 837, 839, 841, 843, 845, 847, 849, 851, 853, 855, 857, 859, 861, 863, 865, 867, 869, 871, 873, 875, 877, 879, 881, 883, 885, 887, 889, 891, 893, 895, 897, 899, 901, 903, 905, 907, 909, 911, 913, 915, 917, 919, 921, 923, 925, 927, 929, 931, 933, 935, 937, 939, 941, 943, 945, 947, 949, 951, 953, 955, 957, 959, 961, 963, 965, 967, 969, 971, 973, 975, 977, 979, 981, 983, 985, 987, 989, 991, 993, 995, 997, 999]\n"
     ]
    }
   ],
   "source": [
    "# 내장리스트\n",
    "a=[i for i in range(10)] #리스트 안에 for문이 들어있다.(0~9까지의 i를 앞으로 출력시켰다.)\n",
    "type(a)\n",
    "a=[i for i in range(1,1000,2)]\n",
    "print(a)"
   ]
  },
  {
   "cell_type": "code",
   "execution_count": 113,
   "metadata": {},
   "outputs": [
    {
     "data": {
      "text/plain": [
       "[0, 4, 16, 36, 64]"
      ]
     },
     "execution_count": 113,
     "metadata": {},
     "output_type": "execute_result"
    }
   ],
   "source": [
    "[ i**2 for i in range(10)] #제곱인 수를 가지는 list\n",
    "{i:i**3 for i in range(10)} #키와 데이터로 dict에서도 사용이 가능하다.\n",
    "[i**2 for i in range(10) if i%2==0] #제곱인 값들 중에 짝수인 값들을 가진다."
   ]
  },
  {
   "cell_type": "code",
   "execution_count": 119,
   "metadata": {},
   "outputs": [
    {
     "name": "stdout",
     "output_type": "stream",
     "text": [
      "[(1, 10), (1, 11), (1, 12), (1, 13), (1, 14), (2, 10), (2, 11), (2, 12), (2, 13), (2, 14), (3, 10), (3, 11), (3, 12), (3, 13), (3, 14), (4, 10), (4, 11), (4, 12), (4, 13), (4, 14)]\n",
      "[(1, 11), (1, 13), (3, 11), (3, 13)]\n"
     ]
    }
   ],
   "source": [
    "rows = range(1,5)\n",
    "cols = range(10,15)\n",
    "vectors = [(r,c) for r in rows for c in cols] #이중for문 row가 한바퀴돌때 col이 다섯바퀴돌면서 수를 만들어낸다.\n",
    "#앞에놈 먼저돌고 뒤에놈 난중에돌고 수치의 조합을 만들어냈다.\n",
    "vectors2 = [(r,c) for r in rows if r%2 for c in cols if c%2] #홀수만 만들어져서 나온다 왜냐하면 나머지가 0이면 false이기 때문에오\n",
    "print(vectors)\n",
    "print(vectors2)"
   ]
  },
  {
   "cell_type": "code",
   "execution_count": 3,
   "metadata": {},
   "outputs": [
    {
     "name": "stdout",
     "output_type": "stream",
     "text": [
      "학생의 번호, 이름, 국어, 영어, 수학 점수를 입력하시오75,정예원,95,95,100\n",
      "학생의 번호, 이름, 국어, 영어, 수학 점수를 입력하시오76,이준협,95,85,100\n",
      "학생의 번호, 이름, 국어, 영어, 수학 점수를 입력하시오77,전고은,85,95,90\n",
      "정예원  학생의 총 점수는  290 점, 평균은  96.67 점, 학점은  A 입니다.\n",
      "이준협  학생의 총 점수는  280 점, 평균은  93.33 점, 학점은  A 입니다.\n",
      "전고은  학생의 총 점수는  270 점, 평균은  90.0 점, 학점은  A 입니다.\n",
      "[['75', '정예원', '95', '95', '100', 290], ['76', '이준협', '95', '85', '100', 280], ['77', '전고은', '85', '95', '90', 270]]\n",
      "정예원 의 석차는  1 등입니다.\n",
      "이준협 의 석차는  2 등입니다.\n",
      "전고은 의 석차는  3 등입니다.\n"
     ]
    }
   ],
   "source": [
    "#문제 : 3인분의 성적프로그램을 만들기\n",
    "#3명의 데이터를 입력한다.\n",
    "#합계, 평균(소수점2째자리까지), 석차, 학점을 출력합니다.\n",
    "#입력데이터는 번호, 이름, 국어, 영어, 수학\n",
    "#처리순서는 입력, 처리, 출력으로 구분해서 처리합니다.\n",
    "students = []\n",
    "\n",
    "for i in range(3):\n",
    "    student = input(\"학생의 번호, 이름, 국어, 영어, 수학 점수를 입력하시오\") \n",
    "    #75,정예원,95,95,100, 76,이준협,95,85,100, 77,전고은,85,95,90\n",
    "    students.append(student.split(\",\"))\n",
    "\n",
    "\n",
    "def total(name,kor,eng,mat):\n",
    "    tot = int(kor)+int(eng)+int(mat)\n",
    "    average = round(tot/3, 2)\n",
    "    if average>=90 : hak='A'\n",
    "    elif average>=80 : hak='B'\n",
    "    elif average>=70 : hak='C'\n",
    "    elif average>=60 : hak='D'\n",
    "    else: hak='F'\n",
    "    print(name,\" 학생의 총 점수는 \",tot,\"점, 평균은 \",average,\"점, 학점은 \", hak,\"입니다.\")\n",
    "    return tot\n",
    "\n",
    "for i in range(len(students)):\n",
    "    students[i].append(total(students[i][1],students[i][2],students[i][3],students[i][4]))\n",
    "    \n",
    "print(students)\n",
    "\n",
    "def sort(students):\n",
    "    students.sort(key=lambda row:row[5], reverse = True)\n",
    "    for i in range(len(students)):\n",
    "        print(students[i][1],\"의 석차는 \",i+1,\"등입니다.\")\n",
    "    \n",
    "sort(students)"
   ]
  },
  {
   "cell_type": "code",
   "execution_count": null,
   "metadata": {},
   "outputs": [],
   "source": []
  }
 ],
 "metadata": {
  "kernelspec": {
   "display_name": "Python 3",
   "language": "python",
   "name": "python3"
  },
  "language_info": {
   "codemirror_mode": {
    "name": "ipython",
    "version": 3
   },
   "file_extension": ".py",
   "mimetype": "text/x-python",
   "name": "python",
   "nbconvert_exporter": "python",
   "pygments_lexer": "ipython3",
   "version": "3.7.6"
  }
 },
 "nbformat": 4,
 "nbformat_minor": 4
}
