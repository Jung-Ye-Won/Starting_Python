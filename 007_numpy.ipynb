{
 "cells": [
  {
   "cell_type": "code",
   "execution_count": null,
   "metadata": {},
   "outputs": [],
   "source": [
    "import numpy as np\n",
    "print(np.__version__)"
   ]
  },
  {
   "cell_type": "code",
   "execution_count": null,
   "metadata": {},
   "outputs": [],
   "source": [
    "print(np.eye(5))\n",
    "print(np.identity(5))"
   ]
  },
  {
   "cell_type": "code",
   "execution_count": null,
   "metadata": {},
   "outputs": [],
   "source": [
    "#numpy\n",
    "#-동질적 데이터만 처리\n",
    "#-행중심(r=열중심), 메모리에 저장될때는 일렬로 저장된다. (stride - 얼마 건너뛰면 다음 행이 있느냐)\n",
    "#-ndarray(vector, matrix, tensor(2차원이상))\n",
    "#이세상의 절대원점은 없다 원점을 정해서 하는 것이지 그 데이터 간의 관계는 절대적이다.\n",
    "#이동해도 원래의 간격을 유지한다고 해서(mrs변환을 해도 속성이 불변) tensor라고 한다.\n",
    "\n",
    "#- ndarrty, math, polynomial(다항방정식), random, linalg(선형대수), fft로 구성되어있다.\n",
    "#- 브로드 캐스팅을 지원하고 (차원을 맞춰준다.)\n",
    "#- 벡터화연산을 지원한다.(=병렬처리를 지원한다.)\n",
    "\n",
    "#list와 비교가 된다.\n",
    "#-list : 이질적데이터를 저장할 수 있다.\n",
    "#        내포가 가능하다. (이질적데이터 차원확장이 가능하다.)\n",
    "#        속도가 느리다.\n",
    "#빅데이터 사용에 적합하지 않고 고속으로 처리하는 numpy를 사용해야만한다.\n",
    "\n",
    "#행은 axis=0, 열은 axis=1이라고 한다.\n",
    "#데이터 타입은 대량의 데이터를 저장해야 하기 때문에 데이터 타입이 세분화 되어있다.(int8, int16, int32, int64, float32 등)\n",
    "#unsinged int = uint8, uint6, uint32, uint64 (float형도 똑같다.)\n",
    "#중요한속성 : shape, len, ndim, size(요소수), dtype, astype(데이터 타입 변환시)\n",
    "#함수는 numpy에 속할 때도 있고, ndarray에 속할 떄도 있다."
   ]
  },
  {
   "cell_type": "code",
   "execution_count": null,
   "metadata": {},
   "outputs": [],
   "source": [
    "import numpy as np\n",
    "c = np.arange(10) #range -> arange(ndarray를 생성한다.)\n",
    "print(c)\n",
    "print(type(c)) #class'numpy.ndarray' : vector, matrix, tensor(array) 하나로 모든 데이터 타입을 구성하고 잇다.\n",
    "c_copy = c[0:5].copy() #deepcopy했다 (주소값아닌 데이터를 복사하였다.)\n",
    "print(c_copy)\n",
    "c_copy[0:2]=100 #대입하여 수정\n",
    "print(c_copy)\n",
    "print(c)"
   ]
  },
  {
   "cell_type": "code",
   "execution_count": null,
   "metadata": {},
   "outputs": [],
   "source": [
    "e = np.arange(24).reshape(2,3,4) #chaining (arrange로 만든결과를 reshape) #2면 3행 4열(각곱은 24)\n",
    "print(e) #arange는 vector를 만든다(1차원)\n",
    "print(e.flatten()) #데이터를 1차원으로 변화시킨다.(차원의 관계없이)\n",
    "\n",
    "e = np.arange(24).reshape(1,2,3,4) #1자체가 곱셈의 항등원으로 데이터갯수(요소수) 변화없이 차원을 확대해준다.\n",
    "print(np.ndim(e)) #차원수 출력\n",
    "print(\"차원확대\")\n",
    "print(e)\n",
    "print(\"차원축소\")\n",
    "e = e.reshape(-1,4) #6*4로 표현되었다. -1 : 나머지 다 (4->6이 결정되었다.)\n",
    "print(e)\n",
    "print(e[1]) #행렬이 들어와야 하는데 1개만 들어왔으니 행의 인덱스를 표현한다.\n",
    "print(e[1,1])"
   ]
  },
  {
   "cell_type": "code",
   "execution_count": null,
   "metadata": {},
   "outputs": [],
   "source": [
    "def pprint(arr):\n",
    "    print(\"type:{}\".format(type(arr)))\n",
    "    print(\"shape:{}, dimmension:{}, dtype:{}\".format(arr.shape,arr.ndim,arr.dtype)) #3개의 요소, 1차원, int32\n",
    "arr = [1,2,3]\n",
    "#데이터 타입을 지정하지 않고 자동으로 확인해서 적당한 놈으로 넣어준다.\n",
    "a = np.array(arr) #np.array(매개변수 :list, dict사용가능) 함수로 생성 (numpy의 ndarray로 변환)\n",
    "pprint(a)"
   ]
  },
  {
   "cell_type": "code",
   "execution_count": null,
   "metadata": {},
   "outputs": [],
   "source": [
    "a = np.array([0,1,2,3,4,5,6,7,8,9]) #무조건 list로 묶어서 전달해야 한다.\n",
    "print(type(a))\n",
    "print(id(a)) #메모리 주소값\n",
    "print(a.dtype.name) #int32 : 32비트\n",
    "print(a.dtype.itemsize) #4바이트\n",
    "print(a.size)\n",
    "#데이터 저장공간의 바이트 사이즈를 구해보시오.(1바이트=8비트)\n",
    "print(a.size*a.dtype.itemsize) #저장공잔 사이즈 = 40\n",
    "print(a.astype(np.float32)) #바꿔서 출력만 하고 자료형자체를 바꾸지는 않는다.\n",
    "print(type(a))\n",
    "print(a.dtype.name)\n",
    "b = a.astype(np.float32) #자료형 바꾸기 위해서는 새변수 생성후 대입해준다.\n",
    "print(type(b))\n",
    "print(b.dtype.name)"
   ]
  },
  {
   "cell_type": "code",
   "execution_count": null,
   "metadata": {},
   "outputs": [],
   "source": [
    "print(np.zeros((3,4))) #자동으로 타입지정(float)\n",
    "print(np.ones((2,3,4), dtype=np.int16)) #타입 강제지정\n",
    "print(np.full((2,2),7)) #2,2행렬을 모두 7로 채워라\n",
    "print(np.eye(4)) #identity와 같다.\n",
    "print(np.empty((4,2))) #초기화를 하지 않은 빈 행렬 생성(쓰레기값이 들어가 있다.)\n",
    "#메모리는 시작지점만 지운다."
   ]
  },
  {
   "cell_type": "code",
   "execution_count": null,
   "metadata": {},
   "outputs": [],
   "source": [
    "a = np.arange(0,100,10) #0부터 100까지 10씩증가(100은 제외)\n",
    "indices = [1,5,-1]  #파이썬에서 인덱스는 -는 제외하고\n",
    "print(indices)\n",
    "b = a[indices]\n",
    "print(a)\n",
    "print(b)"
   ]
  },
  {
   "cell_type": "code",
   "execution_count": null,
   "metadata": {},
   "outputs": [],
   "source": [
    "a = np.arange(11,36) #25개 생성 행과열\n",
    "print(a)\n",
    "print(a.strides) #얼마를 건너뛰면 다음행이 되느냐\n",
    "a = np.arange(11,211).reshape(10,4,5)\n",
    "print(a.strides)\n",
    "print(a.itemsize) #4개의 데이터가 몇바이트 인지\n",
    "#면, 행, 렬\n",
    "#10, 4, 5\n",
    "#80, 20, 4 (strides) 무슨 의미냐? \n",
    "#80바이트를 지나가야 다음면이 나오고 20바이트를 지나가야 다음 행이 나오고 4바이트를 지나야 다음 열이나온다.\n",
    "#strides 는 다위가 바이트이다."
   ]
  },
  {
   "cell_type": "code",
   "execution_count": null,
   "metadata": {},
   "outputs": [],
   "source": [
    "arr2d = np.array([[1,2,3],[4,5,6],[7,8,9]]) #2차원\n",
    "print(arr2d[0]) #행\n",
    "print(arr2d[0][2]) #,로 쓰냐 두개로 쓰느냐 같다.\n",
    "print(arr2d[0,2])  #,로 쓰냐 두개로 쓰느냐 같다.\n",
    "print(arr2d[:2]) #처음부터 2개\n",
    "print(arr2d[:2, 1:])\n",
    "print(arr2d[1,:2])\n",
    "arr2d[:2,:1]=0 #처음부터 2까지(행) 처음부터 1까지(열)\n",
    "print(arr2d)\n",
    "print(arr2d.ndim)\n",
    "print(arr2d.nbytes)\n",
    "\n",
    "v1 = np.array([1,\"q\",3,\"r\"])\n",
    "print(v1.dtype) #<U11 = test 문자열"
   ]
  },
  {
   "cell_type": "code",
   "execution_count": null,
   "metadata": {},
   "outputs": [],
   "source": [
    "arr = np.arange(32).reshape((8,4))\n",
    "print(arr)\n",
    "#대괄호안에 행과열로 들어오면 행열(a,b)를 짝으로 맞추어 일치하는 놈을 추출\n",
    "print(arr[[1,5,7,2], [0,3,1,2]]) #행과열로 인덱싱하여 4개 추출\n",
    "# 4,5,6,7 <-1\n",
    "#20,21,22,23 <-5\n",
    "#28,29,30,31 <-7\n",
    "#8,9,10,11 <-2\n",
    "print(\"파이프\")\n",
    "print(arr[[1,5,7,2]][[0,3,1]]) #앞에서한번추출후 뒤에서 인덱스번호로 추출\n",
    "print('fancy')\n",
    "print(arr[[1,2,5,7]][:, [0,1,2,3]]) #fancy 인덱싱([[]][:,[]])\n",
    "print(arr[[1,5,7,2]][:, [0,3,1,2]]) #사각형 그대로 유지후 컬럼의 위치를 변화시킨다."
   ]
  },
  {
   "cell_type": "code",
   "execution_count": null,
   "metadata": {},
   "outputs": [],
   "source": [
    "a = np.arange(60).reshape((6,10))\n",
    "arr = a[:,[0,1,2,3,4,5]]\n",
    "print(arr)\n",
    "\n",
    "#빨간색\n",
    "print(arr[[0,2,5],[2,2,2]])\n",
    "#주황색\n",
    "print(arr[[0,1,2,3,4],[1,2,3,4,5]])\n",
    "#하늘색\n",
    "print(arr[[3,4,5]][:,[0,2,5]])\n",
    "\n",
    "print(\"----\")\n",
    "\n",
    "#빨간색\n",
    "print(arr[:,2])\n",
    "#주황색\n",
    "print(arr[0,3:5])\n",
    "#연두색\n",
    "print(arr[[2,4]][:,[0,2,4]])\n",
    "#초록색\n",
    "print(arr[4:6,4:6])"
   ]
  },
  {
   "cell_type": "code",
   "execution_count": null,
   "metadata": {},
   "outputs": [],
   "source": [
    "#tile과 행렬연산\n",
    "x = np.array([[1,2,3],[4,5,6],[7,8,9],[10,11,12]]) #4*3행렬\n",
    "print(x)\n",
    "v = np.array([1,0,1])\n",
    "print(\"타일\")\n",
    "vv = np.tile(v,(4,1)) #브로드 캐스팅 가능하게 확장시켜주는것이 tile이다.\n",
    "#1*3 -> 4*3로 변경되었다.\n",
    "#(4,2) -> 4*6이 된다. 즉 몇번 반복시킬건지가 들어가는 것이다.\n",
    "print(vv)\n",
    "y = x+vv\n",
    "print(y)\n",
    "x+v #1*3행렬을 더하고 있다.\n",
    "#브로드 캐스팅으로 차수가 같지 않아도 덧셈이 가능해 진다."
   ]
  },
  {
   "cell_type": "code",
   "execution_count": null,
   "metadata": {},
   "outputs": [],
   "source": [
    "x = np.arange(6).reshape(3,2)\n",
    "print(x)\n",
    "x@x.T #x.T - 전치행렬\n",
    "#대칭행렬, 정방행렬이 된다.\n",
    "#x행렬을 제곱할때는 전치행렬과의 곱을 해주어야 한다. 속성값으로 전치행렬을 가지고 있다.\n",
    "y = np.transpose(x) #전치행렬 만드는 함수\n",
    "print(x@y)"
   ]
  },
  {
   "cell_type": "code",
   "execution_count": 5,
   "metadata": {},
   "outputs": [
    {
     "name": "stdout",
     "output_type": "stream",
     "text": [
      "[[[ 0  1  2  3]\n",
      "  [ 4  5  6  7]\n",
      "  [ 8  9 10 11]]\n",
      "\n",
      " [[12 13 14 15]\n",
      "  [16 17 18 19]\n",
      "  [20 21 22 23]]]\n",
      "-\n",
      "[[[ 0  1  2  3]\n",
      "  [12 13 14 15]]\n",
      "\n",
      " [[ 4  5  6  7]\n",
      "  [16 17 18 19]]\n",
      "\n",
      " [[ 8  9 10 11]\n",
      "  [20 21 22 23]]]\n",
      "-\n",
      "[[[ 0  4  8]\n",
      "  [ 1  5  9]\n",
      "  [ 2  6 10]\n",
      "  [ 3  7 11]]\n",
      "\n",
      " [[12 16 20]\n",
      "  [13 17 21]\n",
      "  [14 18 22]\n",
      "  [15 19 23]]]\n",
      "축을 변경\n",
      "[[[ 0  4  8]\n",
      "  [ 1  5  9]\n",
      "  [ 2  6 10]\n",
      "  [ 3  7 11]]\n",
      "\n",
      " [[12 16 20]\n",
      "  [13 17 21]\n",
      "  [14 18 22]\n",
      "  [15 19 23]]]\n",
      "[[[ 0  1  2  3]\n",
      "  [12 13 14 15]]\n",
      "\n",
      " [[ 4  5  6  7]\n",
      "  [16 17 18 19]]\n",
      "\n",
      " [[ 8  9 10 11]\n",
      "  [20 21 22 23]]]\n"
     ]
    }
   ],
   "source": [
    "import numpy as np\n",
    "arr = np.arange(24).reshape((2,3,4)) #2면 3행 4렬\n",
    "                            #0,1,2\n",
    "print(arr)\n",
    "print(\"-\")\n",
    "print(arr.transpose((1,0,2))) #면과 행을 변경하라 3면 2행 4열\n",
    "print(\"-\") \n",
    "print(arr.transpose((0,2,1))) #면, 열, 행 순으로 바꿔라, 행과 열을 변경하라 2면 4행 3열\n",
    "print(\"축을 변경\")\n",
    "print(arr.swapaxes(1,2)) #행과 열을 바꿔라 =print(arr.transpose((0,2,1)))\n",
    "print(arr.swapaxes(0,1)) # =print(arr.transpose((1,0,2)))"
   ]
  },
  {
   "cell_type": "code",
   "execution_count": 6,
   "metadata": {},
   "outputs": [
    {
     "name": "stdout",
     "output_type": "stream",
     "text": [
      "[[ 0  1  2]\n",
      " [10 11 12]\n",
      " [20 21 22]\n",
      " [30 31 32]]\n",
      "[[ 0  1  2]\n",
      " [10 11 12]\n",
      " [20 21 22]\n",
      " [30 31 32]]\n",
      "[[ 0  1  2]\n",
      " [10 11 12]\n",
      " [20 21 22]\n",
      " [30 31 32]]\n"
     ]
    }
   ],
   "source": [
    "x = np.array([[0,0,0],[10,10,10],[20,20,20],[30,30,30]])\n",
    "y = np.array([[0,1,2],[0,1,2],[0,1,2],[0,1,2]])\n",
    "print(x+y)\n",
    "y1 = np.array([0,1,2]) #행방향으로 자동 브로드 캐스팅\n",
    "print(x+y1)\n",
    "x1 = np.array([[0],[10],[20],[30]]) #열로 3번 브로드 캐스팅(열방향으로)\n",
    "print(x1+y1)"
   ]
  },
  {
   "cell_type": "code",
   "execution_count": 10,
   "metadata": {},
   "outputs": [
    {
     "name": "stdout",
     "output_type": "stream",
     "text": [
      "[ 2 22 52]\n",
      "[ 1 12 23 34 45]\n",
      "[[30 32 35]\n",
      " [40 42 45]\n",
      " [50 52 55]]\n",
      "----\n",
      "[ 2 12 22 32 42 52]\n",
      "[3 4]\n",
      "[[20 22 24]\n",
      " [40 42 44]]\n",
      "[[44 45]\n",
      " [54 55]]\n"
     ]
    }
   ],
   "source": [
    "arr=[]\n",
    "for i in range(6):\n",
    "    ad=[]\n",
    "    for j in range(6):\n",
    "        ad.append(i*10+j)\n",
    "    arr.append(ad)\n",
    "arr = np.array(arr)\n",
    "\n",
    "#빨간색\n",
    "print(arr[[0,2,5],2])\n",
    "#주황색\n",
    "print(arr[[0,1,2,3,4],[1,2,3,4,5]])\n",
    "#하늘색\n",
    "print(arr[[3,4,5]][:,[0,2,5]])\n",
    "\n",
    "print(\"----\")\n",
    "\n",
    "#빨간색\n",
    "print(arr[:,2])\n",
    "#주황색\n",
    "print(arr[0,3:5])\n",
    "#연두색\n",
    "print(arr[[2,4]][:,[0,2,4]])\n",
    "#초록색\n",
    "print(arr[4:6,4:6])"
   ]
  },
  {
   "cell_type": "code",
   "execution_count": 16,
   "metadata": {},
   "outputs": [
    {
     "name": "stdout",
     "output_type": "stream",
     "text": [
      "[[ 0.00996426  1.8111576  -0.94780505  2.17774382]\n",
      " [-1.6388414  -1.00719562  0.51844352 -2.33099394]\n",
      " [ 0.76979026 -0.4883097   0.31708041  0.71848754]\n",
      " [-0.37763845  1.69921306 -0.67266    -0.57742152]\n",
      " [-0.11966222  1.24856298 -1.30419288  3.4347305 ]\n",
      " [-0.32268578 -0.07361739 -0.02211787 -0.11185382]\n",
      " [ 0.00592735  0.0385875   0.8565894  -1.01007084]]\n",
      "[ True False False False False False False]\n",
      "[[ 0.00996426  1.8111576  -0.94780505  2.17774382]]\n",
      "[[-0.94780505  2.17774382]]\n",
      "[[-1.6388414  -1.00719562  0.51844352 -2.33099394]\n",
      " [ 0.76979026 -0.4883097   0.31708041  0.71848754]\n",
      " [-0.37763845  1.69921306 -0.67266    -0.57742152]\n",
      " [-0.11966222  1.24856298 -1.30419288  3.4347305 ]\n",
      " [-0.32268578 -0.07361739 -0.02211787 -0.11185382]\n",
      " [ 0.00592735  0.0385875   0.8565894  -1.01007084]]\n",
      "[False  True  True  True  True  True  True]\n",
      "[ True False False False  True False False]\n",
      "[[ 0.00996426  1.8111576  -0.94780505  2.17774382]\n",
      " [-0.11966222  1.24856298 -1.30419288  3.4347305 ]]\n"
     ]
    }
   ],
   "source": [
    "#boolean indexing\n",
    "names = np.array(['Seoul','Deajun','Chungju','seoul','chungju', 'Daejun','daejun'])\n",
    "data=np.random.randn(7,4)\n",
    "print(data)\n",
    "print(names=='Seoul')\n",
    "print(data[names=='Seoul']) #boolean 인덱싱은 브로드 캐스팅이 안됨(데이터 갯수가 맞아야한다.)\n",
    "print(data[names=='Seoul',2:])\n",
    "\n",
    "print(data[names!='Seoul'])\n",
    "print(~(names=='Seoul')) #전체부정\n",
    "mask = (names =='Seoul') | (names=='chungju') #논리연산자로 조건을 결합해서 볼 수있다.\n",
    "print(mask)\n",
    "print(data[mask])"
   ]
  },
  {
   "cell_type": "code",
   "execution_count": 19,
   "metadata": {},
   "outputs": [
    {
     "name": "stdout",
     "output_type": "stream",
     "text": [
      "<zip object at 0x0000015527682308>\n",
      "[(1.1, 2.1, True), (1.2, 2.2, False), (1.3, 2.3, True), (1.4, 2.4, True), (1.5, 2.5, False)]\n",
      "결과는 :  [1.1, 2.2, 1.3, 1.4, 2.5]\n",
      "[1.1 2.2 1.3 1.4 2.5]\n",
      "[[ 0.11741395 -0.24603163  0.6198867  -0.07818072]\n",
      " [-1.84746158  1.13957993  0.10071495 -0.47885606]\n",
      " [ 0.63009171  0.81935534 -0.68833107 -0.25620729]\n",
      " [ 0.30016986  1.1684373   1.37724436  0.65626932]]\n",
      "[[ 2 -2  2 -2]\n",
      " [-2  2  2 -2]\n",
      " [ 2  2 -2 -2]\n",
      " [ 2  2  2  2]]\n",
      "[[ 2.         -0.24603163  2.         -0.07818072]\n",
      " [-1.84746158  2.          2.         -0.47885606]\n",
      " [ 2.          2.         -0.68833107 -0.25620729]\n",
      " [ 2.          2.          2.          2.        ]]\n"
     ]
    }
   ],
   "source": [
    "#3항 연산자\n",
    "#개별 데이터를 묶어서 요소끼리 묶어서 사용하는것 - zip\n",
    "xarr = np.array([1.1,1.2,1.3,1.4,1.5])\n",
    "yarr = np.array([2.1,2.2,2.3,2.4,2.5])\n",
    "cond = np.array([True, False, True, True, False])\n",
    "print(zip(xarr, yarr, cond))\n",
    "print(list(zip(xarr, yarr, cond))) #zip은 list에 담아야 출력된다.\n",
    "result = [(x if c else y) for x,y,c in zip(xarr,yarr,cond)]\n",
    "#참이면 x 거짓이면 y 를 묶어서 출력\n",
    "print(\"결과는 : \", result)\n",
    "result = np.where(cond, xarr, yarr) #where = 3항연산자 함수 (x if c else y)과 같은 결과를 리턴한다.\n",
    "print(result)\n",
    "arr = np.random.randn(4,4) #randn = n은 정규분포(normal) = 가우스(gauss)분포\n",
    "print(arr)\n",
    "print(np.where(arr>0,2,-2)) #랜덤으로나오는 값에 따라서 참이면 2아니면 -2\n",
    "print(np.where(arr>0,2,arr)) #참이면 2로 fix되고 아니면 원레 데이터"
   ]
  },
  {
   "cell_type": "code",
   "execution_count": 30,
   "metadata": {},
   "outputs": [
    {
     "name": "stdout",
     "output_type": "stream",
     "text": [
      "[ True False  True  True False False  True]\n",
      "[False  True  True  True False  True  True]\n",
      "결과는 :  [1, 2, 0, 0, 3, 2, 0]\n"
     ]
    }
   ],
   "source": [
    "#문제(4경우의 수가 존재)\n",
    "cond1 = np.array([1,0,1,1,0,0,1],dtype=bool)\n",
    "cond2 = np.array([0,1,1,1,0,1,1], dtype=bool)\n",
    "#두개다 참이면 0, cond1이 참이면 1, cond2가 참이면 2, 그외일 때는 3으로 처리하여 출력하시오.\n",
    "print(cond1)\n",
    "print(cond2)\n",
    "result = [0 if a and b else 1 if a else 2 if b else 3 for a,b in zip(cond1,cond2)]\n",
    "print(\"결과는 : \", result)\n",
    "\n",
    "for i in range(len(cond1)):\n",
    "    if cond1[i]==cond2[i]:\n",
    "        result.append(0)\n",
    "    elif cond1[i]:\n",
    "        result.append(1)\n",
    "    elif cond2[i]:\n",
    "        result.append(2)\n",
    "    else:\n",
    "        result.append(3)\n",
    "        \n",
    "result = np.where(cond1&cond2,0,np.where(cond1,1,np.where(cond2,2,3)))"
   ]
  },
  {
   "cell_type": "code",
   "execution_count": null,
   "metadata": {},
   "outputs": [],
   "source": [
    "arr1 = np.arange(4) #1*4 행렬\n",
    "arr4 = np.arange(2) #1*2\n",
    "print(arr1)\n",
    "print(arr4)\n",
    "arr2 = np.arange(8).reshape(4,2) #4*2\n",
    "print(arr2)\n",
    "arr3d = np.array([arr2,arr2,arr2]) #3*4*2\n",
    "print(arr3d)\n",
    "print(arr3d+arr3d) #3*4*2 + 3*4*2\n",
    "print(arr3d+arr2) #3*4*2 + 4*2(면으로 브로드 캐스팅) 3차원에서 한면으로 3면을 만들어 브로드 캐스팅되었다.\n",
    "print(arr3d+arr4) #3*4*2 + 1*2 (한 줄로도 브로드 캐스팅이 된다.)\n",
    "print(arr3d+arr1) #브로드 캐스팅은 끝안을 맞춰주어야한다. 안된다.\n",
    "# 3*4*2 + 1*4 는 연산이 불가능"
   ]
  },
  {
   "cell_type": "code",
   "execution_count": 38,
   "metadata": {},
   "outputs": [
    {
     "name": "stdout",
     "output_type": "stream",
     "text": [
      "3.321928094887362\n",
      "2.302585092994046\n"
     ]
    }
   ],
   "source": [
    "#math\n",
    "#y = a^x -> y : exp(x축에 가까워진다.), x : log(y축에 가까워진다.), a : root 비선형\n",
    "#비선형 데이터를 다루기 위해서 지수,로그,제곱근이 나온다.\n",
    "#지수함수와 로그함수는 역함수관계이다.\n",
    "#log는 숫자가 아주 클때 사용한다. (곱셈문제를 덧셈문제로 바꾸고싶을때는 양변에 log를 취해 곱셈을 덧셈으로 바꾸어 계산을 편리하게 한다.)\n",
    "\n",
    "import math\n",
    "print(math.log2(10))\n",
    "print(math.log(10))"
   ]
  },
  {
   "cell_type": "code",
   "execution_count": 40,
   "metadata": {},
   "outputs": [
    {
     "name": "stdout",
     "output_type": "stream",
     "text": [
      "out_array :  [0.         0.18232156 0.33647224 0.47000363 0.58778666 0.69314718]\n"
     ]
    },
    {
     "data": {
      "text/plain": [
       "Text(0, 0.5, 'in_array')"
      ]
     },
     "execution_count": 40,
     "metadata": {},
     "output_type": "execute_result"
    },
    {
     "data": {
      "image/png": "[encoded data removed]",
      "text/plain": [
       "<Figure size 432x288 with 1 Axes>"
      ]
     },
     "metadata": {
      "needs_background": "light"
     },
     "output_type": "display_data"
    }
   ],
   "source": [
    "import matplotlib.pyplot as plt\n",
    "in_array=[1,1.2,1.4,1.6,1.8,2]\n",
    "out_array=np.log(in_array) #비선형으로 우상향하는 곡선을 가진다.(y축에 붙는다.)\n",
    "print(\"out_array : \", out_array)\n",
    "plt.plot(in_array, in_array, color='blue', marker=\"*\")\n",
    "plt.plot(out_array, in_array, color='red', marker=\"o\")\n",
    "plt.title(\"log\")\n",
    "plt.xlabel(\"out_array\")\n",
    "plt.ylabel(\"in_array\")"
   ]
  },
  {
   "cell_type": "code",
   "execution_count": 41,
   "metadata": {},
   "outputs": [
    {
     "name": "stdout",
     "output_type": "stream",
     "text": [
      "out_array :  [2.71828183 3.32011692 4.05519997 4.95303242 6.04964746 7.3890561 ]\n"
     ]
    },
    {
     "data": {
      "text/plain": [
       "Text(0, 0.5, 'in_array')"
      ]
     },
     "execution_count": 41,
     "metadata": {},
     "output_type": "execute_result"
    },
    {
     "data": {
      "image/png": "[encoded data removed]",
      "text/plain": [
       "<Figure size 432x288 with 1 Axes>"
      ]
     },
     "metadata": {
      "needs_background": "light"
     },
     "output_type": "display_data"
    }
   ],
   "source": [
    "in_array=[1,1.2,1.4,1.6,1.8,2]\n",
    "out_array=np.exp(in_array) #비선형으로 우상향하는 곡선을 가진다.(x축에 붙는다.)\n",
    "print(\"out_array : \", out_array)\n",
    "plt.plot(in_array, in_array, color='blue', marker=\"*\")\n",
    "plt.plot(out_array, in_array, color='red', marker=\"o\")\n",
    "plt.title(\"exp\")\n",
    "plt.xlabel(\"out_array\")\n",
    "plt.ylabel(\"in_array\")"
   ]
  },
  {
   "cell_type": "code",
   "execution_count": 48,
   "metadata": {},
   "outputs": [
    {
     "name": "stdout",
     "output_type": "stream",
     "text": [
      "2차원 :  1.4142135623730951\n",
      "3차원 :  1.7320508075688772\n",
      "[-4 -3 -2 -1  0  1  2  3  4]\n",
      "[[-4 -3 -2]\n",
      " [-1  0  1]\n",
      " [ 2  3  4]]\n",
      "7.745966692414834\n",
      "[0.57735027 0.57735027 0.57735027]\n"
     ]
    },
    {
     "data": {
      "text/plain": [
       "1.0000000000000002"
      ]
     },
     "execution_count": 48,
     "metadata": {},
     "output_type": "execute_result"
    }
   ],
   "source": [
    "#선형대수\n",
    "from numpy import linalg as LA\n",
    "x = np.array([1.0,1.0])\n",
    "print(\"2차원 : \",LA.norm(x)) #피타고라스 정리로 원점과의 거리\n",
    "x = np.array([1.0,1.0,1.0])\n",
    "print(\"3차원 : \",LA.norm(x))\n",
    "a = np.arange(9)-4 #0부터 시작하는것이 -4~4로 된다.\n",
    "print(a)\n",
    "b = a.reshape((3,3))\n",
    "print(b)\n",
    "print(LA.norm(a)) #flatten하고 나서 norm을 적용한것과 같다.\n",
    "#norm은 들어온 데이터를 모두 1차원vector로 본다.\n",
    "print(x/(LA.norm(x))) #노멀라이즈(각요소를 크기값으로 나누었다.->normalize(방향값이 된다.))\n",
    "# = (cos theta, sin theta, tan theta)\n",
    "normalize1 = x/(LA.norm(x)) #방향값\n",
    "sum(normalize1**2) #제곱해서 더하면 1이된다."
   ]
  },
  {
   "cell_type": "code",
   "execution_count": 52,
   "metadata": {},
   "outputs": [
    {
     "data": {
      "text/plain": [
       "array([[37, 40],\n",
       "       [85, 92]])"
      ]
     },
     "execution_count": 52,
     "metadata": {},
     "output_type": "execute_result"
    }
   ],
   "source": [
    "a = np.array([[1,2],[3,4]]) #괄호조심 항상 list로 묶어 주어야한다.\n",
    "b = np.array([[11,12],[13,14]])\n",
    "np.dot(a,b) #내적값이 나온다.\n",
    "#행렬곱도 내적의 연속이다. "
   ]
  },
  {
   "cell_type": "code",
   "execution_count": 56,
   "metadata": {},
   "outputs": [
    {
     "name": "stdout",
     "output_type": "stream",
     "text": [
      "행렬곱 :  [[[[   42    48    54]\n",
      "   [  114   136   158]\n",
      "   [  186   224   262]]\n",
      "\n",
      "  [[  906   960  1014]\n",
      "   [ 1170  1240  1310]\n",
      "   [ 1434  1520  1606]]]\n",
      "\n",
      "\n",
      " [[[ 2922  3024  3126]\n",
      "   [ 3378  3496  3614]\n",
      "   [ 3834  3968  4102]]\n",
      "\n",
      "  [[ 6090  6240  6390]\n",
      "   [ 6738  6904  7070]\n",
      "   [ 7386  7568  7750]]]\n",
      "\n",
      "\n",
      " [[[10410 10608 10806]\n",
      "   [11250 11464 11678]\n",
      "   [12090 12320 12550]]\n",
      "\n",
      "  [[15882 16128 16374]\n",
      "   [16914 17176 17438]\n",
      "   [17946 18224 18502]]]\n",
      "\n",
      "\n",
      " [[[22506 22800 23094]\n",
      "   [23730 24040 24350]\n",
      "   [24954 25280 25606]]\n",
      "\n",
      "  [[30282 30624 30966]\n",
      "   [31698 32056 32414]\n",
      "   [33114 33488 33862]]]]\n",
      "행렬곱 :  (4, 2, 3, 3)\n"
     ]
    }
   ],
   "source": [
    "A = np.arange(4*2*3*4).reshape((4,2,3,4))\n",
    "B = np.arange(4*2*4*3).reshape((4,2,4,3))\n",
    "print(\"행렬곱 : \", np.matmul(A,B))\n",
    "print(\"행렬곱 : \", np.matmul(A,B).shape)\n",
    "#3차웜 이상인 경우의 행렬곱은 (행과열만 전치되어있으면 계산이 가능하다.)\n",
    "# -> 4,2,3,3의 행렬로 출력된다.\n",
    "A = np.arange(4*2*3*4).reshape((4,2,3,4))\n",
    "B = np.arange(4*3).reshape((4,3)) #브로드 캐스팅이 가능하여 같은값이 8번 곱해져서 계산이 가능하다.\n",
    "print(\"행렬곱 : \", np.matmul(A,B))\n",
    "print(\"행렬곱 : \", np.matmul(A,B).shape)"
   ]
  },
  {
   "cell_type": "code",
   "execution_count": 61,
   "metadata": {},
   "outputs": [
    {
     "name": "stdout",
     "output_type": "stream",
     "text": [
      "연립방정식의 해 [[1.]\n",
      " [1.]\n",
      " [1.]]\n"
     ]
    }
   ],
   "source": [
    "A = np.array([[1,1,0],[0,1,1],[1,1,1]]) #연립방적식\n",
    "Ainv = np.linalg.inv(A) #역행렬\n",
    "B = np.array([[2],[2],[3]]) #값\n",
    "#x+y = 2, y+z=2, x+y+z=3\n",
    "#1,1,0  x = 2\n",
    "#0,1,1  y = 2\n",
    "#1,1,1  z = 3\n",
    "x = Ainv@B\n",
    "print(\"연립방정식의 해\",x)\n",
    "#x=1, y=1, z=1"
   ]
  },
  {
   "cell_type": "code",
   "execution_count": 66,
   "metadata": {},
   "outputs": [
    {
     "name": "stdout",
     "output_type": "stream",
     "text": [
      "[[ 1.]\n",
      " [-1.]\n",
      " [ 2.]]\n"
     ]
    }
   ],
   "source": [
    "# 2x + y - 2z = -3\n",
    "# 3x + z = 5\n",
    "# x + y -z = -2\n",
    "A = np.array([[2,1,-2],[3,0,1],[1,1,-1]])\n",
    "Ainv = np.linalg.inv(A)\n",
    "B = np.array([[-3],[5],[-2]])\n",
    "x = Ainv@B\n",
    "print(x)"
   ]
  },
  {
   "cell_type": "code",
   "execution_count": 71,
   "metadata": {},
   "outputs": [
    {
     "data": {
      "text/plain": [
       "array([[ 1.],\n",
       "       [-1.],\n",
       "       [ 2.]])"
      ]
     },
     "execution_count": 71,
     "metadata": {},
     "output_type": "execute_result"
    }
   ],
   "source": [
    "np.linalg.solve(A,B) #앞의 행렬의 역행렬을 구해 행렬곱으로 연산하여 결과를 return한다."
   ]
  },
  {
   "cell_type": "code",
   "execution_count": 73,
   "metadata": {},
   "outputs": [
    {
     "data": {
      "text/plain": [
       "array([[ 1.],\n",
       "       [-1.],\n",
       "       [ 2.]])"
      ]
     },
     "execution_count": 73,
     "metadata": {},
     "output_type": "execute_result"
    }
   ],
   "source": [
    "np.matmul(np.linalg.inv(A),B)"
   ]
  },
  {
   "cell_type": "code",
   "execution_count": 79,
   "metadata": {},
   "outputs": [
    {
     "name": "stdout",
     "output_type": "stream",
     "text": [
      "1.0\n",
      "1.0\n",
      "1.0\n",
      "cos theta 0.0\n",
      "1.5707963267948966\n",
      "90.0\n"
     ]
    }
   ],
   "source": [
    "#두축은 계산하지 않아도 90도이다.\n",
    "a = np.array([0,1,0]) #y축\n",
    "b = np.array([1,0,0]) #x축\n",
    "res = np.dot(a,b) #내적값(내적 사이각:각도인데 벡터의 크기가 고려된 각도)\n",
    "print(np.linalg.norm(a))\n",
    "print(np.linalg.norm(b))\n",
    "print(np.linalg.norm(a)*np.linalg.norm(b))\n",
    "rad = res/(np.linalg.norm(a)*np.linalg.norm(b)) #코사인 세타 값(크기값이 제거되고 각도만 남았다.)\n",
    "print(\"cos theta\",rad)\n",
    "print(np.arccos(rad)) #사람이 알아볼 수 있도록\n",
    "print(np.degrees(np.arccos(rad))) #라디언값을 각도값으로 바꾼다."
   ]
  },
  {
   "cell_type": "code",
   "execution_count": 80,
   "metadata": {},
   "outputs": [
    {
     "name": "stdout",
     "output_type": "stream",
     "text": [
      "[[1.00000000e+00 1.11022302e-16]\n",
      " [0.00000000e+00 1.00000000e+00]]\n"
     ]
    }
   ],
   "source": [
    "#행렬과 그 행렬의 역행렬을 곱하면 단위행렬이 된다.\n",
    "x = np.array([[1,2],[3,4]])\n",
    "y = np.linalg.inv(x)\n",
    "print(np.dot(x,y))"
   ]
  },
  {
   "cell_type": "code",
   "execution_count": 84,
   "metadata": {},
   "outputs": [
    {
     "data": {
      "text/plain": [
       "[(5, 1083.6608285334485),\n",
       " (3, -2728.7594282491445),\n",
       " (2, 2446.0868594877857),\n",
       " (2, -914.2147333766912),\n",
       " (1, 131.23878079295724),\n",
       " (1, -2.858887320879615)]"
      ]
     },
     "execution_count": 84,
     "metadata": {},
     "output_type": "execute_result"
    },
    {
     "data": {
      "image/png": "[encoded data removed]",
      "text/plain": [
       "<Figure size 432x288 with 1 Axes>"
      ]
     },
     "metadata": {
      "needs_background": "light"
     },
     "output_type": "display_data"
    }
   ],
   "source": [
    "#벡터 내적은 순서를 바꾸는 것이 가능하다.\n",
    "#행렬곱은 순서를 바꿀수 없다.\n",
    "b = np.random.randint(0,10,6)\n",
    "x = np.linspace(0,1,25) #0~1까지 25개\n",
    "y = np.poly1d(b)(x) #최소제곱법을 이용하여 선형함수의 계수를 결정\n",
    "y += np.random.normal(0,5,y.shape) #노이즈 제공\n",
    "#계수를 이용한 방정식을 결정하는 것이 = poly1d\n",
    "#데이터로 부터 fitting을 통해서 방정식의 계수를 확인하는것이 polyfit\n",
    "p = np.poly1d(np.polyfit(x,y,len(b)-1)) #polyfit를 통해서 피팅을 한 다음 방정식을 결정\n",
    "plt.plot(x,y, 'bo')\n",
    "plt.plot(x,p(x),'r-')\n",
    "list(zip(b,p.coeffs))\n",
    "#다항방정식을 이용해서 :scipy, polynomial이라는 서브 패키지를 통해서 랜덤한 데이터를 피팅할 수 있다."
   ]
  },
  {
   "cell_type": "code",
   "execution_count": 86,
   "metadata": {},
   "outputs": [
    {
     "data": {
      "image/png": "[encoded data removed]",
      "text/plain": [
       "<Figure size 432x288 with 2 Axes>"
      ]
     },
     "metadata": {
      "needs_background": "light"
     },
     "output_type": "display_data"
    }
   ],
   "source": [
    "points = np.arange(-5,5,0.01) #-5~5사이를 0.01간격으로 수를 발생, 1000개가 만들어 진다.\n",
    "xs,ys = np.meshgrid(points, points) #x축, y축으로 1000*1000이 만들어진다 (그물망, 격자를 만들었다.)\n",
    "z = np.sqrt(xs**2 + ys**2) #거리값을 z로 주었다.\n",
    "plt.imshow(z, cmap=plt.cm.rainbow) #z값을 주어 지형의 위에서 보았을때의 높이값을 색으로 표시하였다.\n",
    "#값을 칼라값으로 해서 이미지를 만들어라.\n",
    "plt.colorbar()\n",
    "plt.title(\"$\\sqrt{x^2+y^2}$\") #$$ 사이에 수식을 넣어주면 수식을 출력해준다.\n",
    "plt.show()\n",
    "#kmeans 는 거리값을 구해서 재기 때문에 원형이상치를 제거할때 사용한다. 이런방식으로 이상치 제거"
   ]
  },
  {
   "cell_type": "code",
   "execution_count": null,
   "metadata": {},
   "outputs": [],
   "source": []
  }
 ],
 "metadata": {
  "kernelspec": {
   "display_name": "Python 3",
   "language": "python",
   "name": "python3"
  },
  "language_info": {
   "codemirror_mode": {
    "name": "ipython",
    "version": 3
   },
   "file_extension": ".py",
   "mimetype": "text/x-python",
   "name": "python",
   "nbconvert_exporter": "python",
   "pygments_lexer": "ipython3",
   "version": "3.7.6"
  }
 },
 "nbformat": 4,
 "nbformat_minor": 4
}
