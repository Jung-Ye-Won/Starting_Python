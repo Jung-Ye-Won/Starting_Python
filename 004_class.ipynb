{
 "cells": [
  {
   "cell_type": "code",
   "execution_count": 1,
   "metadata": {},
   "outputs": [],
   "source": [
    "#class 는 사용자 정의 데이터 타입\n",
    "#attribute(멤버변수) + method로 구성되어 진다. - 메소드는 한번만 만들어진다.(여러 객체가 생기더라도 여러번 중복해서 생성되지 않는다.)\n",
    "#메소드는 공유한다. -> class에서 메모리를 차지하는것은 멤버변수이다.\n",
    "#attribute는 함수 어디에서나 정의가 가능하다.\n",
    "#self == this(자바)\n",
    "#클래스로 만들더라고 나중에는 전부 함수베이스로 변화한다.(컴퓨터는 함수베이스로 작동=stack)\n",
    "#클래스는 구조를 짜는(구성하는) 역할만 하는것이다.\n",
    "\n",
    "class Test: #클래스생성\n",
    "    def __init__(self): #생성자 - 생성자도 상속받는다.\n",
    "        #재정의 가 되는것(overriding)\n",
    "        self._x=None #self가 붙으면 멤버변수이고 없으면 지역변수이다.\n",
    "        #멤버변수를 생성한 것이다.\n",
    "        #생성자 메소드가 아니여도 어느 함수에서도 생성이 가능하다.\n",
    "    def getx(self): #첫번째로 의미없이 무조건 self를 넣는다. (=this와같다.)\n",
    "        return self._x #_변수이름 -> 지역변수로 사용하겠다.\n",
    "    def setx(self, value):\n",
    "        self._x=value\n",
    "    def delx(self):\n",
    "        del self._x\n",
    "#첫번째 매개변수는 무조건 self이다.\n",
    "#공간확보가 안된상태고 그냥 형태이다.\n",
    "#멤버변수는 모두 함수에서 초기화 되어야한다."
   ]
  },
  {
   "cell_type": "code",
   "execution_count": 2,
   "metadata": {},
   "outputs": [
    {
     "name": "stdout",
     "output_type": "stream",
     "text": [
      "1004\n"
     ]
    }
   ],
   "source": [
    "test = Test() #class는 인스턴스(생성)해야한다.\n",
    "#class작성 -> 인스턴스 ->메모리에 오르면 object라고 한다.(객체)\n",
    "#최상위부모 = object(클래스이름)\n",
    "#생성되면서 메모리에서 공간확보를 한다. (=인스턴스한다.)\n",
    "#멤버변수 = 인스턴스변수(인스턴스할때 초기화된다고 해서)\n",
    "test.x = 1004 #실시간으로 변수가 추가되어 print가 가능해진다.\n",
    "#self를 붙여주면 다른함수 안에서도 멤버변수를 만들수있다.\n",
    "print(test.x)"
   ]
  },
  {
   "cell_type": "code",
   "execution_count": 8,
   "metadata": {},
   "outputs": [],
   "source": [
    "class MyClass(object): #instance해서 데이터를 저장하려고 class를 생성하는것이다.(사용자 정의 데이터 타입)\n",
    "    #오브젝트상속은 명시적으로 지정할수도 있고 생략할 수도 있다.\n",
    "    \"\"\"Class의 예\"\"\"\n",
    "    i = 12345 #class변수 : 함수밖에서 선언, 모든 함수에서 공유한다., 클래스 내부에서 공유되는 변수\n",
    "    #클래스네임.i 하면 호출된다.\n",
    "    def __init__(self):\n",
    "        self.i=54321 #멤버변수 : self를 붙여서 선언\n",
    "        #생성된 클래스 변수이름.i 하면 호출횐다.\n",
    "        #self.name = name\n",
    "        num=100\n",
    "    def f(self):\n",
    "        return self.i"
   ]
  },
  {
   "cell_type": "code",
   "execution_count": 15,
   "metadata": {},
   "outputs": [
    {
     "name": "stdout",
     "output_type": "stream",
     "text": [
      "Class의 예\n",
      "12345\n",
      "54321\n"
     ]
    },
    {
     "data": {
      "text/plain": [
       "54321"
      ]
     },
     "execution_count": 15,
     "metadata": {},
     "output_type": "execute_result"
    }
   ],
   "source": [
    "print(MyClass.__doc__) #문자열? \"\"\"\"\"\" 을 출력한다.\n",
    "print(MyClass.i) #인스턴스 하기전의 i값 (정의하면 모든 공간에서 사용가능하다.)\n",
    "#즉 class변수가 전역변수 같은 역할을 하는것이다.\n",
    "myclass=MyClass() #인스턴스-> init이 실행된다.\n",
    "print(myclass.i) #클래스변수의 기본은 public이 된다.\n",
    "myclass.f()"
   ]
  },
  {
   "cell_type": "code",
   "execution_count": 16,
   "metadata": {},
   "outputs": [],
   "source": [
    "#클래스변수와 멤버변수의 차이\n",
    "#호출방법(MyClass.변수이름, 인스턴스이름.변수이름)"
   ]
  },
  {
   "cell_type": "code",
   "execution_count": 28,
   "metadata": {},
   "outputs": [],
   "source": [
    "class MyOtherClass:\n",
    "    count=0 #class변수 : 인스턴스된 숫자를 기억하기 위해 생성하였다.\n",
    "    def __init__(self, name, gender=\"여성\", age=None): #생성자\n",
    "        #매개변수가 있다고 할지라도 self는 무조건 붙인다. 안붙이면 에러남!!\n",
    "        MyOtherClass.count+=1\n",
    "        print(\"새로운 객체 인스턴스\")\n",
    "        self.name = name\n",
    "        self.gender = gender\n",
    "        if age is not None: #None의 비교는 !=가 아니고 is not none이다.(is를 사용한다.)\n",
    "            self.age = age\n",
    "    def __del__(self): #소멸자 : 메모리에서 없어질 때(삭제될 때) 해야할 일\n",
    "        MyOtherClass.count-=1\n",
    "        print(\"메모리에서 사라집니다.\")"
   ]
  },
  {
   "cell_type": "code",
   "execution_count": 29,
   "metadata": {},
   "outputs": [
    {
     "name": "stdout",
     "output_type": "stream",
     "text": [
      "새로운 객체 인스턴스\n",
      "메모리에서 사라집니다.\n",
      "대단해 여성\n",
      "새로운 객체 인스턴스\n",
      "좋아요 여성 23\n",
      "메모리에서 사라집니다.\n"
     ]
    }
   ],
   "source": [
    "person1 = MyOtherClass(\"대단해\") #매개변수 생성자로 매개변수가 있어야 생성가능하다.\n",
    "#디폴트매개변수를 제외한 name의 매개변수는 무조건 존재하여야 한다.\n",
    "print(person1.name, person1.gender)\n",
    "person2 = MyOtherClass(\"좋아요\",\"여성\",23)\n",
    "print(person2.name, person2.gender, person2.age)\n",
    "person2 = None"
   ]
  },
  {
   "cell_type": "code",
   "execution_count": 33,
   "metadata": {},
   "outputs": [
    {
     "name": "stdout",
     "output_type": "stream",
     "text": [
      "생성 Mon Jul 13 11:23:20 2020\n",
      "3초간 휴식\n",
      "사망 Mon Jul 13 11:23:23 2020\n"
     ]
    }
   ],
   "source": [
    "from time import time, ctime, sleep #시간에 관련한 함수\n",
    "class Life:\n",
    "    def __init__(self): #초기화시에 현재시간 받음\n",
    "        self.birth=ctime()\n",
    "        print(\"생성\",self.birth) \n",
    "    def __del__(self): #소멸시에 현재시간\n",
    "        print(\"사망\", ctime())\n",
    "    def test(self):\n",
    "        print(\"3초간 휴식\")\n",
    "        sleep(3) #3초간 머무름\n",
    "li = Life() #li에는 주소값만 존재\n",
    "li.test()\n",
    "del li #참조를 없앴다. 사망시킴 GC가비지 컬렉터로 삭제되었다."
   ]
  },
  {
   "cell_type": "code",
   "execution_count": 51,
   "metadata": {},
   "outputs": [],
   "source": [
    "class Employee:\n",
    "    \"\"\"임금계산\"\"\"\n",
    "    empCount=0 #class변수로 공용이다.(전역변수)\n",
    "    def __init__(self, name, salary): #매개변수 2개를 받는다.\n",
    "        self.name = name\n",
    "        self.salary = salary\n",
    "        Employee.empCount+=1\n",
    "    def displayCount(self):\n",
    "        print(\"직원수 = %d\" %Employee.empCount)\n",
    "    def displayEmployee(self):\n",
    "        print(\"이름 : \", self.name, \"급여 : \", self.salary)\n",
    "    def __call__(self, *pargs, **kargs): #클래스를 함수처럼 사용할 수 있게하는 오버라이딩 함수이다.\n",
    "        print(\"called : \", pargs, kargs)\n",
    "    def __del__(self):\n",
    "        Employee.empCount-=1"
   ]
  },
  {
   "cell_type": "code",
   "execution_count": 52,
   "metadata": {},
   "outputs": [
    {
     "name": "stdout",
     "output_type": "stream",
     "text": [
      "직원수 = 0\n",
      "직원수 = 1\n",
      "직원수 = 1\n"
     ]
    }
   ],
   "source": [
    "emp = Employee(\"김대한\", 500)\n",
    "emp.displayCount()\n",
    "emp1 = Employee(\"빅데이터\", 400)\n",
    "emp1.displayCount()\n",
    "emp.displayCount() #전역변수로 하나의 변수를 공유하고 있기때문에 1의값과 동일하게 출력되는 것이다."
   ]
  },
  {
   "cell_type": "code",
   "execution_count": 53,
   "metadata": {},
   "outputs": [
    {
     "name": "stdout",
     "output_type": "stream",
     "text": [
      "이름 :  김대한 급여 :  500\n",
      "이름 :  빅데이터 급여 :  400\n",
      "직원수는 1\n",
      "called :  ('인공지능', 500, 100) {'c': 100}\n",
      "직원수 = 1\n",
      "직원수 = 0\n"
     ]
    }
   ],
   "source": [
    "emp.displayEmployee()\n",
    "emp1.displayEmployee()\n",
    "print(\"직원수는 %d\" %Employee.empCount)\n",
    "emp(\"인공지능\", 500, 100, c=100) #클래스를 함수처럼 사용\n",
    "#클래스 인스턴스를 함수호출하듯이 ()를 사용하여데이터를 넣어주었다.\n",
    "#called :  ('인공지능', 500, 100) {'c': 100}\n",
    "#매개변수3개가 들어가서 call함수로 전달되었다.\n",
    "emp1.displayCount()\n",
    "emp1.age=7 #public 변수\n",
    "#멤버변수를 실시간으로 추가할 수 있다.\n",
    "emp.age=8\n",
    "del(emp1)\n",
    "emp.displayCount()"
   ]
  },
  {
   "cell_type": "code",
   "execution_count": 56,
   "metadata": {},
   "outputs": [
    {
     "name": "stdout",
     "output_type": "stream",
     "text": [
      "임금계산\n"
     ]
    },
    {
     "data": {
      "text/plain": [
       "mappingproxy({'__module__': '__main__',\n",
       "              '__doc__': '임금계산',\n",
       "              'empCount': 0,\n",
       "              '__init__': <function __main__.Employee.__init__(self, name, salary)>,\n",
       "              'displayCount': <function __main__.Employee.displayCount(self)>,\n",
       "              'displayEmployee': <function __main__.Employee.displayEmployee(self)>,\n",
       "              '__call__': <function __main__.Employee.__call__(self, *pargs, **kargs)>,\n",
       "              '__del__': <function __main__.Employee.__del__(self)>,\n",
       "              '__dict__': <attribute '__dict__' of 'Employee' objects>,\n",
       "              '__weakref__': <attribute '__weakref__' of 'Employee' objects>})"
      ]
     },
     "execution_count": 56,
     "metadata": {},
     "output_type": "execute_result"
    }
   ],
   "source": [
    "print(Employee.__doc__)\n",
    "Employee.__dict__ #갖고있는 변수 출력 (dict를 이용해서 클레스의 멤버변수들을 관리한다.)"
   ]
  },
  {
   "cell_type": "code",
   "execution_count": 59,
   "metadata": {},
   "outputs": [
    {
     "data": {
      "text/plain": [
       "'Employee'"
      ]
     },
     "execution_count": 59,
     "metadata": {},
     "output_type": "execute_result"
    }
   ],
   "source": [
    "Employee.__name__ #클래스의 이름?"
   ]
  },
  {
   "cell_type": "code",
   "execution_count": 68,
   "metadata": {},
   "outputs": [
    {
     "name": "stdout",
     "output_type": "stream",
     "text": [
      "이름 :  다함께 나이 :  23\n",
      "이름 : 다함께, 나이 : 23\n"
     ]
    }
   ],
   "source": [
    "class Student:\n",
    "    \"\"\"학생관리\"\"\"\n",
    "    def __init__(self, name, age):\n",
    "        self.full_name = name\n",
    "        self.age = age\n",
    "    def print(self): #namespace가 다르다. 함수의 이름은 같은데 공간이 다르다. \n",
    "        print(\"이름 : \", self.full_name, \"나이 : \", self.age)\n",
    "    def __repr__(self): #repr,str 문자열로 형변환 하는것\n",
    "        #__str__, __repr__ 문자열을 요구하는 함수에 들어가면 얘를 리턴해 준다.\n",
    "        return \"이름 : \"+self.full_name + \", 나이 : \" + str(self.age)\n",
    "f = Student(\"다함께\", 23)\n",
    "f.print()\n",
    "print(f) #자동으로 repr 함수가 호출되어 리턴된다."
   ]
  },
  {
   "cell_type": "code",
   "execution_count": 65,
   "metadata": {},
   "outputs": [
    {
     "name": "stdout",
     "output_type": "stream",
     "text": [
      "학생관리\n",
      "<class '__main__.Student'>\n",
      "이름 : 김명수\n"
     ]
    }
   ],
   "source": [
    "print(f.__doc__)\n",
    "print(f.__class__) #클래스 이름을 갖고있다.\n",
    "g = f.__class__(\"김명수\", 34) #클래스이름으로 인스턴스\n",
    "#g = Student(\"김명수\", 34) \n",
    "print(g)\n",
    "#객체를 대입하여 이놈이 뭘로 만들어진 놈인가 알수있다. 클래스 이름을 모를때"
   ]
  },
  {
   "cell_type": "code",
   "execution_count": 69,
   "metadata": {},
   "outputs": [],
   "source": [
    "# Point는 x,y좌표값을 저장하고 두점간의 거리값을 구하는 함수\n",
    "import math\n",
    "\n",
    "class Point: #2차원에서의 한점\n",
    "    def __init__(self, x, y):\n",
    "        self.x = x\n",
    "        self.y = y\n",
    "    def __repr__(self):\n",
    "        return \"좌표는 (%d, %d)\" %(self.x, self.y)\n",
    "    def dist(self, other): #거리값계산, 둘다 poinr의 객체여야 된다. (x,y값이 존재해야 하므로)\n",
    "        distance = math.sqrt((self.x-other.x)**2 + (self.y-other.y)**2) #피타고라스 정리\n",
    "        return distance\n",
    "    def collision(self, other): #충동하냐 안하냐\n",
    "        return self.dist(other)<3 #3은 임의의 값"
   ]
  },
  {
   "cell_type": "code",
   "execution_count": 75,
   "metadata": {},
   "outputs": [
    {
     "name": "stdout",
     "output_type": "stream",
     "text": [
      "좌표는 (7, 3)\n",
      "좌표는 (4, 7)\n",
      "두 점 사이의 거리는  5.0\n",
      "충돌하지 않았습니다.\n"
     ]
    }
   ],
   "source": [
    "first = Point(7,3)\n",
    "second = Point(4,7)\n",
    "print(first)\n",
    "print(second)\n",
    "print(\"두 점 사이의 거리는 \",first.dist(second))\n",
    "if first.collision(second):\n",
    "    #참이면\n",
    "    print(\"충돌했습니다.\")\n",
    "else :\n",
    "    print(\"충돌하지 않았습니다.\")"
   ]
  },
  {
   "cell_type": "code",
   "execution_count": 94,
   "metadata": {},
   "outputs": [],
   "source": [
    "# 문제 : circle클래스를 작성하시오\n",
    "# 입력데이터는 중심, 반지름\n",
    "# 두원이 충돌하는지 여부를 확인하는 함수도 작성하시오(중심과 중심의 거리가 반지름을 두개를 더한값보다 작으면 충돌)\n",
    "import math\n",
    "\n",
    "class Circle: #2차원에서의 한점\n",
    "    def __init__(self, x, y, rid):\n",
    "        self.x = x\n",
    "        self.y = y\n",
    "        self.rid = rid\n",
    "    def __repr__(self):\n",
    "        return \"좌표는 (%d, %d), 반지름은 (%d)\" %(self.x, self.y, self.rid)\n",
    "    def dist(self, other): #거리값계산, 둘다 poinr의 객체여야 된다. (x,y값이 존재해야 하므로)\n",
    "        distance = math.sqrt((self.x-other.x)**2 + (self.y-other.y)**2) #피타고라스 정리\n",
    "        return distance\n",
    "    def collision(self, other): #충돌하냐 안하냐\n",
    "        return self.dist(other)<(self.rid+other.rid) #3은 임의의 값\n",
    "    \n",
    "class Circle2: \n",
    "    def __init__(self, center, rid):\n",
    "        self.center = center\n",
    "        self.rid = rid\n",
    "    def __repr__(self):\n",
    "        return \"원의 중심은 \" + str(self.center) + \", 반지름은 \" + str(self.rid) + \", 면적은 \" + str(self.area()) + \", 둘레는 \" + str(self.perimeter())\n",
    "    #함수를 호출할때로 self를 붙여줘야 한다.\n",
    "    def collision(self, other): #충돌하냐 안하냐\n",
    "        if self.center.dist(other.center) < (self.rid+other.rid) :\n",
    "            print(\"충돌했습니다.\")\n",
    "        else:\n",
    "            print(\"충돌하지 않습니다.\")\n",
    "    def area(self):\n",
    "        area = math.pi * float(self.rid**2)\n",
    "        return area\n",
    "    def perimeter(self):\n",
    "        peri = 2*math.pi*self.rid\n",
    "        return peri"
   ]
  },
  {
   "cell_type": "code",
   "execution_count": 95,
   "metadata": {},
   "outputs": [
    {
     "name": "stdout",
     "output_type": "stream",
     "text": [
      "좌표는 (7, 3), 반지름은 (3)\n",
      "좌표는 (4, 7), 반지름은 (1)\n",
      "두 점 사이의 거리는  5.0\n",
      "충돌하지 않았습니다.\n",
      "--------\n",
      "원의 중심은 좌표는 (7, 3), 반지름은 2, 면적은 12.566370614359172, 둘레는 12.566370614359172\n",
      "원의 중심은 좌표는 (4, 7), 반지름은 3, 면적은 28.274333882308138, 둘레는 18.84955592153876\n",
      "충돌하지 않습니다.\n",
      "None\n"
     ]
    }
   ],
   "source": [
    "first = Circle(7,3,3)\n",
    "second = Circle(4,7,1)\n",
    "print(first)\n",
    "print(second)\n",
    "print(\"두 점 사이의 거리는 \",first.dist(second))\n",
    "if first.collision(second):\n",
    "    #참이면\n",
    "    print(\"충돌했습니다.\")\n",
    "else :\n",
    "    print(\"충돌하지 않았습니다.\")\n",
    "    \n",
    "print(\"--------\")\n",
    "    \n",
    "point1 = Point(7,3)\n",
    "point2 = Point(4,7)\n",
    "circle = Circle2(point1, 2)\n",
    "circle2 = Circle2(point2, 3)\n",
    "print(circle)\n",
    "print(circle2)\n",
    "print(circle.collision(circle2))"
   ]
  },
  {
   "cell_type": "code",
   "execution_count": 79,
   "metadata": {},
   "outputs": [],
   "source": [
    "#Rectangle class 작성\n",
    "# 사각형은 두개의 Porint로 표현이 가능하다.\n",
    "# 면적, 둘레, 대각선, 중심점을 찾는 함수와 출력하는 함수를 작성하시오\n",
    "# 출력은 면적, 둘레, 대각선, 중심점을 출력한다.\n",
    "import math\n",
    "\n",
    "class Point: #2차원에서의 한점\n",
    "    def __init__(self, x, y):\n",
    "        self.x = x\n",
    "        self.y = y\n",
    "    def __repr__(self):\n",
    "        return \"좌표는 (%d, %d)\" %(self.x, self.y)\n",
    "    def dist(self, other): #거리값계산, 둘다 poinr의 객체여야 된다. (x,y값이 존재해야 하므로)\n",
    "        distance = math.sqrt((self.x-other.x)**2 + (self.y-other.y)**2) #피타고라스 정리\n",
    "        return distance\n",
    "    def collision(self, other): #충동하냐 안하냐\n",
    "        return self.dist(other)<3 #3은 임의의 값\n",
    "\n",
    "class Rectangle: #2차원에서의 한점\n",
    "    def __init__(self, point1, point2):\n",
    "        self.point1 = Point(*point1)\n",
    "        self.point2 = Point(*point2)\n",
    "    def __repr__(self):\n",
    "        return \"좌표1은 (%d, %d), 좌표2는 (%d, %d)\" %(self.point1.x, self.point1.y, self.point2.x, self.point2.y)\n",
    "    def dist(self): #대각선 길이\n",
    "        distance = math.sqrt((self.point1.x-self.point2.x)**2 + (self.point1.y-self.point2.y)**2) \n",
    "        return distance\n",
    "    def center(self): #중심점\n",
    "        return abs(self.point1.x-self.point2.x), abs(self.point1.y-self.point2.y)\n",
    "    def circumference(self): #둘레\n",
    "        cir = abs(self.point1.x-self.point2.x)*2 + abs(self.point1.y-self.point2.y)*2\n",
    "        return cir\n",
    "    def area(self):\n",
    "        rec_area = abs(self.point1.x-self.point2.x) * abs(self.point1.y-self.point2.y)\n",
    "        return rec_area"
   ]
  },
  {
   "cell_type": "code",
   "execution_count": 84,
   "metadata": {},
   "outputs": [
    {
     "name": "stdout",
     "output_type": "stream",
     "text": [
      "좌표1은 (1, 2), 좌표2는 (3, 4)\n",
      "대각선 길이는  2.8284271247461903\n",
      "중심점은  (2, 2)\n",
      "둘레 길이는  8\n",
      "면적은  4\n"
     ]
    }
   ],
   "source": [
    "rec1 = Rectangle((1,2),(3,4))\n",
    "print(rec1)\n",
    "print(\"대각선 길이는 \",rec1.dist())\n",
    "print(\"중심점은 \",rec1.center())\n",
    "print(\"둘레 길이는 \",rec1.circumference())\n",
    "print(\"면적은 \",rec1.area())"
   ]
  },
  {
   "cell_type": "code",
   "execution_count": 140,
   "metadata": {},
   "outputs": [],
   "source": [
    "#Rectangle class 작성\n",
    "# 사각형은 두개의 Porint로 표현이 가능하다.\n",
    "# 면적, 둘레, 대각선, 중심점을 찾는 함수와 출력하는 함수를 작성하시오\n",
    "# 출력은 면적, 둘레, 대각선, 중심점을 출력한다.\n",
    "import math\n",
    "\n",
    "class Rectangle2: #2차원에서의 한점\n",
    "    def __init__(self, point1, point2):\n",
    "        self.point1 = point1\n",
    "        self.point2 = point2\n",
    "    def __repr__(self):\n",
    "        return \"두점 : (%d,%d),(%d,%d) 의 면적 %d, 둘레 %d, 대각선 %d\" %(\n",
    "            self.point1.x, self.point2.x, self.point2.y, self.point2.y, self.areaclac(), self.circumference(), self.dist())\n",
    "    def dist(self): #대각선 길이\n",
    "        distance = math.sqrt((self.point1.x-self.point2.x)**2 + (self.point1.y-self.point2.y)**2) \n",
    "        return distance\n",
    "    def center(self): #중심점\n",
    "        return abs(self.point1.x-self.point2.x), abs(self.point1.y-self.point2.y)\n",
    "    def circumference(self): #둘레\n",
    "        cir = abs(self.point1.x-self.point2.x)*2 + abs(self.point1.y-self.point2.y)*2\n",
    "        return cir\n",
    "    def areaclac(self):\n",
    "        area = abs((self.point1.x-self.point2.x) * (self.point1.y-self.point2.y))\n",
    "        return area"
   ]
  },
  {
   "cell_type": "code",
   "execution_count": 141,
   "metadata": {},
   "outputs": [
    {
     "name": "stdout",
     "output_type": "stream",
     "text": [
      "두점 : (7,4),(7,7) 의 면적 12, 둘레 14, 대각선 5\n",
      "사각형의 둘레는 =  14\n",
      "사각형의 면적은 =  12\n"
     ]
    }
   ],
   "source": [
    "point1 = Point(7,3)\n",
    "point2 = Point(4,7)\n",
    "rect = Rectangle2(point1, point2)\n",
    "print(rect)\n",
    "print(\"사각형의 둘레는 = \", str(rect.circumference()))\n",
    "print(\"사각형의 면적은 = \", str(rect.areaclac()))"
   ]
  },
  {
   "cell_type": "code",
   "execution_count": 126,
   "metadata": {},
   "outputs": [],
   "source": [
    "#2차원 벡터\n",
    "class Vector:\n",
    "    def __init__(self,x,y):\n",
    "        self.x = x\n",
    "        self.y = y\n",
    "    def __repr__(self):\n",
    "        return \"(좌표는 %d, %d)\" %(self.x, self.y)\n",
    "    def __add__(self, other): #재정의를 통해 연산자 오버로딩\n",
    "        return Vector(self.x + other.x, self.y + other.y)\n",
    "    def __mul__(self, other):\n",
    "        return Vector(self.x*other.x, self.y*other.y)\n",
    "    def __sub__(self, other):\n",
    "        return Vector(self.x-other.x, self.y-other.y)\n",
    "    def __truediv__(self, other):\n",
    "        return Vector(self.x/other.x, self.y/other.y)"
   ]
  },
  {
   "cell_type": "code",
   "execution_count": 127,
   "metadata": {},
   "outputs": [
    {
     "name": "stdout",
     "output_type": "stream",
     "text": [
      "(좌표는 100, 23)\n",
      "(좌표는 20, 27)\n",
      "(좌표는 200, 46)\n",
      "(좌표는 0, 0)\n",
      "(좌표는 10000, 529)\n",
      "(좌표는 1, 1)\n"
     ]
    }
   ],
   "source": [
    "f = Vector(100,23)\n",
    "g = Vector(20,27)\n",
    "print(f)\n",
    "print(g)\n",
    "print(f+f) #연산자 오버로딩을 재정의하였기 때문에 +,-,*,/의 의미를 바꾸어 놓았다.\n",
    "print(f-f)\n",
    "print(f*f)\n",
    "print(f/f)"
   ]
  },
  {
   "cell_type": "code",
   "execution_count": 146,
   "metadata": {},
   "outputs": [],
   "source": [
    "#Vector를 3개의 요소(x,y,z)로 확장하고 연산자 오버로딩인 __add__, __mul__을 재졍의 하시오.\n",
    "#좌표값을 출력하는 함수도 작성하시오.\n",
    "\n",
    "#3차원 벡터\n",
    "class Vector3D:\n",
    "    def __init__(self,x,y,z):\n",
    "        self.x = x\n",
    "        self.y = y\n",
    "        self.z = z\n",
    "    def __repr__(self):\n",
    "        return \"(좌표는 %d, %d, %d)\" %(self.x, self.y, self.z)\n",
    "    def __add__(self, other): #재정의를 통해 연산자 오버로딩\n",
    "        return Vector(self.x+other.x, self.y+other.y, self.z + other.z)\n",
    "    def __mul__(self, other):\n",
    "        return Vector(self.x*other.x, self.y*other.y, self.z * other.z)\n",
    "    def __sub__(self, other):\n",
    "        return Vector(self.x-other.x, self.y-other.y, self.z - other.z)\n",
    "    def norm(self): #norm = 벡터의 방향(벡터의 방향은 요소끼리 곱한것을 다 더한것)\n",
    "        return math.sqrt(self.x**2 + self.y**2 + self.z**2)\n",
    "    def normalize(self): #norm으로 나누어준다.\n",
    "        norm = self.norm()\n",
    "        return self.x/norm, self.y/norm, self.z/norm\n",
    "    def dot(self, other): #내적(두점일때의 벡터의 방향)\n",
    "        return (self.x*other.x + self.y*other.y + self.z*other.z)\n",
    "    def theta(self, other): #내적사이각\n",
    "        dot = self.dot(other) #내적(방향) 값\n",
    "        norm1 = self.norm()\n",
    "        norm2 = other.norm()\n",
    "        costheta = dot/(norm1*norm2) #내적(방향값)에 두개의 점에서 원점과의 직선값을 구한것을 모두 곱해 나누어 주었다. \n",
    "        return math.acos(dot/(norm1*norm2)) * (180/math.pi) #각도로 바꿔주기위해 곱하는 것이다."
   ]
  },
  {
   "cell_type": "code",
   "execution_count": 147,
   "metadata": {},
   "outputs": [
    {
     "name": "stdout",
     "output_type": "stream",
     "text": [
      "(좌표는 10, 0, 0)\n",
      "(좌표는 0, 27, 0)\n",
      "(좌표는 20, 0, 0)\n",
      "(좌표는 0, 0, 0)\n",
      "(좌표는 100, 0, 0)\n",
      "f 벡터의 크기  10.0\n",
      "두 벡터의 내적  0\n",
      "두 벡터의 사이각은  90.0\n"
     ]
    }
   ],
   "source": [
    "f = Vector3D(10,0,0)\n",
    "g = Vector3D(0,27,0)\n",
    "print(f)\n",
    "print(g)\n",
    "print(f+f) #연산자 오버로딩을 재정의하였기 때문에 +,-,*,/의 의미를 바꾸어 놓았다.\n",
    "print(f-f)\n",
    "print(f*f)\n",
    "print(\"f 벡터의 크기 \",f.norm())\n",
    "print(\"두 벡터의 내적 \", g.dot(f)) #내적이 0이면 두직선은 직교하고 사이각은 90도가 된다.\n",
    "print(\"두 벡터의 사이각은 \", g.theta(f))"
   ]
  },
  {
   "cell_type": "code",
   "execution_count": 150,
   "metadata": {},
   "outputs": [
    {
     "name": "stdout",
     "output_type": "stream",
     "text": [
      "[1, 2, 3]\n",
      "[4, 5, [1, 2, 3]]\n",
      "[[1, 2, 3], [4, 5, [1, 2, 3]], 100]\n",
      "[[1, 2, 3], [4, 5, [1, 2, 3]], 100]\n",
      "[[1, 2, 3], [4, 5, [1, 2, 3]], 100]\n",
      "[[1, 2, 3], [4, 5, [1, 2, 3]], 100]\n",
      "-----\n",
      "[[1, 2, 3, 100], [4, 5, [1, 2, 3, 100]], 100]\n",
      "[[1, 2, 3, 100], [4, 5, [1, 2, 3, 100]], 100]\n",
      "[[1, 2, 3], [4, 5, [1, 2, 3]], 100]\n",
      "[[1, 2, 3], [4, 5, [1, 2, 3]], 100]\n"
     ]
    }
   ],
   "source": [
    "#클래스를 다른변수에 대입하면 주소복사가 되고 데이터를 그대로 하나를 더 만드려면 deepcopy를 해야한다.\n",
    "#pointer로 하기때문에 이런 문제가 생긴다.\n",
    "import copy\n",
    "a = [1,2,3]\n",
    "b = [4,5,a] #2차원배열\n",
    "x = [a,b,100] #3차원배열\n",
    "y = copy.copy(x) #주소값복사\n",
    "t = copy.deepcopy(x) #공간을 확보하고 데이터를 복사한다.\n",
    "e = copy.deepcopy(y)\n",
    "print(a)\n",
    "print(b)\n",
    "print(x)\n",
    "print(y) #y값은 x값을 복사\n",
    "print(t) #t값은 x값은 deepcopy\n",
    "print(e)\n",
    "a.append(100)\n",
    "print(\"-----\")\n",
    "print(x)\n",
    "print(y)\n",
    "print(t)\n",
    "print(e)"
   ]
  },
  {
   "cell_type": "code",
   "execution_count": 9,
   "metadata": {},
   "outputs": [],
   "source": [
    "#문제 : 이름, 국어, 영어, 수학을 관리하는 Student Class를 1인분을 기준으로 작성하시오.\n",
    "\n",
    "class Student: #클래스는 1차원으로 가능\n",
    "    count = 0\n",
    "    def __init__(self, name, kor, eng, math):\n",
    "        self.name = name\n",
    "        self.kor = int(kor)\n",
    "        self.eng = int(eng)\n",
    "        self.math = int(math)\n",
    "        Student.count += 1\n",
    "    def total(self):\n",
    "        total = self.kor + self.eng + self.math\n",
    "        return total\n",
    "    def avg(self):\n",
    "        total = self.total()\n",
    "        avg = round(total/3,2)\n",
    "        return avg"
   ]
  },
  {
   "cell_type": "code",
   "execution_count": 12,
   "metadata": {},
   "outputs": [
    {
     "name": "stdout",
     "output_type": "stream",
     "text": [
      "1.입력, 2.출력, 3.계산, 4.종료 =>1\n",
      "이름을 입력하시오정예원\n",
      "국어점수 : 80\n",
      "영어점수 : 90\n",
      "수학점수 : 100\n",
      "1.입력, 2.출력, 3.계산, 4.종료 =>2\n",
      "이름 :  정예원 , 국어 :  80 , 영어 :  90 , 수학 :  100 , 총점 :  270 , 평균 :  90.0\n",
      "1.입력, 2.출력, 3.계산, 4.종료 =>3\n",
      "총 학생수 : 1 명\n",
      "국어평균 : 80, 영어평균 : 90, 수학평균 : 100\n",
      "1.입력, 2.출력, 3.계산, 4.종료 =>4\n"
     ]
    }
   ],
   "source": [
    "#전역함수\n",
    "def start():\n",
    "    student = []\n",
    "    while True : \n",
    "        choice = input(\"1.입력, 2.출력, 3.계산, 4.종료 =>\")\n",
    "        if choice=='1':\n",
    "            name=input(\"이름을 입력하시오\")\n",
    "            kor=input(\"국어점수 : \")\n",
    "            eng=input(\"영어점수 : \")\n",
    "            math=input(\"수학점수 : \")\n",
    "            stud = Student(name,kor,eng,math)\n",
    "            student.append(stud)\n",
    "        elif choice=='2':\n",
    "            for s in student:\n",
    "                print(\"이름 : \", s.name, \", 국어 : \", s.kor, \", 영어 : \", s.eng, \", 수학 : \", s.math ,\", 총점 : \", s.total(), \", 평균 : \", s.avg())\n",
    "        elif choice=='3':\n",
    "            kor_tot = 0; mat_tot = 0; eng_tot = 0;\n",
    "            for s in student:\n",
    "                kor_tot+=s.kor\n",
    "                eng_tot+=s.eng\n",
    "                mat_tot+=s.math\n",
    "            kor_avg = round(kor_tot/len(student),2)\n",
    "            eng_avg = round(eng_tot/len(student),2)\n",
    "            mat_avg = round(mat_tot/len(student),2)\n",
    "            print(\"총 학생수 : %s 명\" %len(student))\n",
    "            print(\"국어평균 : %d, 영어평균 : %d, 수학평균 : %d\" %(kor_avg, eng_avg, mat_avg))\n",
    "        elif choice=='4':\n",
    "            break\n",
    "start()"
   ]
  },
  {
   "cell_type": "code",
   "execution_count": null,
   "metadata": {},
   "outputs": [],
   "source": [
    "#위의 프로그램을 다음과 같이 수정하시오\n",
    "#1. student class에서 할일을 모두 하나의 클래스로 생성하라. \n",
    "# - 입력, 계산(개별점수를 수정하면 계산으로 수정하기 위해서), 출력, 평균계산, 평균출력 으로 함수를 세분화 해줘야 재사용이 가능하다.\n",
    "#함수는 가능한한 세분화 시켜서 단위작업별로 재사용이 가능하도록 해줘야 한다.\n",
    "#2. 함수에서 메뉴를 만들어서 실행하는것으로 수정하시오\n",
    "#3. 함수도 클래스로 구현하시오.\n",
    "#3개로 분리 - student class, management class(C생성R입력U수정D삭제+검색), memu class\n",
    "#출력repr로 오버라이딩해서 해라.\n",
    "\n",
    "class Student:\n",
    "    count = 0\n",
    "    def __init__(self, name, kor, eng, math):\n",
    "        self.name = name\n",
    "        self.kor = int(kor)\n",
    "        self.eng = int(eng)\n",
    "        self.math = int(math)\n",
    "        Student.count += 1\n",
    "    def total(self):\n",
    "        total = self.kor + self.eng + self.math\n",
    "        return total\n",
    "    def avg(self):\n",
    "        total = self.total()\n",
    "        avg = round(total/3,2)\n",
    "        return avg\n",
    "    def __repr__(self):\n",
    "        return self.name+\"의 국어점수 : \"+str(self.kor)+\", 영어점수 : \"+str(self.eng)+\", 수학점수 : \"+str(self.math)\n",
    "    def printcalc(self):\n",
    "        print(self.name + \"의 총점은 \" + str(self.total()) + \"점 이고, 평균은 \" + str(self.avg()) + \"입니다.\")\n",
    "    def displaycount(self):\n",
    "        print(\"총 학생수는 \", Student.count, \"명 입니다.\")\n",
    "\n",
    "class Inputinfo:\n",
    "    def __init__(self):\n",
    "            self.name=input(\"이름을 입력하시오\")\n",
    "            self.kor=input(\"국어점수 : \")\n",
    "            self.eng=input(\"영어점수 : \")\n",
    "            self.math=input(\"수학점수 : \")\n",
    "            self.stu = Student(self.name, self.kor, self.eng, self.math)\n",
    "    def getinfo(self):\n",
    "        return self.stu\n",
    "\n",
    "class Update:\n",
    "    def __init__(self):\n",
    "        self.name=input(\"수정할 학생의 이름을 입력하시오\")\n",
    "        self.find(self.name)\n",
    "    def find(self, name):\n",
    "        for i in range(len(Start.student)):\n",
    "            if Start.student[i][0]==name:\n",
    "                Start.student[i].kor=input(\"수정된 국어점수 : \")\n",
    "                Start.student[i].eng=input(\"수정된 영어점수 : \")\n",
    "                Start.student[i].math=input(\"수정된 수학점수 : \")\n",
    "            else: print(\"이름이 잘못입력되었습니다.\")\n",
    "\n",
    "class Start:\n",
    "    student = []\n",
    "    while True : \n",
    "        choice = input(\"1.입력, 2.출력, 3.계산, 4.수정, 5.종료 =>\")\n",
    "        if choice=='1':\n",
    "            stu = Inputinfo()\n",
    "            student.append(stu.getinfo())\n",
    "        elif choice=='2':\n",
    "            for i in range(len(student)):\n",
    "                print(student[i])\n",
    "        elif choice=='3':\n",
    "            for i in range(len(student)):\n",
    "                student[i].printcalc()\n",
    "                student[i].displaycount()\n",
    "        elif choice=='4':\n",
    "            Update()\n",
    "        elif choice=='5':\n",
    "            break\n",
    "    "
   ]
  },
  {
   "cell_type": "code",
   "execution_count": 16,
   "metadata": {},
   "outputs": [],
   "source": []
  },
  {
   "cell_type": "code",
   "execution_count": null,
   "metadata": {},
   "outputs": [],
   "source": []
  },
  {
   "cell_type": "code",
   "execution_count": null,
   "metadata": {},
   "outputs": [],
   "source": []
  },
  {
   "cell_type": "code",
   "execution_count": null,
   "metadata": {},
   "outputs": [],
   "source": []
  }
 ],
 "metadata": {
  "kernelspec": {
   "display_name": "Python 3",
   "language": "python",
   "name": "python3"
  },
  "language_info": {
   "codemirror_mode": {
    "name": "ipython",
    "version": 3
   },
   "file_extension": ".py",
   "mimetype": "text/x-python",
   "name": "python",
   "nbconvert_exporter": "python",
   "pygments_lexer": "ipython3",
   "version": "3.7.6"
  }
 },
 "nbformat": 4,
 "nbformat_minor": 4
}
